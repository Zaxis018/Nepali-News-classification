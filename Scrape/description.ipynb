{
 "cells": [
  {
   "cell_type": "code",
   "execution_count": 19,
   "id": "b8a47faa",
   "metadata": {},
   "outputs": [
    {
     "name": "stdout",
     "output_type": "stream",
     "text": [
      "                                           description\n",
      "0    विराटनगर महानगर–पालिकाभित्र कतिपय बालबालिकाले ...\n",
      "1    \\n\\t\\t\\t\\t\\t\\t\\t\\t\\t\\t\\t\\tकाठमाडौँको कलङ्कीस्थ...\n",
      "2    \\n\\t\\t\\t\\t\\t\\t\\t\\t\\t\\t\\t\\tपाँचथरको फिदिम नगरपा...\n",
      "3    \\n\\t\\t\\t\\t\\t\\t\\t\\t\\t\\t\\t\\tउपप्रधानमन्त्री एवम्...\n",
      "4    \\n\\t\\t\\t\\t\\t\\t\\t\\t\\t\\t\\t\\tपुस्तक पढे ज्ञान बढ्...\n",
      "..                                                 ...\n",
      "470  राजन रावतहुुम्ला, वैशाख ८ गते । यस पटकको माध्य...\n",
      "471  \\n\\t\\t\\t\\t\\t\\t\\t\\t\\t\\t\\t\\tपुराना प्रश्नपत्रको ...\n",
      "472  \\n\\t\\t\\t\\t\\t\\t\\t\\t\\t\\t\\t\\tमधेसी र मुस्लिम छात्...\n",
      "473  \\n\\t\\t\\t\\t\\t\\t\\t\\t\\t\\t\\t\\tराजन रावतहुुम्ला, वै...\n",
      "474  \\n\\t\\t\\t\\t\\t\\t\\t\\t\\t\\t\\t\\tगत २०७८ सालको माध्यम...\n",
      "\n",
      "[475 rows x 1 columns]\n"
     ]
    }
   ],
   "source": [
    "# import module\n",
    "import requests\n",
    "import pandas as pd\n",
    "from bs4 import BeautifulSoup\n",
    "key = 'description'\n",
    "a={}\n",
    "for i in range(1,49):\n",
    "    t = str(i)\n",
    "    url = 'https://gorkhapatraonline.com/categories/education?page='+ t\n",
    "    htmldata = getdata(url)\n",
    "    soup = BeautifulSoup(htmldata, 'html.parser')\n",
    "    data = ''\n",
    "    a.setdefault(key, [])\n",
    "    for data in soup.find_all('p',{'class':'clamp-base clamp-3'}):\n",
    "        \n",
    "        \n",
    "        a[key].append(data.get_text())\n",
    "        \n",
    "       \n",
    "df = pd.DataFrame(a)\n",
    "print(df)\n",
    "df.to_csv('description.csv', index = False)\n",
    "\n",
    "\n",
    "\n",
    "\n",
    "# link for extract html data\n",
    "def getdata(url):\n",
    "\tr = requests.get(url)\n",
    "\treturn r.text\n",
    "\n"
   ]
  },
  {
   "cell_type": "code",
   "execution_count": null,
   "id": "9eba1b78",
   "metadata": {},
   "outputs": [],
   "source": []
  }
 ],
 "metadata": {
  "kernelspec": {
   "display_name": "Python 3 (ipykernel)",
   "language": "python",
   "name": "python3"
  },
  "language_info": {
   "codemirror_mode": {
    "name": "ipython",
    "version": 3
   },
   "file_extension": ".py",
   "mimetype": "text/x-python",
   "name": "python",
   "nbconvert_exporter": "python",
   "pygments_lexer": "ipython3",
   "version": "3.10.9"
  }
 },
 "nbformat": 4,
 "nbformat_minor": 5
}
