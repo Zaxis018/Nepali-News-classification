{
  "nbformat": 4,
  "nbformat_minor": 0,
  "metadata": {
    "colab": {
      "provenance": [],
      "gpuType": "T4"
    },
    "kernelspec": {
      "name": "python3",
      "display_name": "Python 3"
    },
    "language_info": {
      "name": "python"
    },
    "accelerator": "GPU",
    "gpuClass": "standard"
  },
  "cells": [
    {
      "cell_type": "code",
      "source": [
        "!pip install h5py pyyaml\n",
        "!pip install tensorflow_text\n",
        "!pip install tensorflow-text --no-dependencies"
      ],
      "metadata": {
        "id": "FsSL7qkSSj1q"
      },
      "execution_count": null,
      "outputs": []
    },
    {
      "cell_type": "code",
      "execution_count": null,
      "metadata": {
        "id": "M-U_velxDdCb"
      },
      "outputs": [],
      "source": [
        "import tensorflow as tf\n",
        "import keras\n",
        "import tensorflow_hub as hub\n",
        "import os\n",
        "import tensorflow_text as text"
      ]
    },
    {
      "cell_type": "code",
      "source": [
        "from google.colab import drive\n",
        "drive.mount('/content/drive')"
      ],
      "metadata": {
        "id": "RZzVWEYIDjEV",
        "colab": {
          "base_uri": "https://localhost:8080/"
        },
        "outputId": "87071803-8d30-4371-bb47-1a5f106e3e36"
      },
      "execution_count": null,
      "outputs": [
        {
          "output_type": "stream",
          "name": "stdout",
          "text": [
            "Mounted at /content/drive\n"
          ]
        }
      ]
    },
    {
      "cell_type": "code",
      "source": [
        "!pip install --upgrade tensorflow\n",
        "!pip install tensorflow-hub"
      ],
      "metadata": {
        "id": "Zc-clpZgN_XG"
      },
      "execution_count": null,
      "outputs": []
    },
    {
      "cell_type": "code",
      "source": [
        "import tensorflow as tf\n",
        "print(tf.__version__)"
      ],
      "metadata": {
        "colab": {
          "base_uri": "https://localhost:8080/"
        },
        "id": "gCof-yHMBlE8",
        "outputId": "373562b8-1429-4bd4-feb5-86995873ef01"
      },
      "execution_count": null,
      "outputs": [
        {
          "output_type": "stream",
          "name": "stdout",
          "text": [
            "2.12.0\n"
          ]
        }
      ]
    },
    {
      "cell_type": "code",
      "source": [
        "#load the saved model\n",
        "loaded_model = tf.keras.models.load_model(\"/content/drive/MyDrive/fake_news_detection/model3.h5\",custom_objects={'KerasLayer':hub.KerasLayer})"
      ],
      "metadata": {
        "id": "iTnRBvIsEEpN"
      },
      "execution_count": null,
      "outputs": []
    },
    {
      "cell_type": "code",
      "source": [
        "loaded_model.summary()"
      ],
      "metadata": {
        "colab": {
          "base_uri": "https://localhost:8080/"
        },
        "id": "0ACMXIxwR2eW",
        "outputId": "4b246071-615d-4de8-ba7c-10d7292fee8a"
      },
      "execution_count": null,
      "outputs": [
        {
          "output_type": "stream",
          "name": "stdout",
          "text": [
            "Model: \"model\"\n",
            "__________________________________________________________________________________________________\n",
            " Layer (type)                   Output Shape         Param #     Connected to                     \n",
            "==================================================================================================\n",
            " text (InputLayer)              [(None,)]            0           []                               \n",
            "                                                                                                  \n",
            " keras_layer (KerasLayer)       {'input_mask': (Non  0           ['text[0][0]']                   \n",
            "                                e, 128),                                                          \n",
            "                                 'input_word_ids':                                                \n",
            "                                (None, 128),                                                      \n",
            "                                 'input_type_ids':                                                \n",
            "                                (None, 128)}                                                      \n",
            "                                                                                                  \n",
            " keras_layer_1 (KerasLayer)     {'default': (None,   177853441   ['keras_layer[0][0]',            \n",
            "                                768),                             'keras_layer[0][1]',            \n",
            "                                 'pooled_output': (               'keras_layer[0][2]']            \n",
            "                                None, 768),                                                       \n",
            "                                 'encoder_outputs':                                               \n",
            "                                 [(None, 128, 768),                                               \n",
            "                                 (None, 128, 768),                                                \n",
            "                                 (None, 128, 768),                                                \n",
            "                                 (None, 128, 768),                                                \n",
            "                                 (None, 128, 768),                                                \n",
            "                                 (None, 128, 768),                                                \n",
            "                                 (None, 128, 768),                                                \n",
            "                                 (None, 128, 768),                                                \n",
            "                                 (None, 128, 768),                                                \n",
            "                                 (None, 128, 768),                                                \n",
            "                                 (None, 128, 768),                                                \n",
            "                                 (None, 128, 768)],                                               \n",
            "                                 'sequence_output':                                               \n",
            "                                 (None, 128, 768)}                                                \n",
            "                                                                                                  \n",
            " hidden1 (Dropout)              (None, 768)          0           ['keras_layer_1[0][13]']         \n",
            "                                                                                                  \n",
            " dropout1 (Dense)               (None, 264)          203016      ['hidden1[0][0]']                \n",
            "                                                                                                  \n",
            " hidden_2 (Dense)               (None, 64)           16960       ['dropout1[0][0]']               \n",
            "                                                                                                  \n",
            " dropout2 (Dense)               (None, 1)            65          ['hidden_2[0][0]']               \n",
            "                                                                                                  \n",
            "==================================================================================================\n",
            "Total params: 178,073,482\n",
            "Trainable params: 220,041\n",
            "Non-trainable params: 177,853,441\n",
            "__________________________________________________________________________________________________\n"
          ]
        }
      ]
    },
    {
      "cell_type": "code",
      "source": [
        "import pandas as pd\n",
        "df = pd.read_csv(\"/content/drive/MyDrive/fake_news_detection/News_dataset.csv\")\n",
        "df.head()"
      ],
      "metadata": {
        "colab": {
          "base_uri": "https://localhost:8080/",
          "height": 206
        },
        "id": "Yg8U3BN6BtP1",
        "outputId": "3422c33a-d80f-4fb6-94c5-6fd0774117ca"
      },
      "execution_count": null,
      "outputs": [
        {
          "output_type": "execute_result",
          "data": {
            "text/plain": [
              "                                               Title  \\\n",
              "0                      मिस नेपाल २०२२काे आवेदन खुला    \n",
              "1  वीर मुस्लिम विद्यार्थीले यहूदी महिलालाई हिंस्र...   \n",
              "2    भीमफेदी–कुलेखानी सुरुङमार्ग ६ परामर्शदाता छनोट    \n",
              "3  स्यान्डर्स अभियानले DNC बिरूद्ध मुद्दा फिर्ता ...   \n",
              "4         वामपन्थी नेता विष्णुबहादुर मानन्धरको निधन    \n",
              "\n",
              "                                         Description  label  \n",
              "0  काठमाडौं वैशाख ६ गते मिस नेपाल २०२२का आवेदन खु...      0  \n",
              "1  १७ वर्षीय अहमद खलिफाले घृणित ब्रुकलिन सबवे ट्र...      1  \n",
              "2  प्रदेश राजधानी हेटौंडा संघीय राजधानी काठमाडौंब...      0  \n",
              "3  तपाईले महिना याद बर्नी स्यान्डर्स अभियानले DNC...      1  \n",
              "4  वरिष्ठ वामपन्थी नेता विष्णुबहादुर मानन्धरको नि...      0  "
            ],
            "text/html": [
              "\n",
              "  <div id=\"df-99728d6f-5ca1-451e-917c-f9e42bce5642\">\n",
              "    <div class=\"colab-df-container\">\n",
              "      <div>\n",
              "<style scoped>\n",
              "    .dataframe tbody tr th:only-of-type {\n",
              "        vertical-align: middle;\n",
              "    }\n",
              "\n",
              "    .dataframe tbody tr th {\n",
              "        vertical-align: top;\n",
              "    }\n",
              "\n",
              "    .dataframe thead th {\n",
              "        text-align: right;\n",
              "    }\n",
              "</style>\n",
              "<table border=\"1\" class=\"dataframe\">\n",
              "  <thead>\n",
              "    <tr style=\"text-align: right;\">\n",
              "      <th></th>\n",
              "      <th>Title</th>\n",
              "      <th>Description</th>\n",
              "      <th>label</th>\n",
              "    </tr>\n",
              "  </thead>\n",
              "  <tbody>\n",
              "    <tr>\n",
              "      <th>0</th>\n",
              "      <td>मिस नेपाल २०२२काे आवेदन खुला</td>\n",
              "      <td>काठमाडौं वैशाख ६ गते मिस नेपाल २०२२का आवेदन खु...</td>\n",
              "      <td>0</td>\n",
              "    </tr>\n",
              "    <tr>\n",
              "      <th>1</th>\n",
              "      <td>वीर मुस्लिम विद्यार्थीले यहूदी महिलालाई हिंस्र...</td>\n",
              "      <td>१७ वर्षीय अहमद खलिफाले घृणित ब्रुकलिन सबवे ट्र...</td>\n",
              "      <td>1</td>\n",
              "    </tr>\n",
              "    <tr>\n",
              "      <th>2</th>\n",
              "      <td>भीमफेदी–कुलेखानी सुरुङमार्ग ६ परामर्शदाता छनोट</td>\n",
              "      <td>प्रदेश राजधानी हेटौंडा संघीय राजधानी काठमाडौंब...</td>\n",
              "      <td>0</td>\n",
              "    </tr>\n",
              "    <tr>\n",
              "      <th>3</th>\n",
              "      <td>स्यान्डर्स अभियानले DNC बिरूद्ध मुद्दा फिर्ता ...</td>\n",
              "      <td>तपाईले महिना याद बर्नी स्यान्डर्स अभियानले DNC...</td>\n",
              "      <td>1</td>\n",
              "    </tr>\n",
              "    <tr>\n",
              "      <th>4</th>\n",
              "      <td>वामपन्थी नेता विष्णुबहादुर मानन्धरको निधन</td>\n",
              "      <td>वरिष्ठ वामपन्थी नेता विष्णुबहादुर मानन्धरको नि...</td>\n",
              "      <td>0</td>\n",
              "    </tr>\n",
              "  </tbody>\n",
              "</table>\n",
              "</div>\n",
              "      <button class=\"colab-df-convert\" onclick=\"convertToInteractive('df-99728d6f-5ca1-451e-917c-f9e42bce5642')\"\n",
              "              title=\"Convert this dataframe to an interactive table.\"\n",
              "              style=\"display:none;\">\n",
              "        \n",
              "  <svg xmlns=\"http://www.w3.org/2000/svg\" height=\"24px\"viewBox=\"0 0 24 24\"\n",
              "       width=\"24px\">\n",
              "    <path d=\"M0 0h24v24H0V0z\" fill=\"none\"/>\n",
              "    <path d=\"M18.56 5.44l.94 2.06.94-2.06 2.06-.94-2.06-.94-.94-2.06-.94 2.06-2.06.94zm-11 1L8.5 8.5l.94-2.06 2.06-.94-2.06-.94L8.5 2.5l-.94 2.06-2.06.94zm10 10l.94 2.06.94-2.06 2.06-.94-2.06-.94-.94-2.06-.94 2.06-2.06.94z\"/><path d=\"M17.41 7.96l-1.37-1.37c-.4-.4-.92-.59-1.43-.59-.52 0-1.04.2-1.43.59L10.3 9.45l-7.72 7.72c-.78.78-.78 2.05 0 2.83L4 21.41c.39.39.9.59 1.41.59.51 0 1.02-.2 1.41-.59l7.78-7.78 2.81-2.81c.8-.78.8-2.07 0-2.86zM5.41 20L4 18.59l7.72-7.72 1.47 1.35L5.41 20z\"/>\n",
              "  </svg>\n",
              "      </button>\n",
              "      \n",
              "  <style>\n",
              "    .colab-df-container {\n",
              "      display:flex;\n",
              "      flex-wrap:wrap;\n",
              "      gap: 12px;\n",
              "    }\n",
              "\n",
              "    .colab-df-convert {\n",
              "      background-color: #E8F0FE;\n",
              "      border: none;\n",
              "      border-radius: 50%;\n",
              "      cursor: pointer;\n",
              "      display: none;\n",
              "      fill: #1967D2;\n",
              "      height: 32px;\n",
              "      padding: 0 0 0 0;\n",
              "      width: 32px;\n",
              "    }\n",
              "\n",
              "    .colab-df-convert:hover {\n",
              "      background-color: #E2EBFA;\n",
              "      box-shadow: 0px 1px 2px rgba(60, 64, 67, 0.3), 0px 1px 3px 1px rgba(60, 64, 67, 0.15);\n",
              "      fill: #174EA6;\n",
              "    }\n",
              "\n",
              "    [theme=dark] .colab-df-convert {\n",
              "      background-color: #3B4455;\n",
              "      fill: #D2E3FC;\n",
              "    }\n",
              "\n",
              "    [theme=dark] .colab-df-convert:hover {\n",
              "      background-color: #434B5C;\n",
              "      box-shadow: 0px 1px 3px 1px rgba(0, 0, 0, 0.15);\n",
              "      filter: drop-shadow(0px 1px 2px rgba(0, 0, 0, 0.3));\n",
              "      fill: #FFFFFF;\n",
              "    }\n",
              "  </style>\n",
              "\n",
              "      <script>\n",
              "        const buttonEl =\n",
              "          document.querySelector('#df-99728d6f-5ca1-451e-917c-f9e42bce5642 button.colab-df-convert');\n",
              "        buttonEl.style.display =\n",
              "          google.colab.kernel.accessAllowed ? 'block' : 'none';\n",
              "\n",
              "        async function convertToInteractive(key) {\n",
              "          const element = document.querySelector('#df-99728d6f-5ca1-451e-917c-f9e42bce5642');\n",
              "          const dataTable =\n",
              "            await google.colab.kernel.invokeFunction('convertToInteractive',\n",
              "                                                     [key], {});\n",
              "          if (!dataTable) return;\n",
              "\n",
              "          const docLinkHtml = 'Like what you see? Visit the ' +\n",
              "            '<a target=\"_blank\" href=https://colab.research.google.com/notebooks/data_table.ipynb>data table notebook</a>'\n",
              "            + ' to learn more about interactive tables.';\n",
              "          element.innerHTML = '';\n",
              "          dataTable['output_type'] = 'display_data';\n",
              "          await google.colab.output.renderOutput(dataTable, element);\n",
              "          const docLink = document.createElement('div');\n",
              "          docLink.innerHTML = docLinkHtml;\n",
              "          element.appendChild(docLink);\n",
              "        }\n",
              "      </script>\n",
              "    </div>\n",
              "  </div>\n",
              "  "
            ]
          },
          "metadata": {},
          "execution_count": 9
        }
      ]
    },
    {
      "cell_type": "code",
      "source": [
        "# split the data into training and test sets, with 80% of the data for training and 20% for testing\n",
        "from sklearn.model_selection import train_test_split\n",
        "X_train, X_test, y_train, y_test = train_test_split(df['Description'], df['label'], test_size=0.2, random_state=42)"
      ],
      "metadata": {
        "id": "Ttmr2jPKvmTH"
      },
      "execution_count": null,
      "outputs": []
    },
    {
      "cell_type": "code",
      "source": [
        "y_predicted = loaded_model.predict(X_test)\n"
      ],
      "metadata": {
        "colab": {
          "base_uri": "https://localhost:8080/"
        },
        "id": "ZaVeVHYzCAly",
        "outputId": "e0cd0fe8-c7b2-4b84-9447-7870e33bb0d1"
      },
      "execution_count": null,
      "outputs": [
        {
          "output_type": "stream",
          "name": "stdout",
          "text": [
            "119/119 [==============================] - 54s 423ms/step\n"
          ]
        }
      ]
    },
    {
      "cell_type": "code",
      "source": [
        "import numpy as np\n",
        "y_predicted=y_predicted.flatten()\n",
        "y_predicted = np.round(y_predicted,3)"
      ],
      "metadata": {
        "id": "gyn5p1iSCQRH"
      },
      "execution_count": null,
      "outputs": []
    },
    {
      "cell_type": "code",
      "source": [
        "y_predicted[:10]"
      ],
      "metadata": {
        "colab": {
          "base_uri": "https://localhost:8080/"
        },
        "id": "4VGsxOQQQLFr",
        "outputId": "839f0a8a-d983-4deb-b062-f5cf093b2217"
      },
      "execution_count": null,
      "outputs": [
        {
          "output_type": "execute_result",
          "data": {
            "text/plain": [
              "array([0.015, 0.997, 0.997, 0.   , 0.585, 0.   , 0.999, 0.998, 0.995,\n",
              "       0.   ], dtype=float32)"
            ]
          },
          "metadata": {},
          "execution_count": 13
        }
      ]
    },
    {
      "cell_type": "code",
      "source": [
        "import numpy as np\n",
        "y_test_array = y_test.values\n",
        "\n",
        "# use boolean indexing to select only the 0s and 1s\n",
        "y_test_01 = y_test_array[(y_test_array == 0) | (y_test_array == 1)]\n",
        "y_test_01=np.array(y_test_01)\n",
        "print(y_test_01)"
      ],
      "metadata": {
        "colab": {
          "base_uri": "https://localhost:8080/"
        },
        "id": "HuThMffuCcoU",
        "outputId": "caf3e544-f4c5-4f00-fed1-749444b14202"
      },
      "execution_count": null,
      "outputs": [
        {
          "output_type": "stream",
          "name": "stdout",
          "text": [
            "[0 1 1 ... 1 1 1]\n"
          ]
        }
      ]
    },
    {
      "cell_type": "code",
      "source": [
        "\n",
        "import matplotlib.pyplot as plt\n",
        "y_pred = y_predicted  # Make predictions on the test data\n",
        "y_pred_rounded = [round(pred) for pred in y_pred]  # Round the predictions to 0 or 1\n",
        "\n",
        "# Calculate the length of each description in the test data\n",
        "desc_lengths = [len(desc.split()) for desc in X_test]\n",
        "\n",
        "# Create two lists to store the x and y coordinates of the points to be plotted\n",
        "x_coords = []\n",
        "y_coords = []\n",
        "\n",
        "#for checking if plot  is working correctly\n",
        "\n",
        "    #y_pred=np.append(y_pred,0.6)\n",
        "    #y_pred=np.append(y_pred,0.4)\n",
        "\n",
        "    #desc_lengths=np.append(desc_lengths,1000)\n",
        "    #desc_lengths=np.append(desc_lengths,1000)\n",
        "    #plt.scatter(desc_lengths[0], y_pred[0], color='green')\n",
        "    #plt.scatter(desc_lengths[0], y_pred[0], color='red')\n",
        "\n",
        "# Iterate over the predictions and actual values and add the corresponding points to the lists\n",
        "plt.figure(figsize=(12, 10),alpha=0.1)\n",
        "for i in range(len(y_test_01)):\n",
        "\n",
        "    if y_pred_rounded[i] == y_test_01[i]:\n",
        "        color = 'green'  # If the prediction is correct, plot the point as green\n",
        "    else:\n",
        "        color = 'red'  # If the prediction is incorrect, plot the point as red\n",
        "    x_coords.append(desc_lengths[i])\n",
        "    y_coords.append(y_pred[i])\n",
        "\n",
        "    plt.scatter(desc_lengths[i], y_pred[i],s=1, color=color)\n",
        "\n",
        "# Set the x and y labels for the plot\n",
        "plt.xlabel('Length of description')\n",
        "plt.ylabel('Model prediction')\n",
        "\n",
        "\n",
        "#adding legend\n",
        "\n",
        "#correct_patch = plt.plot([],[], marker=\"o\", ms=5, ls=\"\", mec=None, color='green', label='Correct Prediction')\n",
        "#incorrect_patch = plt.plot([],[], marker=\"o\", ms=5, ls=\"\", mec=None, color='red', label='Incorrect Prediction')\n",
        "#plt.legend(handles=[correct_patch[0], incorrect_patch[0]])\n",
        "\n",
        "# Show the plot\n",
        "\n",
        "plt.ylim(-0.1,1.1)\n"
      ],
      "metadata": {
        "colab": {
          "base_uri": "https://localhost:8080/",
          "height": 867
        },
        "id": "zop9qE-lCg-7",
        "outputId": "c81458de-f831-4c64-b838-e9051416f66f"
      },
      "execution_count": null,
      "outputs": [
        {
          "output_type": "execute_result",
          "data": {
            "text/plain": [
              "(-0.1, 1.1)"
            ]
          },
          "metadata": {},
          "execution_count": 36
        },
        {
          "output_type": "display_data",
          "data": {
            "text/plain": [
              "<Figure size 1200x1000 with 1 Axes>"
            ],
            "image/png": "[encoded data removed]"
          },
          "metadata": {}
        }
      ]
    },
    {
      "cell_type": "code",
      "source": [
        "loaded_model.predict([[\"काठमाडौ ।आफूलाई सामाजिक अभियान्त बताउँदैै आएकी सर्मिला वाइवाले आफ्नो फेसबुकमा एक तस्बीर सेयर गर्दै वरिष्ठ पत्रकार ऋषि धमलालाई १ सय १० को जोरो आउने बनाउने लेखेकी छिन् ।राष्ट्रिय स्वतन्त्र पार्टीका सभापति रवि लामिछानेले पत्रकार सम्मेलन गर्दै ऋषि धमला सहित केही पत्रकारहरुलाई नामै तोकेर आरोप लगाएपछि अहिले सामाजिक सञ्जालमा चर्चाको बिषय बनेको छ ।अन्य समाचार / काठमाडौं । राष्ट्रिय स्वतन्त्र पार्टीका सभापति रवि लामिछानेले विशेष पत्रकार सम्मेलन गर्ने भएका छन् । रिक्त गृहमन्त्री पूर्तिको विषयले सत्तागठबन्धनमा समेत खटपट आइरहेको बेला लामिछानेले पत्रकार सम्मेलन गर्न लागेका हुन् ।गृहको सट्टा भौतिक पूर्वाधार मन्त्रालय लिन प्रधानमन्त्री प्रचण्डले रास्वपालाई प्रस्ताव गरेका छन् । गृहकै अडानमा रहेको उक्त पार्टीले प्रधानमन्त्रीको नयाँ प्रस्तावमा आवश्यक छलफल तथा निर्णय गर्न केहीबेरमा केन्द्रीय समिति र संसदीय दलको संयुक्त बैठक बोलाएको छ ।रविले बैठकलगत्तै पार्टी कार्यालयबाट विशेष पत्रकार सम्मेलन गर्ने जानकारी गराएका छन् ।उनले आफूले सीधा कुरा नगरेको धेरै भएकाले पत्रकार सम्मेलन हेर्न र सुन्न सबैमा अनुरोधसमेत गरेका छन् ।‘पार्टीको बैठकले आज ठोस निर्णय लिन्छ त्यो आफ्नै ठाउँमा छ । त्यसलगत्तै पार्टी कार्यालयबाट आज म विषेश पत्रकार सम्मेलन गर्दैछु । म चाहन्छु सिङ्गो देश र विदेशमा रहनुहुनेहरू सबैले आजको पत्रकार सम्मेलन हेरुन्, सुनुन् । मैले सीधा कुरा नगरेको धेरै भएछ’, रविले लेखेका छन् ।बिहीबार पनि उनले आफू अभिमन्यु नभएको भन्दै मौनता आजसम्म (बिहीबार) सम्मका लागि मात्र भएको चेतावनीपूर्ण स्टाटस लेखेका थिए ।काठमाडौ ।आफूलाई सामाजिक अभियान्त बताउँदैै आएकी सर्मिला वाइवाले आफ्नो फेसबुकमा एक तस्बीर सेयर गर्दै वरिष्ठ पत्रकार ऋषि धमलालाई १ सय १० को जोरो आउने बनाउने लेखेकी छिन् ।राष्ट्रिय स्वतन्त्र पार्टीका सभापति रवि लामिछानेले पत्रकार सम्मेलन गर्दै ऋषि धमला सहित केही पत्रकारहरुलाई नामै तोकेर आरोप लगाएपछि अहिले सामाजिक सञ्जालमा चर्चाको बिषय बनेको छ ।अन्य समाचार / काठमाडौं । राष्ट्रिय स्वतन्त्र पार्टीका सभापति रवि लामिछानेले विशेष पत्रकार सम्मेलन गर्ने भएका छन् । रिक्त गृहमन्त्री पूर्तिको विषयले सत्तागठबन्धनमा समेत खटपट आइरहेको बेला लामिछानेले पत्रकार सम्मेलन गर्न लागेका हुन् ।गृहको सट्टा भौतिक पूर्वाधार मन्त्रालय लिन प्रधानमन्त्री प्रचण्डले रास्वपालाई प्रस्ताव गरेका छन् । गृहकै अडानमा रहेको उक्त पार्टीले प्रधानमन्त्रीको नयाँ प्रस्तावमा आवश्यक छलफल तथा निर्णय गर्न केहीबेरमा केन्द्रीय समिति र संसदीय दलको संयुक्त बैठक बोलाएको छ ।रविले बैठकलगत्तै पार्टी कार्यालयबाट विशेष पत्रकार सम्मेलन गर्ने जानकारी गराएका छन् ।उनले आफूले सीधा कुरा नगरेको धेरै भएकाले पत्रकार सम्मेलन हेर्न र सुन्न सबैमा अनुरोधसमेत गरेका छन् ।‘पार्टीको बैठकले आज ठोस निर्णय लिन्छ त्यो आफ्नै ठाउँमा छ । त्यसलगत्तै पार्टी कार्यालयबाट आज म विषेश पत्रकार सम्मेलन गर्दैछु । म चाहन्छु सिङ्गो देश र विदेशमा रहनुहुनेहरू सबैले आजको पत्रकार सम्मेलन हेरुन्, सुनुन् । मैले सीधा कुरा नगरेको धेरै भएछ’, रविले लेखेका छन् ।बिहीबार पनि उनले आफू अभिमन्यु नभएको भन्दै मौनता आजसम्म (बिहीबार) सम्मका लागि मात्र भएको चेतावनीपूर्ण स्टाटस लेखेका थिए ।अध्यक्ष/प्रबन्ध निर्देशक – कृष्णराज अधिकारीप्रधान सम्पादक – माया अधिकारी\"]])"
      ],
      "metadata": {
        "id": "tgcF4tlPDi8X",
        "colab": {
          "base_uri": "https://localhost:8080/"
        },
        "outputId": "fbab5dcb-a49b-485a-c8b5-570c16c991d4"
      },
      "execution_count": null,
      "outputs": [
        {
          "output_type": "stream",
          "name": "stdout",
          "text": [
            "1/1 [==============================] - 2s 2s/step\n"
          ]
        },
        {
          "output_type": "execute_result",
          "data": {
            "text/plain": [
              "array([[0.00236249]], dtype=float32)"
            ]
          },
          "metadata": {},
          "execution_count": 9
        }
      ]
    },
    {
      "cell_type": "code",
      "source": [
        "import matplotlib.pyplot as plt\n",
        "from sklearn.metrics import precision_recall_curve\n",
        "\n",
        "\n",
        "# Calculate precision and recall values at different thresholds\n",
        "precision, recall, thresholds = precision_recall_curve(y_test, y_predicted)\n",
        "\n",
        "# Plot precision-recall curve against thresholds\n",
        "plt.plot(thresholds, precision[:-1], 'b-', label='Precision')\n",
        "plt.plot(thresholds, recall[:-1], 'r-', label='Recall')\n",
        "\n",
        "# Set axis labels and title\n",
        "plt.xlabel('Threshold')\n",
        "plt.ylabel('Precision/Recall')\n",
        "plt.title('Precision-Recall vs Threshold Curve')\n",
        "\n",
        "plt.grid()\n",
        "\n",
        "# Add legend\n",
        "plt.legend()\n",
        "\n",
        "# Show the plot\n",
        "plt.show()\n"
      ],
      "metadata": {
        "colab": {
          "base_uri": "https://localhost:8080/",
          "height": 472
        },
        "id": "iMrd5wirqeyQ",
        "outputId": "51d73352-12c7-47ae-c423-6939701f868b"
      },
      "execution_count": null,
      "outputs": [
        {
          "output_type": "display_data",
          "data": {
            "text/plain": [
              "<Figure size 640x480 with 1 Axes>"
            ],
            "image/png": "[encoded data removed]"
          },
          "metadata": {}
        }
      ]
    },
    {
      "cell_type": "code",
      "source": [
        "#ROC curve\n",
        "\n",
        "import matplotlib.pyplot as plt\n",
        "from sklearn.metrics import roc_curve, auc\n",
        "\n",
        "# Compute ROC curve and area under the curve (AUC)\n",
        "fpr, tpr, thresholds = roc_curve(y_test, y_predicted)\n",
        "roc_auc = auc(fpr, tpr)\n",
        "\n",
        "# Plot ROC curve\n",
        "plt.figure()\n",
        "plt.plot(fpr, tpr, color='darkorange', lw=2, label='ROC curve (AUC = %0.2f)' % roc_auc)\n",
        "plt.plot([0, 1], [0, 1], color='navy', lw=2, linestyle='--')\n",
        "plt.xlim([0.0, 1.0])\n",
        "plt.ylim([0.0, 1.05])\n",
        "plt.grid(True)\n",
        "\n",
        "plt.xlabel('False Positive Rate')\n",
        "plt.ylabel('True Positive Rate')\n",
        "plt.title('Receiver Operating Characteristic')\n",
        "plt.legend(loc=\"lower right\")\n",
        "plt.show()\n"
      ],
      "metadata": {
        "colab": {
          "base_uri": "https://localhost:8080/",
          "height": 472
        },
        "id": "ha9yFlhLY9eN",
        "outputId": "f8ec7cac-5539-4fd4-b117-039a8b759928"
      },
      "execution_count": null,
      "outputs": [
        {
          "output_type": "display_data",
          "data": {
            "text/plain": [
              "<Figure size 640x480 with 1 Axes>"
            ],
            "image/png": "[encoded data removed]"
          },
          "metadata": {}
        }
      ]
    },
    {
      "cell_type": "code",
      "source": [
        "loaded_model.predict([[\"काठमाडौ ।आफूलाई सामाजिक अभियान्त बताउँदैै आएकी सर्मिला वाइवाले आफ्नो फेसबुकमा एक तस्बीर सेयर गर्दै वरिष्ठ पत्रकार ऋषि धमलालाई १ सय १० को जोरो आउने बनाउने लेखेकी छिन् ।राष्ट्रिय स्वतन्त्र पार्टीका सभापति रवि लामिछानेले पत्रकार सम्मेलन गर्दै ऋषि धमला सहित केही पत्रकारहरुलाई नामै तोकेर आरोप लगाएपछि अहिले सामाजिक सञ्जालमा चर्चाको बिषय बनेको छ ।अन्य समाचार / काठमाडौं । राष्ट्रिय स्वतन्त्र पार्टीका सभापति रवि लामिछानेले विशेष पत्रकार सम्मेलन गर्ने भएका छन् । रिक्त गृहमन्त्री पूर्तिको विषयले सत्तागठबन्धनमा समेत खटपट आइरहेको बेला लामिछानेले पत्रकार सम्मेलन गर्न लागेका हुन् ।गृहको सट्टा भौतिक पूर्वाधार मन्त्रालय लिन प्रधानमन्त्री प्रचण्डले रास्वपालाई प्रस्ताव गरेका छन् । गृहकै अडानमा रहेको उक्त पार्टीले प्रधानमन्त्रीको नयाँ प्रस्तावमा आवश्यक छलफल तथा निर्णय गर्न केहीबेरमा केन्द्रीय समिति र संसदीय दलको संयुक्त बैठक बोलाएको छ ।रविले बैठकलगत्तै पार्टी कार्यालयबाट विशेष पत्रकार सम्मेलन गर्ने जानकारी गराएका छन् ।उनले आफूले सीधा कुरा नगरेको धेरै भएकाले पत्रकार सम्मेलन हेर्न र सुन्न सबैमा अनुरोधसमेत गरेका छन् ।‘पार्टीको बैठकले आज ठोस निर्णय लिन्छ त्यो आफ्नै ठाउँमा छ । त्यसलगत्तै पार्टी कार्यालयबाट आज म विषेश पत्रकार सम्मेलन गर्दैछु । म चाहन्छु सिङ्गो देश र विदेशमा रहनुहुनेहरू सबैले आजको पत्रकार सम्मेलन हेरुन्, सुनुन् । मैले सीधा कुरा नगरेको धेरै भएछ’, रविले लेखेका छन् ।बिहीबार पनि उनले आफू अभिमन्यु नभएको भन्दै मौनता आजसम्म (बिहीबार) सम्मका लागि मात्र भएको चेतावनीपूर्ण स्टाटस लेखेका थिए ।काठमाडौ ।आफूलाई सामाजिक अभियान्त बताउँदैै आएकी सर्मिला वाइवाले आफ्नो फेसबुकमा एक तस्बीर सेयर गर्दै वरिष्ठ पत्रकार ऋषि धमलालाई १ सय १० को जोरो आउने बनाउने लेखेकी छिन् ।राष्ट्रिय स्वतन्त्र पार्टीका सभापति रवि लामिछानेले पत्रकार सम्मेलन गर्दै ऋषि धमला सहित केही पत्रकारहरुलाई नामै तोकेर आरोप लगाएपछि अहिले सामाजिक सञ्जालमा चर्चाको बिषय बनेको छ ।अन्य समाचार / काठमाडौं । राष्ट्रिय स्वतन्त्र पार्टीका सभापति रवि लामिछानेले विशेष पत्रकार सम्मेलन गर्ने भएका छन् । रिक्त गृहमन्त्री पूर्तिको विषयले सत्तागठबन्धनमा समेत खटपट आइरहेको बेला लामिछानेले पत्रकार सम्मेलन गर्न लागेका हुन् ।गृहको सट्टा भौतिक पूर्वाधार मन्त्रालय लिन प्रधानमन्त्री प्रचण्डले रास्वपालाई प्रस्ताव गरेका छन् । गृहकै अडानमा रहेको उक्त पार्टीले प्रधानमन्त्रीको नयाँ प्रस्तावमा आवश्यक छलफल तथा निर्णय गर्न केहीबेरमा केन्द्रीय समिति र संसदीय दलको संयुक्त बैठक बोलाएको छ ।रविले बैठकलगत्तै पार्टी कार्यालयबाट विशेष पत्रकार सम्मेलन गर्ने जानकारी गराएका छन् ।उनले आफूले सीधा कुरा नगरेको धेरै भएकाले पत्रकार सम्मेलन हेर्न र सुन्न सबैमा अनुरोधसमेत गरेका छन् ।‘पार्टीको बैठकले आज ठोस निर्णय लिन्छ त्यो आफ्नै ठाउँमा छ । त्यसलगत्तै पार्टी कार्यालयबाट आज म विषेश पत्रकार सम्मेलन गर्दैछु । म चाहन्छु सिङ्गो देश र विदेशमा रहनुहुनेहरू सबैले आजको पत्रकार सम्मेलन हेरुन्, सुनुन् । मैले सीधा कुरा नगरेको धेरै भएछ’, रविले लेखेका छन् ।बिहीबार पनि उनले आफू अभिमन्यु नभएको भन्दै मौनता आजसम्म (बिहीबार) सम्मका लागि मात्र भएको चेतावनीपूर्ण स्टाटस लेखेका थिए ।अध्यक्ष/प्रबन्ध निर्देशक – कृष्णराज अधिकारीप्रधान सम्पादक – माया अधिकारी\"]])"
      ],
      "metadata": {
        "colab": {
          "base_uri": "https://localhost:8080/"
        },
        "outputId": "fbab5dcb-a49b-485a-c8b5-570c16c991d4",
        "id": "-A1rH6DVt2ES"
      },
      "execution_count": null,
      "outputs": [
        {
          "output_type": "stream",
          "name": "stdout",
          "text": [
            "1/1 [==============================] - 2s 2s/step\n"
          ]
        },
        {
          "output_type": "execute_result",
          "data": {
            "text/plain": [
              "array([[0.00236249]], dtype=float32)"
            ]
          },
          "metadata": {},
          "execution_count": 9
        }
      ]
    },
    {
      "cell_type": "code",
      "source": [
        "def get_prediction(news_description):\n",
        "    probability = loaded_model.predict([news_description])[0][0]\n",
        "    return 'fake' if probability > 0.65 else 'real'\n"
      ],
      "metadata": {
        "id": "fHBuwpgIrRym"
      },
      "execution_count": null,
      "outputs": []
    },
    {
      "cell_type": "code",
      "source": [
        "input_data = \"काठमाडौ ।आफूलाई सामाजिक अभियान्त बताउँदैै आएकी सर्मिला वाइवाले आफ्नो फेसबुकमा एक तस्बीर सेयर गर्दै वरिष्ठ पत्रकार ऋषि धमलालाई १ सय १० को जोरो आउने बनाउने लेखेकी छिन् ।राष्ट्रिय स्वतन्त्र पार्टीका सभापति रवि लामिछानेले पत्रकार सम्मेलन गर्दै ऋषि धमला सहित केही पत्रकारहरुलाई नामै तोकेर आरोप लगाएपछि अहिले सामाजिक सञ्जालमा चर्चाको बिषय बनेको छ ।अन्य समाचार / काठमाडौं । राष्ट्रिय स्वतन्त्र पार्टीका सभापति रवि लामिछानेले विशेष पत्रकार सम्मेलन गर्ने भएका छन् । रिक्त गृहमन्त्री पूर्तिको विषयले सत्तागठबन्धनमा समेत खटपट आइरहेको बेला लामिछानेले पत्रकार सम्मेलन गर्न लागेका हुन् ।गृहको सट्टा भौतिक पूर्वाधार मन्त्रालय लिन प्रधानमन्त्री प्रचण्डले रास्वपालाई प्रस्ताव गरेका छन् । गृहकै अडानमा रहेको उक्त पार्टीले प्रधानमन्त्रीको नयाँ प्रस्तावमा आवश्यक छलफल तथा निर्णय गर्न केहीबेरमा केन्द्रीय समिति र संसदीय दलको संयुक्त बैठक बोलाएको छ ।रविले बैठकलगत्तै पार्टी कार्यालयबाट विशेष पत्रकार सम्मेलन गर्ने जानकारी गराएका छन् ।उनले आफूले सीधा कुरा नगरेको धेरै भएकाले पत्रकार सम्मेलन हेर्न र सुन्न सबैमा अनुरोधसमेत गरेका छन् ।‘पार्टीको बैठकले आज ठोस निर्णय लिन्छ त्यो आफ्नै ठाउँमा छ । त्यसलगत्तै पार्टी कार्यालयबाट आज म विषेश पत्रकार सम्मेलन गर्दैछु । म चाहन्छु सिङ्गो देश र विदेशमा रहनुहुनेहरू सबैले आजको पत्रकार सम्मेलन हेरुन्, सुनुन् । मैले सीधा कुरा नगरेको धेरै भएछ’, रविले लेखेका छन् ।बिहीबार पनि उनले आफू अभिमन्यु नभएको भन्दै मौनता आजसम्म (बिहीबार) सम्मका लागि मात्र भएको चेतावनीपूर्ण स्टाटस लेखेका थिए ।काठमाडौ ।आफूलाई सामाजिक अभियान्त बताउँदैै आएकी सर्मिला वाइवाले आफ्नो फेसबुकमा एक तस्बीर सेयर गर्दै वरिष्ठ पत्रकार ऋषि धमलालाई १ सय १० को जोरो आउने बनाउने लेखेकी छिन् ।राष्ट्रिय स्वतन्त्र पार्टीका सभापति रवि लामिछानेले पत्रकार सम्मेलन गर्दै ऋषि धमला सहित केही पत्रकारहरुलाई नामै तोकेर आरोप लगाएपछि अहिले सामाजिक सञ्जालमा चर्चाको बिषय बनेको छ ।अन्य समाचार / काठमाडौं । राष्ट्रिय स्वतन्त्र पार्टीका सभापति रवि लामिछानेले विशेष पत्रकार सम्मेलन गर्ने भएका छन् । रिक्त गृहमन्त्री पूर्तिको विषयले सत्तागठबन्धनमा समेत खटपट आइरहेको बेला लामिछानेले पत्रकार सम्मेलन गर्न लागेका हुन् ।गृहको सट्टा भौतिक पूर्वाधार मन्त्रालय लिन प्रधानमन्त्री प्रचण्डले रास्वपालाई प्रस्ताव गरेका छन् । गृहकै अडानमा रहेको उक्त पार्टीले प्रधानमन्त्रीको नयाँ प्रस्तावमा आवश्यक छलफल तथा निर्णय गर्न केहीबेरमा केन्द्रीय समिति र संसदीय दलको संयुक्त बैठक बोलाएको छ ।रविले बैठकलगत्तै पार्टी कार्यालयबाट विशेष पत्रकार सम्मेलन गर्ने जानकारी गराएका छन् ।उनले आफूले सीधा कुरा नगरेको धेरै भएकाले पत्रकार सम्मेलन हेर्न र सुन्न सबैमा अनुरोधसमेत गरेका छन् ।‘पार्टीको बैठकले आज ठोस निर्णय लिन्छ त्यो आफ्नै ठाउँमा छ । त्यसलगत्तै पार्टी कार्यालयबाट आज म विषेश पत्रकार सम्मेलन गर्दैछु । म चाहन्छु सिङ्गो देश र विदेशमा रहनुहुनेहरू सबैले आजको पत्रकार सम्मेलन हेरुन्, सुनुन् । मैले सीधा कुरा नगरेको धेरै भएछ’, रविले लेखेका छन् ।बिहीबार पनि उनले आफू अभिमन्यु नभएको भन्दै मौनता आजसम्म (बिहीबार) सम्मका लागि मात्र भएको चेतावनीपूर्ण स्टाटस लेखेका थिए ।अध्यक्ष/प्रबन्ध निर्देशक कृष्णराज अधिकारीप्रधान सम्पादक माया अधिकारी\"\n",
        "get_prediction(input_data)"
      ],
      "metadata": {
        "colab": {
          "base_uri": "https://localhost:8080/",
          "height": 52
        },
        "id": "8ZmeHWmTs4ac",
        "outputId": "fd6fef3d-451f-47fd-949b-0eb83d1c601f"
      },
      "execution_count": null,
      "outputs": [
        {
          "output_type": "stream",
          "name": "stdout",
          "text": [
            "1/1 [==============================] - 0s 47ms/step\n"
          ]
        },
        {
          "output_type": "execute_result",
          "data": {
            "text/plain": [
              "'real'"
            ],
            "application/vnd.google.colaboratory.intrinsic+json": {
              "type": "string"
            }
          },
          "metadata": {},
          "execution_count": 28
        }
      ]
    },
    {
      "cell_type": "code",
      "source": [
        "def get_predictions(news_descriptions):\n",
        "    probabilities = loaded_model.predict(news_descriptions)\n",
        "    predictions = [1 if prob > 0.65 else 0 for prob in probabilities.flatten()]\n",
        "    return predictions\n"
      ],
      "metadata": {
        "id": "oxmff6AOuKQh"
      },
      "execution_count": null,
      "outputs": []
    },
    {
      "cell_type": "code",
      "source": [
        "predicted_thre_adj=get_predictions(X_test)"
      ],
      "metadata": {
        "colab": {
          "base_uri": "https://localhost:8080/"
        },
        "id": "OeyvSfO8vG_I",
        "outputId": "ce4cf959-1685-420d-cdcb-08861933082d"
      },
      "execution_count": null,
      "outputs": [
        {
          "output_type": "stream",
          "name": "stdout",
          "text": [
            "119/119 [==============================] - 48s 406ms/step\n"
          ]
        }
      ]
    }
  ]
}