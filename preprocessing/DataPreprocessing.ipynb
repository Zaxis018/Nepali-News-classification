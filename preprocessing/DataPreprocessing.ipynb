{
  "cells": [
    {
      "cell_type": "code",
      "execution_count": null,
      "metadata": {
        "colab": {
          "base_uri": "https://localhost:8080/"
        },
        "id": "ZdNk-Z6NQAwy",
        "outputId": "722e6246-f448-426f-b73d-5f1eefb1d29b"
      },
      "outputs": [
        {
          "output_type": "stream",
          "name": "stdout",
          "text": [
            "Mounted at /content/drive\n"
          ]
        }
      ],
      "source": [
        "from google.colab import drive\n",
        "drive.mount('/content/drive')"
      ]
    },
    {
      "cell_type": "code",
      "execution_count": null,
      "metadata": {
        "id": "KrRR3_871Bm_"
      },
      "outputs": [],
      "source": [
        "import pandas as pd\n",
        "#reading csv file\n",
        "true_news = pd.read_csv(\"/content/drive/MyDrive/real_news.csv\")\n",
        "fake_news = pd.read_csv(\"/content/drive/MyDrive/fake_news.csv\")"
      ]
    },
    {
      "cell_type": "code",
      "execution_count": null,
      "metadata": {
        "colab": {
          "base_uri": "https://localhost:8080/",
          "height": 423
        },
        "id": "FU5vzRtUQJrU",
        "outputId": "342e8779-52d3-4617-9df8-ce84f0723afc"
      },
      "outputs": [
        {
          "output_type": "execute_result",
          "data": {
            "text/plain": [
              "                                                  Title  \\\n",
              "0                   फिल्म ‘भगवत् गीता’मा धिरज अनुबन्धित   \n",
              "1                          पब्जी विश्वकपमा नेपाल दोस्रो   \n",
              "2     मोदीको मातृभक्ति : आमाको खुट्टा धोएर लिए आशीर्वाद   \n",
              "3         ‘लोकतन्त्रप्रति प्रतिबद्ध नेतृत्व आउँछ’– निधि   \n",
              "4                     'पथेर' र 'कदम'लाई पहिचान पुरस्कार   \n",
              "...                                                 ...   \n",
              "9509  युक्रेनमा सम्भावित ‘नरसंहार’ को सङ्केत : स्पेन...   \n",
              "9510  श्रीलङ्काका राष्ट्रपतिद्वारा विपक्षी दलहरूलाई ...   \n",
              "9511  श्रीलङ्काको केन्द्रीय बैंकका गभर्नरले पनि दिए ...   \n",
              "9512  साक्रामेन्टो गोली हानाहानमा कम्तीमा छजनाको मृत्यु   \n",
              "9513  प्रधानमन्त्रीका छोरासहित श्रीलङ्काका २६ जना मन...   \n",
              "\n",
              "                                            Description  \n",
              "0     फिल्म ‘भगवत् गीता’मा नायक धिरज मगर अनुबन्धित ह...  \n",
              "1     पब्जी विश्वकपमा नेपाल दोस्रो भएको छ । इन्डोनेस...  \n",
              "2     भारतका प्रधानमन्त्री नरेन्द्र मोदीले आफ्नी आमा...  \n",
              "3     कांग्रेसको १४ औं महाधिवेशमा नेतृत्व चयनका लागि...  \n",
              "4     यस वर्ष पहिचान पुरस्कार श्याम शाहको कथासंग्रह ...  \n",
              "...                                                 ...  \n",
              "9509  स्पेनी प्रधानमन्त्री पेड्रो सान्चेजले सोमबार य...  \n",
              "9510  श्रीलङ्काका राष्ट्रपति गोटाबाया राजापाक्षेले द...  \n",
              "9511  श्रीलङ्काको केन्द्रीय बैंकका गभर्नरले पनि सोमब...  \n",
              "9512  अमेरिकाको क्यालिफोर्नियाको साक्रामेन्टोमा भएको...  \n",
              "9513  श्रीलङ्कामा सबैभन्दा चरम आर्थिक सङ्कट व्यवस्था...  \n",
              "\n",
              "[9514 rows x 2 columns]"
            ],
            "text/html": [
              "\n",
              "  <div id=\"df-427591f8-5384-4738-ab53-d625fdf23f2f\">\n",
              "    <div class=\"colab-df-container\">\n",
              "      <div>\n",
              "<style scoped>\n",
              "    .dataframe tbody tr th:only-of-type {\n",
              "        vertical-align: middle;\n",
              "    }\n",
              "\n",
              "    .dataframe tbody tr th {\n",
              "        vertical-align: top;\n",
              "    }\n",
              "\n",
              "    .dataframe thead th {\n",
              "        text-align: right;\n",
              "    }\n",
              "</style>\n",
              "<table border=\"1\" class=\"dataframe\">\n",
              "  <thead>\n",
              "    <tr style=\"text-align: right;\">\n",
              "      <th></th>\n",
              "      <th>Title</th>\n",
              "      <th>Description</th>\n",
              "    </tr>\n",
              "  </thead>\n",
              "  <tbody>\n",
              "    <tr>\n",
              "      <th>0</th>\n",
              "      <td>फिल्म ‘भगवत् गीता’मा धिरज अनुबन्धित</td>\n",
              "      <td>फिल्म ‘भगवत् गीता’मा नायक धिरज मगर अनुबन्धित ह...</td>\n",
              "    </tr>\n",
              "    <tr>\n",
              "      <th>1</th>\n",
              "      <td>पब्जी विश्वकपमा नेपाल दोस्रो</td>\n",
              "      <td>पब्जी विश्वकपमा नेपाल दोस्रो भएको छ । इन्डोनेस...</td>\n",
              "    </tr>\n",
              "    <tr>\n",
              "      <th>2</th>\n",
              "      <td>मोदीको मातृभक्ति : आमाको खुट्टा धोएर लिए आशीर्वाद</td>\n",
              "      <td>भारतका प्रधानमन्त्री नरेन्द्र मोदीले आफ्नी आमा...</td>\n",
              "    </tr>\n",
              "    <tr>\n",
              "      <th>3</th>\n",
              "      <td>‘लोकतन्त्रप्रति प्रतिबद्ध नेतृत्व आउँछ’– निधि</td>\n",
              "      <td>कांग्रेसको १४ औं महाधिवेशमा नेतृत्व चयनका लागि...</td>\n",
              "    </tr>\n",
              "    <tr>\n",
              "      <th>4</th>\n",
              "      <td>'पथेर' र 'कदम'लाई पहिचान पुरस्कार</td>\n",
              "      <td>यस वर्ष पहिचान पुरस्कार श्याम शाहको कथासंग्रह ...</td>\n",
              "    </tr>\n",
              "    <tr>\n",
              "      <th>...</th>\n",
              "      <td>...</td>\n",
              "      <td>...</td>\n",
              "    </tr>\n",
              "    <tr>\n",
              "      <th>9509</th>\n",
              "      <td>युक्रेनमा सम्भावित ‘नरसंहार’ को सङ्केत : स्पेन...</td>\n",
              "      <td>स्पेनी प्रधानमन्त्री पेड्रो सान्चेजले सोमबार य...</td>\n",
              "    </tr>\n",
              "    <tr>\n",
              "      <th>9510</th>\n",
              "      <td>श्रीलङ्काका राष्ट्रपतिद्वारा विपक्षी दलहरूलाई ...</td>\n",
              "      <td>श्रीलङ्काका राष्ट्रपति गोटाबाया राजापाक्षेले द...</td>\n",
              "    </tr>\n",
              "    <tr>\n",
              "      <th>9511</th>\n",
              "      <td>श्रीलङ्काको केन्द्रीय बैंकका गभर्नरले पनि दिए ...</td>\n",
              "      <td>श्रीलङ्काको केन्द्रीय बैंकका गभर्नरले पनि सोमब...</td>\n",
              "    </tr>\n",
              "    <tr>\n",
              "      <th>9512</th>\n",
              "      <td>साक्रामेन्टो गोली हानाहानमा कम्तीमा छजनाको मृत्यु</td>\n",
              "      <td>अमेरिकाको क्यालिफोर्नियाको साक्रामेन्टोमा भएको...</td>\n",
              "    </tr>\n",
              "    <tr>\n",
              "      <th>9513</th>\n",
              "      <td>प्रधानमन्त्रीका छोरासहित श्रीलङ्काका २६ जना मन...</td>\n",
              "      <td>श्रीलङ्कामा सबैभन्दा चरम आर्थिक सङ्कट व्यवस्था...</td>\n",
              "    </tr>\n",
              "  </tbody>\n",
              "</table>\n",
              "<p>9514 rows × 2 columns</p>\n",
              "</div>\n",
              "      <button class=\"colab-df-convert\" onclick=\"convertToInteractive('df-427591f8-5384-4738-ab53-d625fdf23f2f')\"\n",
              "              title=\"Convert this dataframe to an interactive table.\"\n",
              "              style=\"display:none;\">\n",
              "        \n",
              "  <svg xmlns=\"http://www.w3.org/2000/svg\" height=\"24px\"viewBox=\"0 0 24 24\"\n",
              "       width=\"24px\">\n",
              "    <path d=\"M0 0h24v24H0V0z\" fill=\"none\"/>\n",
              "    <path d=\"M18.56 5.44l.94 2.06.94-2.06 2.06-.94-2.06-.94-.94-2.06-.94 2.06-2.06.94zm-11 1L8.5 8.5l.94-2.06 2.06-.94-2.06-.94L8.5 2.5l-.94 2.06-2.06.94zm10 10l.94 2.06.94-2.06 2.06-.94-2.06-.94-.94-2.06-.94 2.06-2.06.94z\"/><path d=\"M17.41 7.96l-1.37-1.37c-.4-.4-.92-.59-1.43-.59-.52 0-1.04.2-1.43.59L10.3 9.45l-7.72 7.72c-.78.78-.78 2.05 0 2.83L4 21.41c.39.39.9.59 1.41.59.51 0 1.02-.2 1.41-.59l7.78-7.78 2.81-2.81c.8-.78.8-2.07 0-2.86zM5.41 20L4 18.59l7.72-7.72 1.47 1.35L5.41 20z\"/>\n",
              "  </svg>\n",
              "      </button>\n",
              "      \n",
              "  <style>\n",
              "    .colab-df-container {\n",
              "      display:flex;\n",
              "      flex-wrap:wrap;\n",
              "      gap: 12px;\n",
              "    }\n",
              "\n",
              "    .colab-df-convert {\n",
              "      background-color: #E8F0FE;\n",
              "      border: none;\n",
              "      border-radius: 50%;\n",
              "      cursor: pointer;\n",
              "      display: none;\n",
              "      fill: #1967D2;\n",
              "      height: 32px;\n",
              "      padding: 0 0 0 0;\n",
              "      width: 32px;\n",
              "    }\n",
              "\n",
              "    .colab-df-convert:hover {\n",
              "      background-color: #E2EBFA;\n",
              "      box-shadow: 0px 1px 2px rgba(60, 64, 67, 0.3), 0px 1px 3px 1px rgba(60, 64, 67, 0.15);\n",
              "      fill: #174EA6;\n",
              "    }\n",
              "\n",
              "    [theme=dark] .colab-df-convert {\n",
              "      background-color: #3B4455;\n",
              "      fill: #D2E3FC;\n",
              "    }\n",
              "\n",
              "    [theme=dark] .colab-df-convert:hover {\n",
              "      background-color: #434B5C;\n",
              "      box-shadow: 0px 1px 3px 1px rgba(0, 0, 0, 0.15);\n",
              "      filter: drop-shadow(0px 1px 2px rgba(0, 0, 0, 0.3));\n",
              "      fill: #FFFFFF;\n",
              "    }\n",
              "  </style>\n",
              "\n",
              "      <script>\n",
              "        const buttonEl =\n",
              "          document.querySelector('#df-427591f8-5384-4738-ab53-d625fdf23f2f button.colab-df-convert');\n",
              "        buttonEl.style.display =\n",
              "          google.colab.kernel.accessAllowed ? 'block' : 'none';\n",
              "\n",
              "        async function convertToInteractive(key) {\n",
              "          const element = document.querySelector('#df-427591f8-5384-4738-ab53-d625fdf23f2f');\n",
              "          const dataTable =\n",
              "            await google.colab.kernel.invokeFunction('convertToInteractive',\n",
              "                                                     [key], {});\n",
              "          if (!dataTable) return;\n",
              "\n",
              "          const docLinkHtml = 'Like what you see? Visit the ' +\n",
              "            '<a target=\"_blank\" href=https://colab.research.google.com/notebooks/data_table.ipynb>data table notebook</a>'\n",
              "            + ' to learn more about interactive tables.';\n",
              "          element.innerHTML = '';\n",
              "          dataTable['output_type'] = 'display_data';\n",
              "          await google.colab.output.renderOutput(dataTable, element);\n",
              "          const docLink = document.createElement('div');\n",
              "          docLink.innerHTML = docLinkHtml;\n",
              "          element.appendChild(docLink);\n",
              "        }\n",
              "      </script>\n",
              "    </div>\n",
              "  </div>\n",
              "  "
            ]
          },
          "metadata": {},
          "execution_count": 3
        }
      ],
      "source": [
        "true_news"
      ]
    },
    {
      "cell_type": "code",
      "execution_count": null,
      "metadata": {
        "colab": {
          "base_uri": "https://localhost:8080/",
          "height": 423
        },
        "id": "6q9pzEY6Tvtw",
        "outputId": "2a0ff38b-814c-4c46-b0a3-8766d65ca574"
      },
      "outputs": [
        {
          "output_type": "execute_result",
          "data": {
            "text/plain": [
              "                                                  Title  \\\n",
              "0      ट्रम्पडम: ट्रम्पको विदेश नीतिको जिज्ञासु संसा...   \n",
              "1     BREAKING: वफादार ट्रम्प समर्थकले महान्यायाधिवक...   \n",
              "2     चीन ड्रोन ड्रामा ट्रम्पको पहिलो ट्वीट भन्दा पह...   \n",
              "3     एक रक्षात्मक जोन केरीले सोध्छ कि इजरायलले आफ्न...   \n",
              "4     Reince Priebus ट्रम्पको दाबीलाई समर्थन गर्दछ क...   \n",
              "...                                                 ...   \n",
              "9995  2016 अभियान कभरेज 'लिबरल मिडिया पूर्वाग्रह' मि...   \n",
              "9996  बमशेल रिपोर्ट: NSA ले FBI लाई हिलारीको इमेल दि...   \n",
              "9997  हेर्नुहोस्: जोय रीडले ट्रम्पको अभियानलाई नस्लव...   \n",
              "9998  BREAKING: ओबामाले आजीवन काराबास काटिरहेका ६७ क...   \n",
              "9999  पूर्व महान्यायाधिवक्ता: यहाँ छ किन ट्रम्पले ट्...   \n",
              "\n",
              "                                            Description  \n",
              "0     निरज श्रीवास्तव 21st Century WireIt डोनाल्ड ट्...  \n",
              "1     सेन जेफरसन ब्यूरेगार्ड सेसन्स III, डोनाल्ड ट्र...  \n",
              "2     डोनाल्ड ट्रम्पले अमेरिकी अन्डरवाटर ड्रोन जफत ग...  \n",
              "3     जोन केरीले ओबामा प्रशासन इजरायलको मित्र भएको द...  \n",
              "4     डोनाल्ड ट्रम्पले स्वतन्त्र प्रेस बिरूद्ध युद्ध...  \n",
              "...                                                 ...  \n",
              "9995  यदि त्यहाँ 2016 को चुनावले देखाएको एउटा कुरा छ...  \n",
              "9996  त्यहाँ हिलारी क्लिन्टन/डोनाल्ड ट्रम्प/रूसको अन...  \n",
              "9997  स्टीव कोर्टेस, एक उत्साही ट्रम्प समर्थक, AM Jo...  \n",
              "9998  अमेरिकालाई फेरि असुरक्षित बनाउने यो ओबामाको वि...  \n",
              "9999  यो Curiel को हिस्पैनिक विरासत को एक प्रश्न छैन...  \n",
              "\n",
              "[10000 rows x 2 columns]"
            ],
            "text/html": [
              "\n",
              "  <div id=\"df-7b1430fb-a33b-40fe-85d7-06cc52906b68\">\n",
              "    <div class=\"colab-df-container\">\n",
              "      <div>\n",
              "<style scoped>\n",
              "    .dataframe tbody tr th:only-of-type {\n",
              "        vertical-align: middle;\n",
              "    }\n",
              "\n",
              "    .dataframe tbody tr th {\n",
              "        vertical-align: top;\n",
              "    }\n",
              "\n",
              "    .dataframe thead th {\n",
              "        text-align: right;\n",
              "    }\n",
              "</style>\n",
              "<table border=\"1\" class=\"dataframe\">\n",
              "  <thead>\n",
              "    <tr style=\"text-align: right;\">\n",
              "      <th></th>\n",
              "      <th>Title</th>\n",
              "      <th>Description</th>\n",
              "    </tr>\n",
              "  </thead>\n",
              "  <tbody>\n",
              "    <tr>\n",
              "      <th>0</th>\n",
              "      <td>ट्रम्पडम: ट्रम्पको विदेश नीतिको जिज्ञासु संसा...</td>\n",
              "      <td>निरज श्रीवास्तव 21st Century WireIt डोनाल्ड ट्...</td>\n",
              "    </tr>\n",
              "    <tr>\n",
              "      <th>1</th>\n",
              "      <td>BREAKING: वफादार ट्रम्प समर्थकले महान्यायाधिवक...</td>\n",
              "      <td>सेन जेफरसन ब्यूरेगार्ड सेसन्स III, डोनाल्ड ट्र...</td>\n",
              "    </tr>\n",
              "    <tr>\n",
              "      <th>2</th>\n",
              "      <td>चीन ड्रोन ड्रामा ट्रम्पको पहिलो ट्वीट भन्दा पह...</td>\n",
              "      <td>डोनाल्ड ट्रम्पले अमेरिकी अन्डरवाटर ड्रोन जफत ग...</td>\n",
              "    </tr>\n",
              "    <tr>\n",
              "      <th>3</th>\n",
              "      <td>एक रक्षात्मक जोन केरीले सोध्छ कि इजरायलले आफ्न...</td>\n",
              "      <td>जोन केरीले ओबामा प्रशासन इजरायलको मित्र भएको द...</td>\n",
              "    </tr>\n",
              "    <tr>\n",
              "      <th>4</th>\n",
              "      <td>Reince Priebus ट्रम्पको दाबीलाई समर्थन गर्दछ क...</td>\n",
              "      <td>डोनाल्ड ट्रम्पले स्वतन्त्र प्रेस बिरूद्ध युद्ध...</td>\n",
              "    </tr>\n",
              "    <tr>\n",
              "      <th>...</th>\n",
              "      <td>...</td>\n",
              "      <td>...</td>\n",
              "    </tr>\n",
              "    <tr>\n",
              "      <th>9995</th>\n",
              "      <td>2016 अभियान कभरेज 'लिबरल मिडिया पूर्वाग्रह' मि...</td>\n",
              "      <td>यदि त्यहाँ 2016 को चुनावले देखाएको एउटा कुरा छ...</td>\n",
              "    </tr>\n",
              "    <tr>\n",
              "      <th>9996</th>\n",
              "      <td>बमशेल रिपोर्ट: NSA ले FBI लाई हिलारीको इमेल दि...</td>\n",
              "      <td>त्यहाँ हिलारी क्लिन्टन/डोनाल्ड ट्रम्प/रूसको अन...</td>\n",
              "    </tr>\n",
              "    <tr>\n",
              "      <th>9997</th>\n",
              "      <td>हेर्नुहोस्: जोय रीडले ट्रम्पको अभियानलाई नस्लव...</td>\n",
              "      <td>स्टीव कोर्टेस, एक उत्साही ट्रम्प समर्थक, AM Jo...</td>\n",
              "    </tr>\n",
              "    <tr>\n",
              "      <th>9998</th>\n",
              "      <td>BREAKING: ओबामाले आजीवन काराबास काटिरहेका ६७ क...</td>\n",
              "      <td>अमेरिकालाई फेरि असुरक्षित बनाउने यो ओबामाको वि...</td>\n",
              "    </tr>\n",
              "    <tr>\n",
              "      <th>9999</th>\n",
              "      <td>पूर्व महान्यायाधिवक्ता: यहाँ छ किन ट्रम्पले ट्...</td>\n",
              "      <td>यो Curiel को हिस्पैनिक विरासत को एक प्रश्न छैन...</td>\n",
              "    </tr>\n",
              "  </tbody>\n",
              "</table>\n",
              "<p>10000 rows × 2 columns</p>\n",
              "</div>\n",
              "      <button class=\"colab-df-convert\" onclick=\"convertToInteractive('df-7b1430fb-a33b-40fe-85d7-06cc52906b68')\"\n",
              "              title=\"Convert this dataframe to an interactive table.\"\n",
              "              style=\"display:none;\">\n",
              "        \n",
              "  <svg xmlns=\"http://www.w3.org/2000/svg\" height=\"24px\"viewBox=\"0 0 24 24\"\n",
              "       width=\"24px\">\n",
              "    <path d=\"M0 0h24v24H0V0z\" fill=\"none\"/>\n",
              "    <path d=\"M18.56 5.44l.94 2.06.94-2.06 2.06-.94-2.06-.94-.94-2.06-.94 2.06-2.06.94zm-11 1L8.5 8.5l.94-2.06 2.06-.94-2.06-.94L8.5 2.5l-.94 2.06-2.06.94zm10 10l.94 2.06.94-2.06 2.06-.94-2.06-.94-.94-2.06-.94 2.06-2.06.94z\"/><path d=\"M17.41 7.96l-1.37-1.37c-.4-.4-.92-.59-1.43-.59-.52 0-1.04.2-1.43.59L10.3 9.45l-7.72 7.72c-.78.78-.78 2.05 0 2.83L4 21.41c.39.39.9.59 1.41.59.51 0 1.02-.2 1.41-.59l7.78-7.78 2.81-2.81c.8-.78.8-2.07 0-2.86zM5.41 20L4 18.59l7.72-7.72 1.47 1.35L5.41 20z\"/>\n",
              "  </svg>\n",
              "      </button>\n",
              "      \n",
              "  <style>\n",
              "    .colab-df-container {\n",
              "      display:flex;\n",
              "      flex-wrap:wrap;\n",
              "      gap: 12px;\n",
              "    }\n",
              "\n",
              "    .colab-df-convert {\n",
              "      background-color: #E8F0FE;\n",
              "      border: none;\n",
              "      border-radius: 50%;\n",
              "      cursor: pointer;\n",
              "      display: none;\n",
              "      fill: #1967D2;\n",
              "      height: 32px;\n",
              "      padding: 0 0 0 0;\n",
              "      width: 32px;\n",
              "    }\n",
              "\n",
              "    .colab-df-convert:hover {\n",
              "      background-color: #E2EBFA;\n",
              "      box-shadow: 0px 1px 2px rgba(60, 64, 67, 0.3), 0px 1px 3px 1px rgba(60, 64, 67, 0.15);\n",
              "      fill: #174EA6;\n",
              "    }\n",
              "\n",
              "    [theme=dark] .colab-df-convert {\n",
              "      background-color: #3B4455;\n",
              "      fill: #D2E3FC;\n",
              "    }\n",
              "\n",
              "    [theme=dark] .colab-df-convert:hover {\n",
              "      background-color: #434B5C;\n",
              "      box-shadow: 0px 1px 3px 1px rgba(0, 0, 0, 0.15);\n",
              "      filter: drop-shadow(0px 1px 2px rgba(0, 0, 0, 0.3));\n",
              "      fill: #FFFFFF;\n",
              "    }\n",
              "  </style>\n",
              "\n",
              "      <script>\n",
              "        const buttonEl =\n",
              "          document.querySelector('#df-7b1430fb-a33b-40fe-85d7-06cc52906b68 button.colab-df-convert');\n",
              "        buttonEl.style.display =\n",
              "          google.colab.kernel.accessAllowed ? 'block' : 'none';\n",
              "\n",
              "        async function convertToInteractive(key) {\n",
              "          const element = document.querySelector('#df-7b1430fb-a33b-40fe-85d7-06cc52906b68');\n",
              "          const dataTable =\n",
              "            await google.colab.kernel.invokeFunction('convertToInteractive',\n",
              "                                                     [key], {});\n",
              "          if (!dataTable) return;\n",
              "\n",
              "          const docLinkHtml = 'Like what you see? Visit the ' +\n",
              "            '<a target=\"_blank\" href=https://colab.research.google.com/notebooks/data_table.ipynb>data table notebook</a>'\n",
              "            + ' to learn more about interactive tables.';\n",
              "          element.innerHTML = '';\n",
              "          dataTable['output_type'] = 'display_data';\n",
              "          await google.colab.output.renderOutput(dataTable, element);\n",
              "          const docLink = document.createElement('div');\n",
              "          docLink.innerHTML = docLinkHtml;\n",
              "          element.appendChild(docLink);\n",
              "        }\n",
              "      </script>\n",
              "    </div>\n",
              "  </div>\n",
              "  "
            ]
          },
          "metadata": {},
          "execution_count": 4
        }
      ],
      "source": [
        "fake_news"
      ]
    },
    {
      "cell_type": "code",
      "execution_count": null,
      "metadata": {
        "colab": {
          "base_uri": "https://localhost:8080/"
        },
        "id": "Ezs_xPL1QJu3",
        "outputId": "93b67d92-94d8-42a7-9f8c-be0a380ad69c"
      },
      "outputs": [
        {
          "output_type": "execute_result",
          "data": {
            "text/plain": [
              "Title          0\n",
              "Description    0\n",
              "dtype: int64"
            ]
          },
          "metadata": {},
          "execution_count": 5
        }
      ],
      "source": [
        "#checking if any of the value is null\n",
        "true_news.isnull().sum()"
      ]
    },
    {
      "cell_type": "code",
      "execution_count": null,
      "metadata": {
        "colab": {
          "base_uri": "https://localhost:8080/"
        },
        "id": "XwZKdaZcT7bF",
        "outputId": "2f8ce9cc-efbb-4be1-aead-dddd90f48cda"
      },
      "outputs": [
        {
          "output_type": "execute_result",
          "data": {
            "text/plain": [
              "Title          0\n",
              "Description    0\n",
              "dtype: int64"
            ]
          },
          "metadata": {},
          "execution_count": 6
        }
      ],
      "source": [
        "#checking null value from fake news\n",
        "fake_news.isnull().sum()"
      ]
    },
    {
      "cell_type": "code",
      "execution_count": null,
      "metadata": {
        "id": "FfdCevD6UP1u"
      },
      "outputs": [],
      "source": [
        "#deleting those null value from fake news\n",
        "fake_news.dropna(inplace=True)"
      ]
    },
    {
      "cell_type": "code",
      "execution_count": null,
      "metadata": {
        "colab": {
          "base_uri": "https://localhost:8080/"
        },
        "id": "reOY_3UbUeCs",
        "outputId": "950f9f56-a2e6-4b6c-fd8d-9f4e4f7faa39"
      },
      "outputs": [
        {
          "output_type": "execute_result",
          "data": {
            "text/plain": [
              "Title          0\n",
              "Description    0\n",
              "dtype: int64"
            ]
          },
          "metadata": {},
          "execution_count": 8
        }
      ],
      "source": [
        "fake_news.isnull().sum()"
      ]
    },
    {
      "cell_type": "code",
      "execution_count": null,
      "metadata": {
        "colab": {
          "base_uri": "https://localhost:8080/",
          "height": 423
        },
        "id": "NgdZNNjZUlVz",
        "outputId": "83c1186b-f082-4ac1-d9b4-779da34508d7"
      },
      "outputs": [
        {
          "output_type": "execute_result",
          "data": {
            "text/plain": [
              "                                                  Title  \\\n",
              "0      ट्रम्पडम: ट्रम्पको विदेश नीतिको जिज्ञासु संसा...   \n",
              "1     BREAKING: वफादार ट्रम्प समर्थकले महान्यायाधिवक...   \n",
              "2     चीन ड्रोन ड्रामा ट्रम्पको पहिलो ट्वीट भन्दा पह...   \n",
              "3     एक रक्षात्मक जोन केरीले सोध्छ कि इजरायलले आफ्न...   \n",
              "4     Reince Priebus ट्रम्पको दाबीलाई समर्थन गर्दछ क...   \n",
              "...                                                 ...   \n",
              "9995  2016 अभियान कभरेज 'लिबरल मिडिया पूर्वाग्रह' मि...   \n",
              "9996  बमशेल रिपोर्ट: NSA ले FBI लाई हिलारीको इमेल दि...   \n",
              "9997  हेर्नुहोस्: जोय रीडले ट्रम्पको अभियानलाई नस्लव...   \n",
              "9998  BREAKING: ओबामाले आजीवन काराबास काटिरहेका ६७ क...   \n",
              "9999  पूर्व महान्यायाधिवक्ता: यहाँ छ किन ट्रम्पले ट्...   \n",
              "\n",
              "                                            Description  \n",
              "0     निरज श्रीवास्तव 21st Century WireIt डोनाल्ड ट्...  \n",
              "1     सेन जेफरसन ब्यूरेगार्ड सेसन्स III, डोनाल्ड ट्र...  \n",
              "2     डोनाल्ड ट्रम्पले अमेरिकी अन्डरवाटर ड्रोन जफत ग...  \n",
              "3     जोन केरीले ओबामा प्रशासन इजरायलको मित्र भएको द...  \n",
              "4     डोनाल्ड ट्रम्पले स्वतन्त्र प्रेस बिरूद्ध युद्ध...  \n",
              "...                                                 ...  \n",
              "9995  यदि त्यहाँ 2016 को चुनावले देखाएको एउटा कुरा छ...  \n",
              "9996  त्यहाँ हिलारी क्लिन्टन/डोनाल्ड ट्रम्प/रूसको अन...  \n",
              "9997  स्टीव कोर्टेस, एक उत्साही ट्रम्प समर्थक, AM Jo...  \n",
              "9998  अमेरिकालाई फेरि असुरक्षित बनाउने यो ओबामाको वि...  \n",
              "9999  यो Curiel को हिस्पैनिक विरासत को एक प्रश्न छैन...  \n",
              "\n",
              "[10000 rows x 2 columns]"
            ],
            "text/html": [
              "\n",
              "  <div id=\"df-361cac7f-2fd3-4a74-a216-48995d345b03\">\n",
              "    <div class=\"colab-df-container\">\n",
              "      <div>\n",
              "<style scoped>\n",
              "    .dataframe tbody tr th:only-of-type {\n",
              "        vertical-align: middle;\n",
              "    }\n",
              "\n",
              "    .dataframe tbody tr th {\n",
              "        vertical-align: top;\n",
              "    }\n",
              "\n",
              "    .dataframe thead th {\n",
              "        text-align: right;\n",
              "    }\n",
              "</style>\n",
              "<table border=\"1\" class=\"dataframe\">\n",
              "  <thead>\n",
              "    <tr style=\"text-align: right;\">\n",
              "      <th></th>\n",
              "      <th>Title</th>\n",
              "      <th>Description</th>\n",
              "    </tr>\n",
              "  </thead>\n",
              "  <tbody>\n",
              "    <tr>\n",
              "      <th>0</th>\n",
              "      <td>ट्रम्पडम: ट्रम्पको विदेश नीतिको जिज्ञासु संसा...</td>\n",
              "      <td>निरज श्रीवास्तव 21st Century WireIt डोनाल्ड ट्...</td>\n",
              "    </tr>\n",
              "    <tr>\n",
              "      <th>1</th>\n",
              "      <td>BREAKING: वफादार ट्रम्प समर्थकले महान्यायाधिवक...</td>\n",
              "      <td>सेन जेफरसन ब्यूरेगार्ड सेसन्स III, डोनाल्ड ट्र...</td>\n",
              "    </tr>\n",
              "    <tr>\n",
              "      <th>2</th>\n",
              "      <td>चीन ड्रोन ड्रामा ट्रम्पको पहिलो ट्वीट भन्दा पह...</td>\n",
              "      <td>डोनाल्ड ट्रम्पले अमेरिकी अन्डरवाटर ड्रोन जफत ग...</td>\n",
              "    </tr>\n",
              "    <tr>\n",
              "      <th>3</th>\n",
              "      <td>एक रक्षात्मक जोन केरीले सोध्छ कि इजरायलले आफ्न...</td>\n",
              "      <td>जोन केरीले ओबामा प्रशासन इजरायलको मित्र भएको द...</td>\n",
              "    </tr>\n",
              "    <tr>\n",
              "      <th>4</th>\n",
              "      <td>Reince Priebus ट्रम्पको दाबीलाई समर्थन गर्दछ क...</td>\n",
              "      <td>डोनाल्ड ट्रम्पले स्वतन्त्र प्रेस बिरूद्ध युद्ध...</td>\n",
              "    </tr>\n",
              "    <tr>\n",
              "      <th>...</th>\n",
              "      <td>...</td>\n",
              "      <td>...</td>\n",
              "    </tr>\n",
              "    <tr>\n",
              "      <th>9995</th>\n",
              "      <td>2016 अभियान कभरेज 'लिबरल मिडिया पूर्वाग्रह' मि...</td>\n",
              "      <td>यदि त्यहाँ 2016 को चुनावले देखाएको एउटा कुरा छ...</td>\n",
              "    </tr>\n",
              "    <tr>\n",
              "      <th>9996</th>\n",
              "      <td>बमशेल रिपोर्ट: NSA ले FBI लाई हिलारीको इमेल दि...</td>\n",
              "      <td>त्यहाँ हिलारी क्लिन्टन/डोनाल्ड ट्रम्प/रूसको अन...</td>\n",
              "    </tr>\n",
              "    <tr>\n",
              "      <th>9997</th>\n",
              "      <td>हेर्नुहोस्: जोय रीडले ट्रम्पको अभियानलाई नस्लव...</td>\n",
              "      <td>स्टीव कोर्टेस, एक उत्साही ट्रम्प समर्थक, AM Jo...</td>\n",
              "    </tr>\n",
              "    <tr>\n",
              "      <th>9998</th>\n",
              "      <td>BREAKING: ओबामाले आजीवन काराबास काटिरहेका ६७ क...</td>\n",
              "      <td>अमेरिकालाई फेरि असुरक्षित बनाउने यो ओबामाको वि...</td>\n",
              "    </tr>\n",
              "    <tr>\n",
              "      <th>9999</th>\n",
              "      <td>पूर्व महान्यायाधिवक्ता: यहाँ छ किन ट्रम्पले ट्...</td>\n",
              "      <td>यो Curiel को हिस्पैनिक विरासत को एक प्रश्न छैन...</td>\n",
              "    </tr>\n",
              "  </tbody>\n",
              "</table>\n",
              "<p>10000 rows × 2 columns</p>\n",
              "</div>\n",
              "      <button class=\"colab-df-convert\" onclick=\"convertToInteractive('df-361cac7f-2fd3-4a74-a216-48995d345b03')\"\n",
              "              title=\"Convert this dataframe to an interactive table.\"\n",
              "              style=\"display:none;\">\n",
              "        \n",
              "  <svg xmlns=\"http://www.w3.org/2000/svg\" height=\"24px\"viewBox=\"0 0 24 24\"\n",
              "       width=\"24px\">\n",
              "    <path d=\"M0 0h24v24H0V0z\" fill=\"none\"/>\n",
              "    <path d=\"M18.56 5.44l.94 2.06.94-2.06 2.06-.94-2.06-.94-.94-2.06-.94 2.06-2.06.94zm-11 1L8.5 8.5l.94-2.06 2.06-.94-2.06-.94L8.5 2.5l-.94 2.06-2.06.94zm10 10l.94 2.06.94-2.06 2.06-.94-2.06-.94-.94-2.06-.94 2.06-2.06.94z\"/><path d=\"M17.41 7.96l-1.37-1.37c-.4-.4-.92-.59-1.43-.59-.52 0-1.04.2-1.43.59L10.3 9.45l-7.72 7.72c-.78.78-.78 2.05 0 2.83L4 21.41c.39.39.9.59 1.41.59.51 0 1.02-.2 1.41-.59l7.78-7.78 2.81-2.81c.8-.78.8-2.07 0-2.86zM5.41 20L4 18.59l7.72-7.72 1.47 1.35L5.41 20z\"/>\n",
              "  </svg>\n",
              "      </button>\n",
              "      \n",
              "  <style>\n",
              "    .colab-df-container {\n",
              "      display:flex;\n",
              "      flex-wrap:wrap;\n",
              "      gap: 12px;\n",
              "    }\n",
              "\n",
              "    .colab-df-convert {\n",
              "      background-color: #E8F0FE;\n",
              "      border: none;\n",
              "      border-radius: 50%;\n",
              "      cursor: pointer;\n",
              "      display: none;\n",
              "      fill: #1967D2;\n",
              "      height: 32px;\n",
              "      padding: 0 0 0 0;\n",
              "      width: 32px;\n",
              "    }\n",
              "\n",
              "    .colab-df-convert:hover {\n",
              "      background-color: #E2EBFA;\n",
              "      box-shadow: 0px 1px 2px rgba(60, 64, 67, 0.3), 0px 1px 3px 1px rgba(60, 64, 67, 0.15);\n",
              "      fill: #174EA6;\n",
              "    }\n",
              "\n",
              "    [theme=dark] .colab-df-convert {\n",
              "      background-color: #3B4455;\n",
              "      fill: #D2E3FC;\n",
              "    }\n",
              "\n",
              "    [theme=dark] .colab-df-convert:hover {\n",
              "      background-color: #434B5C;\n",
              "      box-shadow: 0px 1px 3px 1px rgba(0, 0, 0, 0.15);\n",
              "      filter: drop-shadow(0px 1px 2px rgba(0, 0, 0, 0.3));\n",
              "      fill: #FFFFFF;\n",
              "    }\n",
              "  </style>\n",
              "\n",
              "      <script>\n",
              "        const buttonEl =\n",
              "          document.querySelector('#df-361cac7f-2fd3-4a74-a216-48995d345b03 button.colab-df-convert');\n",
              "        buttonEl.style.display =\n",
              "          google.colab.kernel.accessAllowed ? 'block' : 'none';\n",
              "\n",
              "        async function convertToInteractive(key) {\n",
              "          const element = document.querySelector('#df-361cac7f-2fd3-4a74-a216-48995d345b03');\n",
              "          const dataTable =\n",
              "            await google.colab.kernel.invokeFunction('convertToInteractive',\n",
              "                                                     [key], {});\n",
              "          if (!dataTable) return;\n",
              "\n",
              "          const docLinkHtml = 'Like what you see? Visit the ' +\n",
              "            '<a target=\"_blank\" href=https://colab.research.google.com/notebooks/data_table.ipynb>data table notebook</a>'\n",
              "            + ' to learn more about interactive tables.';\n",
              "          element.innerHTML = '';\n",
              "          dataTable['output_type'] = 'display_data';\n",
              "          await google.colab.output.renderOutput(dataTable, element);\n",
              "          const docLink = document.createElement('div');\n",
              "          docLink.innerHTML = docLinkHtml;\n",
              "          element.appendChild(docLink);\n",
              "        }\n",
              "      </script>\n",
              "    </div>\n",
              "  </div>\n",
              "  "
            ]
          },
          "metadata": {},
          "execution_count": 9
        }
      ],
      "source": [
        "fake_news"
      ]
    },
    {
      "cell_type": "code",
      "execution_count": null,
      "metadata": {
        "colab": {
          "base_uri": "https://localhost:8080/",
          "height": 423
        },
        "id": "lqywih-a3xfO",
        "outputId": "27b62f40-8aec-4486-bb1f-869610da62e4"
      },
      "outputs": [
        {
          "output_type": "execute_result",
          "data": {
            "text/plain": [
              "                                                  Title  \\\n",
              "0                   फिल्म ‘भगवत् गीता’मा धिरज अनुबन्धित   \n",
              "1                          पब्जी विश्वकपमा नेपाल दोस्रो   \n",
              "2     मोदीको मातृभक्ति : आमाको खुट्टा धोएर लिए आशीर्वाद   \n",
              "3         ‘लोकतन्त्रप्रति प्रतिबद्ध नेतृत्व आउँछ’– निधि   \n",
              "4                     'पथेर' र 'कदम'लाई पहिचान पुरस्कार   \n",
              "...                                                 ...   \n",
              "9509  युक्रेनमा सम्भावित ‘नरसंहार’ को सङ्केत : स्पेन...   \n",
              "9510  श्रीलङ्काका राष्ट्रपतिद्वारा विपक्षी दलहरूलाई ...   \n",
              "9511  श्रीलङ्काको केन्द्रीय बैंकका गभर्नरले पनि दिए ...   \n",
              "9512  साक्रामेन्टो गोली हानाहानमा कम्तीमा छजनाको मृत्यु   \n",
              "9513  प्रधानमन्त्रीका छोरासहित श्रीलङ्काका २६ जना मन...   \n",
              "\n",
              "                                            Description  \n",
              "0     फिल्म ‘भगवत् गीता’मा नायक धिरज मगर अनुबन्धित ह...  \n",
              "1     पब्जी विश्वकपमा नेपाल दोस्रो भएको छ । इन्डोनेस...  \n",
              "2     भारतका प्रधानमन्त्री नरेन्द्र मोदीले आफ्नी आमा...  \n",
              "3     कांग्रेसको १४ औं महाधिवेशमा नेतृत्व चयनका लागि...  \n",
              "4     यस वर्ष पहिचान पुरस्कार श्याम शाहको कथासंग्रह ...  \n",
              "...                                                 ...  \n",
              "9509  स्पेनी प्रधानमन्त्री पेड्रो सान्चेजले सोमबार य...  \n",
              "9510  श्रीलङ्काका राष्ट्रपति गोटाबाया राजापाक्षेले द...  \n",
              "9511  श्रीलङ्काको केन्द्रीय बैंकका गभर्नरले पनि सोमब...  \n",
              "9512  अमेरिकाको क्यालिफोर्नियाको साक्रामेन्टोमा भएको...  \n",
              "9513  श्रीलङ्कामा सबैभन्दा चरम आर्थिक सङ्कट व्यवस्था...  \n",
              "\n",
              "[9514 rows x 2 columns]"
            ],
            "text/html": [
              "\n",
              "  <div id=\"df-e83bb0e7-d268-40c4-8c3f-6d1b493ecb8b\">\n",
              "    <div class=\"colab-df-container\">\n",
              "      <div>\n",
              "<style scoped>\n",
              "    .dataframe tbody tr th:only-of-type {\n",
              "        vertical-align: middle;\n",
              "    }\n",
              "\n",
              "    .dataframe tbody tr th {\n",
              "        vertical-align: top;\n",
              "    }\n",
              "\n",
              "    .dataframe thead th {\n",
              "        text-align: right;\n",
              "    }\n",
              "</style>\n",
              "<table border=\"1\" class=\"dataframe\">\n",
              "  <thead>\n",
              "    <tr style=\"text-align: right;\">\n",
              "      <th></th>\n",
              "      <th>Title</th>\n",
              "      <th>Description</th>\n",
              "    </tr>\n",
              "  </thead>\n",
              "  <tbody>\n",
              "    <tr>\n",
              "      <th>0</th>\n",
              "      <td>फिल्म ‘भगवत् गीता’मा धिरज अनुबन्धित</td>\n",
              "      <td>फिल्म ‘भगवत् गीता’मा नायक धिरज मगर अनुबन्धित ह...</td>\n",
              "    </tr>\n",
              "    <tr>\n",
              "      <th>1</th>\n",
              "      <td>पब्जी विश्वकपमा नेपाल दोस्रो</td>\n",
              "      <td>पब्जी विश्वकपमा नेपाल दोस्रो भएको छ । इन्डोनेस...</td>\n",
              "    </tr>\n",
              "    <tr>\n",
              "      <th>2</th>\n",
              "      <td>मोदीको मातृभक्ति : आमाको खुट्टा धोएर लिए आशीर्वाद</td>\n",
              "      <td>भारतका प्रधानमन्त्री नरेन्द्र मोदीले आफ्नी आमा...</td>\n",
              "    </tr>\n",
              "    <tr>\n",
              "      <th>3</th>\n",
              "      <td>‘लोकतन्त्रप्रति प्रतिबद्ध नेतृत्व आउँछ’– निधि</td>\n",
              "      <td>कांग्रेसको १४ औं महाधिवेशमा नेतृत्व चयनका लागि...</td>\n",
              "    </tr>\n",
              "    <tr>\n",
              "      <th>4</th>\n",
              "      <td>'पथेर' र 'कदम'लाई पहिचान पुरस्कार</td>\n",
              "      <td>यस वर्ष पहिचान पुरस्कार श्याम शाहको कथासंग्रह ...</td>\n",
              "    </tr>\n",
              "    <tr>\n",
              "      <th>...</th>\n",
              "      <td>...</td>\n",
              "      <td>...</td>\n",
              "    </tr>\n",
              "    <tr>\n",
              "      <th>9509</th>\n",
              "      <td>युक्रेनमा सम्भावित ‘नरसंहार’ को सङ्केत : स्पेन...</td>\n",
              "      <td>स्पेनी प्रधानमन्त्री पेड्रो सान्चेजले सोमबार य...</td>\n",
              "    </tr>\n",
              "    <tr>\n",
              "      <th>9510</th>\n",
              "      <td>श्रीलङ्काका राष्ट्रपतिद्वारा विपक्षी दलहरूलाई ...</td>\n",
              "      <td>श्रीलङ्काका राष्ट्रपति गोटाबाया राजापाक्षेले द...</td>\n",
              "    </tr>\n",
              "    <tr>\n",
              "      <th>9511</th>\n",
              "      <td>श्रीलङ्काको केन्द्रीय बैंकका गभर्नरले पनि दिए ...</td>\n",
              "      <td>श्रीलङ्काको केन्द्रीय बैंकका गभर्नरले पनि सोमब...</td>\n",
              "    </tr>\n",
              "    <tr>\n",
              "      <th>9512</th>\n",
              "      <td>साक्रामेन्टो गोली हानाहानमा कम्तीमा छजनाको मृत्यु</td>\n",
              "      <td>अमेरिकाको क्यालिफोर्नियाको साक्रामेन्टोमा भएको...</td>\n",
              "    </tr>\n",
              "    <tr>\n",
              "      <th>9513</th>\n",
              "      <td>प्रधानमन्त्रीका छोरासहित श्रीलङ्काका २६ जना मन...</td>\n",
              "      <td>श्रीलङ्कामा सबैभन्दा चरम आर्थिक सङ्कट व्यवस्था...</td>\n",
              "    </tr>\n",
              "  </tbody>\n",
              "</table>\n",
              "<p>9514 rows × 2 columns</p>\n",
              "</div>\n",
              "      <button class=\"colab-df-convert\" onclick=\"convertToInteractive('df-e83bb0e7-d268-40c4-8c3f-6d1b493ecb8b')\"\n",
              "              title=\"Convert this dataframe to an interactive table.\"\n",
              "              style=\"display:none;\">\n",
              "        \n",
              "  <svg xmlns=\"http://www.w3.org/2000/svg\" height=\"24px\"viewBox=\"0 0 24 24\"\n",
              "       width=\"24px\">\n",
              "    <path d=\"M0 0h24v24H0V0z\" fill=\"none\"/>\n",
              "    <path d=\"M18.56 5.44l.94 2.06.94-2.06 2.06-.94-2.06-.94-.94-2.06-.94 2.06-2.06.94zm-11 1L8.5 8.5l.94-2.06 2.06-.94-2.06-.94L8.5 2.5l-.94 2.06-2.06.94zm10 10l.94 2.06.94-2.06 2.06-.94-2.06-.94-.94-2.06-.94 2.06-2.06.94z\"/><path d=\"M17.41 7.96l-1.37-1.37c-.4-.4-.92-.59-1.43-.59-.52 0-1.04.2-1.43.59L10.3 9.45l-7.72 7.72c-.78.78-.78 2.05 0 2.83L4 21.41c.39.39.9.59 1.41.59.51 0 1.02-.2 1.41-.59l7.78-7.78 2.81-2.81c.8-.78.8-2.07 0-2.86zM5.41 20L4 18.59l7.72-7.72 1.47 1.35L5.41 20z\"/>\n",
              "  </svg>\n",
              "      </button>\n",
              "      \n",
              "  <style>\n",
              "    .colab-df-container {\n",
              "      display:flex;\n",
              "      flex-wrap:wrap;\n",
              "      gap: 12px;\n",
              "    }\n",
              "\n",
              "    .colab-df-convert {\n",
              "      background-color: #E8F0FE;\n",
              "      border: none;\n",
              "      border-radius: 50%;\n",
              "      cursor: pointer;\n",
              "      display: none;\n",
              "      fill: #1967D2;\n",
              "      height: 32px;\n",
              "      padding: 0 0 0 0;\n",
              "      width: 32px;\n",
              "    }\n",
              "\n",
              "    .colab-df-convert:hover {\n",
              "      background-color: #E2EBFA;\n",
              "      box-shadow: 0px 1px 2px rgba(60, 64, 67, 0.3), 0px 1px 3px 1px rgba(60, 64, 67, 0.15);\n",
              "      fill: #174EA6;\n",
              "    }\n",
              "\n",
              "    [theme=dark] .colab-df-convert {\n",
              "      background-color: #3B4455;\n",
              "      fill: #D2E3FC;\n",
              "    }\n",
              "\n",
              "    [theme=dark] .colab-df-convert:hover {\n",
              "      background-color: #434B5C;\n",
              "      box-shadow: 0px 1px 3px 1px rgba(0, 0, 0, 0.15);\n",
              "      filter: drop-shadow(0px 1px 2px rgba(0, 0, 0, 0.3));\n",
              "      fill: #FFFFFF;\n",
              "    }\n",
              "  </style>\n",
              "\n",
              "      <script>\n",
              "        const buttonEl =\n",
              "          document.querySelector('#df-e83bb0e7-d268-40c4-8c3f-6d1b493ecb8b button.colab-df-convert');\n",
              "        buttonEl.style.display =\n",
              "          google.colab.kernel.accessAllowed ? 'block' : 'none';\n",
              "\n",
              "        async function convertToInteractive(key) {\n",
              "          const element = document.querySelector('#df-e83bb0e7-d268-40c4-8c3f-6d1b493ecb8b');\n",
              "          const dataTable =\n",
              "            await google.colab.kernel.invokeFunction('convertToInteractive',\n",
              "                                                     [key], {});\n",
              "          if (!dataTable) return;\n",
              "\n",
              "          const docLinkHtml = 'Like what you see? Visit the ' +\n",
              "            '<a target=\"_blank\" href=https://colab.research.google.com/notebooks/data_table.ipynb>data table notebook</a>'\n",
              "            + ' to learn more about interactive tables.';\n",
              "          element.innerHTML = '';\n",
              "          dataTable['output_type'] = 'display_data';\n",
              "          await google.colab.output.renderOutput(dataTable, element);\n",
              "          const docLink = document.createElement('div');\n",
              "          docLink.innerHTML = docLinkHtml;\n",
              "          element.appendChild(docLink);\n",
              "        }\n",
              "      </script>\n",
              "    </div>\n",
              "  </div>\n",
              "  "
            ]
          },
          "metadata": {},
          "execution_count": 10
        }
      ],
      "source": [
        "true_news"
      ]
    },
    {
      "cell_type": "code",
      "execution_count": null,
      "metadata": {
        "colab": {
          "base_uri": "https://localhost:8080/",
          "height": 35
        },
        "id": "q44wJgvn0Qdc",
        "outputId": "62faaf2f-e1f6-4ddb-acea-bd0120699cb3"
      },
      "outputs": [
        {
          "output_type": "execute_result",
          "data": {
            "text/plain": [
              "'फिल्म ‘भगवत् गीता’मा नायक धिरज मगर अनुबन्धित हुनुभएको छ ।'"
            ],
            "application/vnd.google.colaboratory.intrinsic+json": {
              "type": "string"
            }
          },
          "metadata": {},
          "execution_count": 11
        }
      ],
      "source": [
        "true_news['Description'][0]"
      ]
    },
    {
      "cell_type": "markdown",
      "metadata": {
        "id": "MhY_E7fb4DBZ"
      },
      "source": [
        "# Removing Punctuation from the data *set*"
      ]
    },
    {
      "cell_type": "code",
      "execution_count": null,
      "metadata": {
        "id": "37EAlXDJ319M"
      },
      "outputs": [],
      "source": [
        "#for true news dataset\n",
        "import re\n",
        "for i in list(true_news):\n",
        "  true_news[i]=true_news[i].str.replace('।', '')\n",
        "  true_news[i]=true_news[i].str.replace('?', '')\n",
        "  true_news[i]=true_news[i].str.replace(':', '')\n",
        "  true_news[i]=true_news[i].str.replace(';', '')\n",
        "  true_news[i]=true_news[i].str.replace(\"'\", '')\n",
        "  true_news[i]=true_news[i].str.replace('\"', '')\n",
        "  true_news[i]=true_news[i].str.replace(',', '')\n",
        "  true_news[i]=true_news[i].str.replace('.', '')\n",
        "  true_news[i]=true_news[i].str.replace('(', '')\n",
        "  true_news[i]=true_news[i].str.replace(')', '')\n",
        "  true_news[i]=true_news[i].str.replace('\\n', '')\n",
        "  true_news[i]=true_news[i].str.replace('&', '')\n",
        "  true_news[i]=true_news[i].str.replace('—', '')\n",
        "  true_news[i]=true_news[i].str.replace('‘', '')\n",
        "  true_news[i]=true_news[i].str.replace('’', '')\n",
        "  true_news[i]=true_news[i].str.replace('-', '')\n",
        "  true_news[i]=true_news[i].str.replace('“', '')\n",
        "  true_news[i]=true_news[i].str.replace('”', '')\n",
        "  true_news[i]=true_news[i].str.replace('!', '')\n",
        "\n",
        "\n",
        ""
      ]
    },
    {
      "cell_type": "code",
      "execution_count": null,
      "metadata": {
        "id": "wDEBOqclUsAD"
      },
      "outputs": [],
      "source": [
        "import re\n",
        "for i in list(fake_news):\n",
        "  fake_news[i]=fake_news[i].str.replace('।', '')\n",
        "  fake_news[i]=fake_news[i].str.replace('?', '')\n",
        "  fake_news[i]=fake_news[i].str.replace(':', '')\n",
        "  fake_news[i]=fake_news[i].str.replace(';', '')\n",
        "  fake_news[i]=fake_news[i].str.replace(\"'\", '')\n",
        "  fake_news[i]=fake_news[i].str.replace('\"', '')\n",
        "  fake_news[i]=fake_news[i].str.replace(',', '')\n",
        "  fake_news[i]=fake_news[i].str.replace('.', '')\n",
        "  fake_news[i]=fake_news[i].str.replace('(', '')\n",
        "  fake_news[i]=fake_news[i].str.replace(')', '')\n",
        "  fake_news[i]=fake_news[i].str.replace('\\n', '')\n",
        "  fake_news[i]=fake_news[i].str.replace('&', '')\n",
        "  fake_news[i]=fake_news[i].str.replace('—', '')\n",
        "  fake_news[i]=fake_news[i].str.replace('‘', '')\n",
        "  fake_news[i]=fake_news[i].str.replace('’', '')\n",
        "  fake_news[i]=fake_news[i].str.replace('-', '')\n",
        "  fake_news[i]=fake_news[i].str.replace('“', '')\n",
        "  fake_news[i]=fake_news[i].str.replace('”', '')\n",
        "  fake_news[i]=fake_news[i].str.replace('!', '')\n",
        "  fake_news[i]=fake_news[i].str.replace('[', '')\n",
        "  fake_news[i]=fake_news[i].str.replace(']', '')"
      ]
    },
    {
      "cell_type": "code",
      "execution_count": null,
      "metadata": {
        "colab": {
          "base_uri": "https://localhost:8080/",
          "height": 35
        },
        "id": "LMKCUDBM31_v",
        "outputId": "4bcf8e5d-39bd-4412-968c-d0980914c789"
      },
      "outputs": [
        {
          "output_type": "execute_result",
          "data": {
            "text/plain": [
              "'फिल्म भगवत् गीतामा नायक धिरज मगर अनुबन्धित हुनुभएको छ '"
            ],
            "application/vnd.google.colaboratory.intrinsic+json": {
              "type": "string"
            }
          },
          "metadata": {},
          "execution_count": 15
        }
      ],
      "source": [
        "true_news['Description'][0]"
      ]
    },
    {
      "cell_type": "code",
      "execution_count": null,
      "metadata": {
        "colab": {
          "base_uri": "https://localhost:8080/",
          "height": 35
        },
        "id": "_bOCydPV32Uj",
        "outputId": "08627b29-4cda-41e6-bfa1-fb115fd4e2c7"
      },
      "outputs": [
        {
          "output_type": "execute_result",
          "data": {
            "text/plain": [
              "'फिल्म भगवत् गीतामा धिरज अनुबन्धित'"
            ],
            "application/vnd.google.colaboratory.intrinsic+json": {
              "type": "string"
            }
          },
          "metadata": {},
          "execution_count": 16
        }
      ],
      "source": [
        "true_news['Title'][0]"
      ]
    },
    {
      "cell_type": "code",
      "execution_count": null,
      "metadata": {
        "colab": {
          "base_uri": "https://localhost:8080/",
          "height": 35
        },
        "id": "DotKyh6B3760",
        "outputId": "08304225-d048-440b-e326-f9ea29ce44bb"
      },
      "outputs": [
        {
          "output_type": "execute_result",
          "data": {
            "text/plain": [
              "' ट्रम्पडम ट्रम्पको विदेश नीतिको जिज्ञासु संसार व्याख्या गरियो'"
            ],
            "application/vnd.google.colaboratory.intrinsic+json": {
              "type": "string"
            }
          },
          "metadata": {},
          "execution_count": 17
        }
      ],
      "source": [
        "fake_news['Title'][0]"
      ]
    },
    {
      "cell_type": "code",
      "execution_count": null,
      "metadata": {
        "colab": {
          "base_uri": "https://localhost:8080/",
          "height": 122
        },
        "id": "FGBmNq0gVXW_",
        "outputId": "4b5c948b-76c8-476c-ecb4-f49daf8f94d7"
      },
      "outputs": [
        {
          "output_type": "execute_result",
          "data": {
            "text/plain": [
              "'सेन जेफरसन ब्यूरेगार्ड सेसन्स III डोनाल्ड ट्रम्पको मित्रवत तर उग्र अलाबामा सहयोगी रिपब्लिकनहरूका लागि उनीहरूको पार्टीको उम्मेदवारको बारेमा अझै पनि अप्ठ्यारोमा रहेको सन्देश छ टाइड तपाईंमाथि रोल गर्न लागेको छ गत अगस्टमा मोबाइलमा भएको विशाल र्\\u200dयालीमा मेक अमेरिका ग्रेट अगेन ट्रकर्स क्याप प्रख्यात रूपमा धारण गर्ने ६९ वर्षीय पूर्व राज्य महान्यायाधिवक्ता सेसन्सले ट्रम्पलाई मानिसभन्दा आन्दोलन बढी ठान्नुहुन्छ र देशका प्रचारकहरू र शिक्षकहरूको यो प्रखर छोरा सम्भवतः सुसमाचार प्रचार गर्ने मिशनमा छ  डोनाल्डको अनुसार आत्मसंरक्षणको उपदेशको साथमा हाउस स्पीकर पॉल रायन जस्ता ट्रम्पहरू मेरो सल्लाह सुन्न र अमेरिकी जनताको इच्छालाई स्वीकार गर्ने हो रिपब्लिकन मतदाता रिपब्लिकन पार्टी रिपब्लिकन मतदाता हो उनले रायनको सुझावलाई औंल्याए सन्दर्भ थपे कि उनी पार्टीको उम्मेदवार होइन प्रामाणिक रूढिवादी मूल्यहरूको प्रतिनिधित्व गर्दछ एक छिन हाम्रो पार्टी भित्रको धेरै बहाव मतदाताको इच्छाबाट टाढा भएको छ मलाई लाग्छ सबै दलका नेताहरू यथार्थसँग मिल्दोजुल्दो हुन्छन्  उनीहरूले मात्रै गर्नुपर्छ वा उनीहरू पदमा बस्ने छैनन् पहिले नै धेरैले यो महसुस गरिरहेका छन् मार्फत पोलिटिकोफक्स न्युजले रिपोर्ट गर्यो रियल इस्टेट मोगलले रिपब्लिकन उम्मेदवारलाई सिलाई गर्नु अघि डोनाल्ड ट्रम्पको रेलमा चढेका अलाबामा सेन जेफ सेसन्सलाई महान्यायाधिवक्ताको पद प्रस्ताव गरिएको छ फक्स न्यूजले पुष्टि गरेको छ सत्र 69 जो चुनावी अभियानका क्रममा ट्रम्पलाई आप्रवासनबारे सल्लाह दिएका सन् १९९६ मा अमेरिकी सिनेटमा निर्वाचित हुनुअघि सन् १९८१ देखि १९९३ सम्म अलाबामाको दक्षिणी जिल्लाका लागि अमेरिकी वकिल थिए उनी सन् २०१४ मा चौथो कार्यकालका लागि पुनः निर्वाचित भएका थिए मेक अमेरिका ग्रेट अगेन बेसबल क्याप अगस्ट 2015 ट्रम्पको र्\\u200dयालीमा र फेब्रुअरी 28 2016 मा ट्रम्पलाई औपचारिक रूपमा समर्थन गरे उनका लामो समयका प्रवक्ता स्टीफन मिलर पछि ट्रम्पको अभियानमा वरिष्ठ सल्लाहकारको रूपमा सामेल भए थप पढ्नुहोस् FOX समाचार'"
            ],
            "application/vnd.google.colaboratory.intrinsic+json": {
              "type": "string"
            }
          },
          "metadata": {},
          "execution_count": 19
        }
      ],
      "source": [
        "fake_news['Description'][1]"
      ]
    },
    {
      "cell_type": "markdown",
      "metadata": {
        "id": "EbHf7wxPFjVs"
      },
      "source": [
        "# StopWord Removal"
      ]
    },
    {
      "cell_type": "code",
      "execution_count": null,
      "metadata": {
        "id": "lg-2WD6bFh7-"
      },
      "outputs": [],
      "source": [
        "stop=open('/content/drive/MyDrive/FakeNewsDetection/stopwords_new.txt')\n",
        "stopwords=[]\n",
        "for x in stop:\n",
        "  x = x.replace('\\n', '')\n",
        "  stopwords.append(x)"
      ]
    },
    {
      "cell_type": "code",
      "execution_count": null,
      "metadata": {
        "colab": {
          "base_uri": "https://localhost:8080/"
        },
        "id": "43VrCtaPGKJM",
        "outputId": "eb070185-8ea2-4f50-f410-11edb9f8fc08"
      },
      "outputs": [
        {
          "output_type": "execute_result",
          "data": {
            "text/plain": [
              "['',\n",
              " 'आफ्न',\n",
              " 'गर्नेछौ',\n",
              " 'वाहे',\n",
              " 'जसम',\n",
              " 'सङ्गको',\n",
              " 'चाहे',\n",
              " 'जस्तै',\n",
              " 'भनेर',\n",
              " 'तिमीसँ',\n",
              " 'चाहन्छौ',\n",
              " 'जाहि',\n",
              " 'सम्भ',\n",
              " 'भन्छन्',\n",
              " 'त्यस्तो',\n",
              " 'प्रत्येक',\n",
              " 'कत',\n",
              " 'थरि',\n",
              " 'त्यस्तै',\n",
              " 'कति',\n",
              " 'गर्छ',\n",
              " 'आफैल',\n",
              " 'सायद',\n",
              " 'त्यसै',\n",
              " 'सुरुमै',\n",
              " 'भीत्र',\n",
              " 'पटक',\n",
              " 'अलग',\n",
              " 'अक्स',\n",
              " 'गर्दछ',\n",
              " 'जसको',\n",
              " 'नत्र',\n",
              " 'राख्',\n",
              " 'थिएन',\n",
              " 'छु',\n",
              " 'यद',\n",
              " 'हो',\n",
              " 'अर्थात',\n",
              " 'गर्द',\n",
              " 'छौं',\n",
              " 'पाँ',\n",
              " 'होकि',\n",
              " 'भन्न',\n",
              " 'दि',\n",
              " 'नै',\n",
              " 'पछिल्ल',\n",
              " 'सध',\n",
              " 'आत्',\n",
              " 'पक्क',\n",
              " 'तेस्कार',\n",
              " 'पर्नेमा',\n",
              " 'कम से क',\n",
              " 'एउटा',\n",
              " 'सक्नुहुन्छ',\n",
              " 'भन्द',\n",
              " 'उनीहरु',\n",
              " 'म',\n",
              " 'उसलाई',\n",
              " 'रे',\n",
              " 'सम',\n",
              " 'बिच',\n",
              " 'त्यत्तिकै',\n",
              " 'जस्त',\n",
              " 'पनि',\n",
              " 'यसैल',\n",
              " 'वाहेक',\n",
              " 'ठाउँमा',\n",
              " 'प्रत्ये',\n",
              " 'गय',\n",
              " 'अल',\n",
              " 'निर्दिष्',\n",
              " 'कोही',\n",
              " 'यस',\n",
              " 'आफैलाई',\n",
              " 'द्वार',\n",
              " 'यस्तै',\n",
              " 'अर्क',\n",
              " 'मैल',\n",
              " 'एकद',\n",
              " 'छिन्',\n",
              " 'कस्त',\n",
              " 'देखेको',\n",
              " 'समयम',\n",
              " 'तिनै',\n",
              " 'चाले',\n",
              " 'पर्याप्त',\n",
              " 'सम्म',\n",
              " 'जस',\n",
              " 'स्पष्',\n",
              " 'यस्त',\n",
              " 'अरू',\n",
              " 'दश',\n",
              " 'समेत',\n",
              " 'सोध्',\n",
              " 'त्य',\n",
              " 'ऊ',\n",
              " 'तसरी',\n",
              " 'मात्र',\n",
              " 'जबकि',\n",
              " 'तिनीहरूले',\n",
              " 'किनभने',\n",
              " 'उदाहरण',\n",
              " 'नभएको',\n",
              " 'केही',\n",
              " 'साय',\n",
              " 'तिनीहरूलाई',\n",
              " 'बाहिर',\n",
              " 'मुख्',\n",
              " 'पट',\n",
              " 'दिनुहुन्छ',\n",
              " 'औं',\n",
              " 'तिनीहरूल',\n",
              " 'देख्',\n",
              " 'कसर',\n",
              " 'केहि',\n",
              " 'तिनीहरू',\n",
              " 'तेस्रो',\n",
              " 'बारे',\n",
              " 'कहिल',\n",
              " 'रह',\n",
              " 'बन्',\n",
              " 'भन्दा',\n",
              " 'मैले',\n",
              " 'तथ',\n",
              " 'गर्यौ',\n",
              " 'द्वारा',\n",
              " 'अगाडि',\n",
              " 'हरे',\n",
              " 'नजिकै',\n",
              " 'झैं',\n",
              " 'चाहीं',\n",
              " 'कहा',\n",
              " 'माथी',\n",
              " 'आएको',\n",
              " 'हुनेछ',\n",
              " 'भन्ने',\n",
              " 'वरिपर',\n",
              " 'लाई',\n",
              " 'कोहि',\n",
              " 'जनाले',\n",
              " 'तथापी',\n",
              " 'कता',\n",
              " 'पर्',\n",
              " 'सँगसँगै',\n",
              " 'अरुलाई',\n",
              " 'तत्काल',\n",
              " 'भन्दै',\n",
              " 'यथोचित',\n",
              " 'गैर',\n",
              " 'आफूलाई',\n",
              " 'प्रते',\n",
              " 'रुपमा',\n",
              " 'निम्नानुसा',\n",
              " 'नि',\n",
              " 'थप',\n",
              " 'साँच्चै',\n",
              " 'अर',\n",
              " 'तेस्र',\n",
              " 'सुरु',\n",
              " 'किन',\n",
              " 'नत्',\n",
              " 'हुने',\n",
              " 'शाय',\n",
              " 'पछि',\n",
              " 'दे',\n",
              " 'सहितै',\n",
              " 'कहिल्य',\n",
              " 'साथै',\n",
              " 'बीचम',\n",
              " 'या',\n",
              " 'थ',\n",
              " 'पूर्',\n",
              " 'जुनै',\n",
              " 'जतातत',\n",
              " 'हरेक',\n",
              " 'अन्तर्गत',\n",
              " 'आद',\n",
              " 'लिए',\n",
              " 'जु',\n",
              " 'मेरो',\n",
              " 'उस्त',\n",
              " 'उनलाई',\n",
              " 'कस',\n",
              " 'चौथो',\n",
              " 'उहाला',\n",
              " 'तथा',\n",
              " 'कसैले',\n",
              " 'केवल',\n",
              " 'लाख',\n",
              " 'पिच्छे',\n",
              " 'निम्',\n",
              " 'गर',\n",
              " 'समय',\n",
              " 'मात्',\n",
              " 'तपाइँको',\n",
              " 'दिनुभएको',\n",
              " 'सार',\n",
              " 'तीन',\n",
              " 'पछाडी',\n",
              " 'मध्य',\n",
              " 'तिरको',\n",
              " 'स',\n",
              " 'गरे',\n",
              " 'छन',\n",
              " 'हेर्न',\n",
              " 'यहाँसम्',\n",
              " 'यसक',\n",
              " 'त्यो',\n",
              " 'निर्दिष्ट',\n",
              " 'आफनो',\n",
              " 'अनुसा',\n",
              " 'य',\n",
              " 'त्सैले',\n",
              " 'हुँ',\n",
              " 'सबैला',\n",
              " 'अघि',\n",
              " 'कहाँबा',\n",
              " 'तैपनी',\n",
              " 'जबकी',\n",
              " 'तैपनि',\n",
              " 'पर्ने',\n",
              " 'प्रत',\n",
              " 'हामीसँ',\n",
              " 'बाटो',\n",
              " 'भएक',\n",
              " 'नलिए',\n",
              " 'गर्नेछैन',\n",
              " 'तेह्र',\n",
              " 'जाहिर',\n",
              " 'औ',\n",
              " 'अक्सर',\n",
              " 'बिशे',\n",
              " 'आफैला',\n",
              " 'नयाँ',\n",
              " 'कसरी',\n",
              " 'गर्',\n",
              " 'सह',\n",
              " 'आय',\n",
              " 'गर्नेछन',\n",
              " 'हर',\n",
              " 'नभनेर',\n",
              " 'गर्नु',\n",
              " 'उदाहर',\n",
              " 'पर्थ्य',\n",
              " 'थि',\n",
              " 'कम',\n",
              " 'जसलाई',\n",
              " 'छौ',\n",
              " 'तिमि',\n",
              " 'उन',\n",
              " 'सत्र',\n",
              " 'यद्ध्यपि',\n",
              " 'कोहिपनि',\n",
              " 'भने',\n",
              " 'यसैले',\n",
              " 'जता',\n",
              " 'ति',\n",
              " 'कम से कम',\n",
              " 'यस्तो',\n",
              " 'तपाइँ',\n",
              " 'घर',\n",
              " 'रहेक',\n",
              " 'रहेका',\n",
              " 'रही',\n",
              " 'एक',\n",
              " 'तिन',\n",
              " 'दिनुभएक',\n",
              " 'रू',\n",
              " 'हुन्थ',\n",
              " 'थाहा',\n",
              " 'चा',\n",
              " 'लागेको',\n",
              " 'होइन',\n",
              " 'गर्छु',\n",
              " 'जस्ता',\n",
              " 'आफ्नै',\n",
              " 'बन',\n",
              " 'बने',\n",
              " 'पन्ध्र',\n",
              " 'भा',\n",
              " 'पारेर',\n",
              " 'त्यसकार',\n",
              " 'वाट',\n",
              " 'त्यसकारण',\n",
              " 'कुन्नी',\n",
              " 'दिँदै',\n",
              " 'सही',\n",
              " 'दिएको',\n",
              " 'हटाएर',\n",
              " 'पक्कै',\n",
              " 'गर्नुपर्छ',\n",
              " 'तत्का',\n",
              " 'देख',\n",
              " 'अगाड',\n",
              " 'आ',\n",
              " 'वटा',\n",
              " 'भ',\n",
              " 'जसला',\n",
              " 'क्रमशः',\n",
              " 'राख',\n",
              " 'यी',\n",
              " 'सुरुको',\n",
              " 'हामीलाई',\n",
              " 'गरेर',\n",
              " 'ठीक',\n",
              " 'थिए',\n",
              " 'तर',\n",
              " 'मार्फत',\n",
              " 'बारेमा',\n",
              " 'देखिय',\n",
              " 'हामीसँग',\n",
              " 'हौं',\n",
              " 'यति',\n",
              " 'यद्यप',\n",
              " 'तल',\n",
              " 'तपाईक',\n",
              " 'पर्थ्यो',\n",
              " 'जहाँ',\n",
              " 'होइनन',\n",
              " 'सँ',\n",
              " 'होस्',\n",
              " 'र',\n",
              " 'माथि',\n",
              " 'तिनीहरुक',\n",
              " 'जा',\n",
              " 'पछ',\n",
              " 'यदि',\n",
              " 'बन्न',\n",
              " 'विशेष',\n",
              " 'जसबा',\n",
              " 'जसमा',\n",
              " 'ग',\n",
              " 'चोटी',\n",
              " 'भन',\n",
              " 'नचाहे',\n",
              " 'जब',\n",
              " 'भए',\n",
              " 'दोस्र',\n",
              " 'भन्या',\n",
              " 'बी',\n",
              " 'दोश्र',\n",
              " 'सक्छ',\n",
              " 'जनाको',\n",
              " 'उनीहर',\n",
              " 'नत्रभने',\n",
              " 'पहिल्यै',\n",
              " 'अलि',\n",
              " 'वरीपरी',\n",
              " 'भन्छन',\n",
              " 'भरि',\n",
              " 'यो',\n",
              " 'थिएनन्',\n",
              " 'अन्यथ',\n",
              " 'गएको',\n",
              " 'चार',\n",
              " 'गएर',\n",
              " 'रहे',\n",
              " 'स्पष्ट',\n",
              " 'कही',\n",
              " 'सहित',\n",
              " 'उनि',\n",
              " 'बरु',\n",
              " 'निम्त',\n",
              " 'अन्',\n",
              " 'हुन्',\n",
              " 'कहिल्यै',\n",
              " 'तिम्रो',\n",
              " 'यसपछ',\n",
              " 'जसल',\n",
              " 'रहँदै',\n",
              " 'हु',\n",
              " 'देखे',\n",
              " 'देखेक',\n",
              " 'चाहेर',\n",
              " 'चाहन्थ',\n",
              " 'जस्तोसुक',\n",
              " 'कतै',\n",
              " 'कहिले',\n",
              " 'देखियो',\n",
              " 'सट्टा',\n",
              " 'जोपनी',\n",
              " 'सम्',\n",
              " 'भएर',\n",
              " 'चाहिं',\n",
              " 'हुन',\n",
              " 'छौँ',\n",
              " 'अन्यत्',\n",
              " 'ल',\n",
              " 'आफु',\n",
              " 'हुन्छ',\n",
              " 'ले',\n",
              " 'थिय',\n",
              " 'तर्फ',\n",
              " 'बताइए ',\n",
              " 'गर्दै',\n",
              " 'माथ',\n",
              " 'सकिने',\n",
              " 'नगर्नुहोस',\n",
              " 'मलाई',\n",
              " 'हामीले',\n",
              " 'बिशेष',\n",
              " 'तेश्रो',\n",
              " 'चाहेको',\n",
              " 'शायद',\n",
              " 'त्सपछ',\n",
              " 'पाँच',\n",
              " 'सट्ट',\n",
              " 'ह',\n",
              " 'प्लस',\n",
              " 'लगभ',\n",
              " 'होस',\n",
              " 'जताततै',\n",
              " 'सय',\n",
              " 'त्यसको',\n",
              " 'पो',\n",
              " 'अनि',\n",
              " 'ठी',\n",
              " 'पहिल्य',\n",
              " 'तुरुन्त',\n",
              " 'आफ',\n",
              " 'त्यस',\n",
              " 'तुरुन्तै',\n",
              " 'फेर',\n",
              " 'कहिलेकाही',\n",
              " 'आफै',\n",
              " 'कृपया',\n",
              " 'यता',\n",
              " 'भएका',\n",
              " 'ओठ',\n",
              " 'सब',\n",
              " 'तेस्कारण',\n",
              " 'सात',\n",
              " 'तपाईं',\n",
              " 'वापत',\n",
              " 'सँगै',\n",
              " 'सक्ने',\n",
              " 'मला',\n",
              " 'यत',\n",
              " 'आदिलाई',\n",
              " 'थरी',\n",
              " 'यसमा',\n",
              " 'तिमी',\n",
              " 'अथवा',\n",
              " 'हुनेछु',\n",
              " 'प्रतेक',\n",
              " 'चाहन्छन्',\n",
              " 'रहेको',\n",
              " 'ठूलो',\n",
              " 'उप',\n",
              " 'पर्दैन',\n",
              " 'जुन',\n",
              " 'अन्यथा',\n",
              " 'मात्रै',\n",
              " 'तपाई',\n",
              " 'दोश्रो',\n",
              " 'तपाइ',\n",
              " 'पाँचौ',\n",
              " 'सोध्न',\n",
              " 'दिनुहुन्',\n",
              " 'दिन्छ',\n",
              " 'भयो',\n",
              " 'अहिले',\n",
              " 'हुनत',\n",
              " 'आफू',\n",
              " 'सँगको',\n",
              " 'हजार',\n",
              " 'क',\n",
              " 'संग',\n",
              " 'बिस',\n",
              " 'मँ',\n",
              " 'तुरन्त',\n",
              " 'बाह्र',\n",
              " 'बिरुद्ध',\n",
              " 'गर्नेहोईन',\n",
              " 'दु',\n",
              " 'तदनुसा',\n",
              " 'भयेन',\n",
              " 'सङ्ग',\n",
              " 'बताए',\n",
              " 'बाहि',\n",
              " 'अरूलाई',\n",
              " 'चाँडै',\n",
              " 'आदि',\n",
              " 'अर्था',\n",
              " 'छै',\n",
              " 'यसो',\n",
              " 'त्यसैले',\n",
              " 'ए',\n",
              " 'चाल',\n",
              " 'त्यहाँ',\n",
              " 'कसैको',\n",
              " 'यसको',\n",
              " 'उहा',\n",
              " 'अधिक',\n",
              " 'भन्नुभयो',\n",
              " 'कुरा',\n",
              " 'उहालाई',\n",
              " 'कसै',\n",
              " 'भएँ',\n",
              " 'सोह',\n",
              " 'पांच',\n",
              " 'सोचेको',\n",
              " 'होइनन्',\n",
              " 'यहाँ',\n",
              " 'तिर',\n",
              " 'गर्नेहो',\n",
              " 'बढी',\n",
              " 'अरुला',\n",
              " 'सक्नेछन्',\n",
              " 'तापनी',\n",
              " 'भन्छ',\n",
              " 'उनी',\n",
              " 'उनक',\n",
              " 'जोपनि',\n",
              " 'कि',\n",
              " 'उक्त',\n",
              " 'आफूला',\n",
              " 'अठार',\n",
              " 'अरु',\n",
              " 'आफ्नो',\n",
              " 'चाहनुहुन्',\n",
              " 'छू',\n",
              " 'उहाँला',\n",
              " 'एउटै',\n",
              " 'यहाँसम्म',\n",
              " 'कहिलेकाहीं',\n",
              " 'गर्दा',\n",
              " 'पहिले',\n",
              " 'छैनन्',\n",
              " 'देखि',\n",
              " 'जना',\n",
              " 'धौ',\n",
              " 'गर्यौं',\n",
              " 'तपाईको',\n",
              " 'विरुद्',\n",
              " 'आज',\n",
              " 'दुइ',\n",
              " 'आफैले',\n",
              " 'किनभन',\n",
              " 'जनालाई',\n",
              " 'के',\n",
              " 'दुब',\n",
              " 'सोही',\n",
              " 'अर्को',\n",
              " 'पहिलो',\n",
              " 'पूर्व',\n",
              " 'काम',\n",
              " 'तपाइँक',\n",
              " 'हुँदै',\n",
              " 'अगाडी',\n",
              " 'फेरी',\n",
              " 'पन',\n",
              " 'सबै',\n",
              " 'तता',\n",
              " 'बिचमा',\n",
              " 'कृपय',\n",
              " 'कस्तो',\n",
              " 'सक्दैन',\n",
              " 'वास्तवम',\n",
              " 'दिन',\n",
              " 'उनल',\n",
              " 'भनेको',\n",
              " 'अर्थात्',\n",
              " 'पछिल्लो',\n",
              " 'ला',\n",
              " 'अन्तर्ग',\n",
              " 'कहीं',\n",
              " 'तिनी',\n",
              " 'त्यत्तिकैमा',\n",
              " 'आफैँ',\n",
              " 'कसैलाई',\n",
              " 'गरेका',\n",
              " 'त्यसपछि',\n",
              " 'तिनिहरुला',\n",
              " 'व',\n",
              " 'हाम्रो',\n",
              " 'सकिए',\n",
              " 'सुनेर',\n",
              " 'बारेम',\n",
              " 'भरी',\n",
              " 'देख्न',\n",
              " 'प्ल',\n",
              " 'हुनु',\n",
              " 'पाचौँ',\n",
              " 'हुँदैन',\n",
              " 'भित्',\n",
              " 'निम्ति',\n",
              " 'कुनै',\n",
              " 'राख्छ',\n",
              " 'अझ',\n",
              " 'न',\n",
              " 'हुनुहुन्',\n",
              " 'चाहिंले',\n",
              " 'संगै',\n",
              " 'मुन्तिर',\n",
              " 'सँग',\n",
              " 'केह',\n",
              " 'सधै',\n",
              " 'आएका',\n",
              " 'सम्भव',\n",
              " 'अरूला',\n",
              " 'जसक',\n",
              " 'तिनि',\n",
              " 'त्सैल',\n",
              " 'भर',\n",
              " 'निकै',\n",
              " 'भने्',\n",
              " 'सक्नुहुन्न',\n",
              " 'गर्नुपर्',\n",
              " 'सुनेको',\n",
              " 'बन्द',\n",
              " 'चौध',\n",
              " 'सकिएन',\n",
              " 'वरिपरि',\n",
              " 'नजिक',\n",
              " 'सं',\n",
              " 'उसला',\n",
              " 'चाहन्थे',\n",
              " 'प्रत्यक',\n",
              " 'त्यसम',\n",
              " 'हुन्थे',\n",
              " 'मा',\n",
              " 'रूप',\n",
              " 'विशे',\n",
              " 'आत्म',\n",
              " 'रहेछ',\n",
              " 'अ',\n",
              " 'दुबै',\n",
              " 'चाहन्छौं',\n",
              " 'बाहेक',\n",
              " 'यसर',\n",
              " 'हाम्र',\n",
              " 'तदनुसार',\n",
              " 'गर्नेछ',\n",
              " 'यसका',\n",
              " 'चाहिए',\n",
              " 'ती',\n",
              " 'निम्नानुसार',\n",
              " 'आजक',\n",
              " 'एघार',\n",
              " 'सक्',\n",
              " 'चाहनुहुन्छ',\n",
              " 'तिनीहरूको',\n",
              " 'विरुद्ध',\n",
              " 'दर्ता',\n",
              " 'तपा',\n",
              " 'त्सपछि',\n",
              " 'प्रति',\n",
              " 'मार्फ',\n",
              " 'मध्ये',\n",
              " 'फेरि',\n",
              " 'अनुसार',\n",
              " 'तिनीहरु',\n",
              " 'जहा',\n",
              " 'तापन',\n",
              " 'कारण',\n",
              " 'यद्यपि',\n",
              " 'यही',\n",
              " 'नगर्नू',\n",
              " 'लागि',\n",
              " 'यथोचि',\n",
              " 'कसैसँग',\n",
              " 'तयार',\n",
              " 'देखिन्छ',\n",
              " 'भित्र',\n",
              " 'तिनीहरूक',\n",
              " 'आजको',\n",
              " 'दोस्रो',\n",
              " 'थियो',\n",
              " 'सो',\n",
              " 'तिनीहरूला',\n",
              " 'उसले',\n",
              " 'सकदिन',\n",
              " 'गयौ',\n",
              " 'हामीला',\n",
              " 'उनले',\n",
              " 'जसले',\n",
              " 'भएन',\n",
              " 'अन्य',\n",
              " 'त्यहा',\n",
              " 'चाहन्छ',\n",
              " 'आउन',\n",
              " 'त्यसमा',\n",
              " 'जाने',\n",
              " 'थिएँ',\n",
              " 'आए',\n",
              " 'का',\n",
              " 'त्यहीं',\n",
              " 'पछाडि',\n",
              " 'कसरि',\n",
              " 'दुई',\n",
              " 'धेर',\n",
              " 'समयमा',\n",
              " 'त्यहिँ',\n",
              " 'फरक',\n",
              " 'तिमीसँग',\n",
              " 'बा',\n",
              " 'भएको',\n",
              " 'तापनि',\n",
              " 'लगायत',\n",
              " 'कसैल',\n",
              " 'त्यसो',\n",
              " 'यसले',\n",
              " 'कहाँबाट',\n",
              " 'सोह्र',\n",
              " 'नया',\n",
              " 'उनको',\n",
              " 'राम्र',\n",
              " 'उस्तै',\n",
              " 'तिम्र',\n",
              " 'त',\n",
              " 'सोचेर',\n",
              " 'उहाँ',\n",
              " 'यहीँ ',\n",
              " 'होल',\n",
              " 'बीस',\n",
              " 'एकदम',\n",
              " 'भएकालाई',\n",
              " 'उनीहरुको',\n",
              " 'चाहन्छु',\n",
              " 'हुन्थ्यो',\n",
              " 'देखेर',\n",
              " 'त्यसैल',\n",
              " 'सरह',\n",
              " 'धन्न',\n",
              " 'देखिन्',\n",
              " 'कोह',\n",
              " 'गर्नेछन्',\n",
              " 'केव',\n",
              " 'आठ',\n",
              " 'त्यसले',\n",
              " 'भन्',\n",
              " 'अन्यत्र',\n",
              " 'त्यसपछ',\n",
              " 'यसपछि',\n",
              " 'गरिरहे',\n",
              " 'को',\n",
              " 'दिए',\n",
              " 'कोहीपनि',\n",
              " 'तिनिहरुलाई',\n",
              " 'कमसेकम',\n",
              " 'जान',\n",
              " 'गए',\n",
              " 'ज',\n",
              " 'यसबाहे',\n",
              " 'हाम्रा',\n",
              " 'बार',\n",
              " 'आयो',\n",
              " 'यसरी',\n",
              " 'जुनसुकै',\n",
              " 'नगर्नु',\n",
              " 'नभई',\n",
              " 'नआउन',\n",
              " 'बर',\n",
              " 'गै',\n",
              " 'कुन',\n",
              " 'गरी',\n",
              " 'जसरी',\n",
              " 'जस्तोसुकै',\n",
              " 'तब',\n",
              " 'कुर',\n",
              " 'भित्री',\n",
              " 'गर्ने',\n",
              " 'राखे',\n",
              " 'छ',\n",
              " 'सारा',\n",
              " 'नौ',\n",
              " 'तथापि',\n",
              " 'कुनैपनि',\n",
              " 'अझै',\n",
              " 'बाहे',\n",
              " 'प्राय',\n",
              " 'नरहे',\n",
              " 'उ',\n",
              " 'सा',\n",
              " 'छैन',\n",
              " 'भन्नुभय',\n",
              " 'त्यहीँ',\n",
              " 'यसबाहेक',\n",
              " 'साथ',\n",
              " 'पाँचौं',\n",
              " 'सकदि',\n",
              " 'उसको',\n",
              " 'गरौ',\n",
              " 'जबक',\n",
              " 'साँच्च',\n",
              " 'जसबाट',\n",
              " 'चाँड',\n",
              " 'पर्छ',\n",
              " 'गरि',\n",
              " 'होला',\n",
              " 'हैन',\n",
              " 'निम्न',\n",
              " 'छन्',\n",
              " 'लाग',\n",
              " 'एउट',\n",
              " 'पछी',\n",
              " 'गर्न',\n",
              " 'दुइवटा',\n",
              " 'बिरुद्',\n",
              " 'सक्दै',\n",
              " 'गरेको',\n",
              " 'वास्तवमा',\n",
              " 'पर्याप्',\n",
              " 'सबैलाई',\n",
              " 'बीचमा',\n",
              " 'सबैको',\n",
              " 'जस्तो',\n",
              " 'अब',\n",
              " 'भन्छु',\n",
              " 'थिएनन',\n",
              " 'ओ',\n",
              " 'हुनुहुन्छ',\n",
              " 'सधैं',\n",
              " 'मेर',\n",
              " 'बाट',\n",
              " 'वा',\n",
              " 'तिम',\n",
              " 'गर्छन्',\n",
              " 'उहाँलाई',\n",
              " 'क्रमश',\n",
              " 'मुनि',\n",
              " 'दोश्री',\n",
              " 'त्यही',\n",
              " 'यहा',\n",
              " 'वरीपर',\n",
              " 'उन्नाइस',\n",
              " 'गरेक',\n",
              " 'हाम',\n",
              " 'मुख्य',\n",
              " 'जो',\n",
              " 'गर्दैन',\n",
              " 'स्थित',\n",
              " 'हामी',\n",
              " 'होइ',\n",
              " 'कहाँ',\n",
              " 'धेरै',\n",
              " 'पहिल',\n",
              " 'जे',\n",
              " 'तिनीहरुको',\n",
              " 'दिदैन',\n",
              " 'अवस्था',\n",
              " 'पक्का',\n",
              " 'चाहि',\n",
              " 'नगर्नुहोस्',\n",
              " 'लगभग',\n",
              " 'अधि',\n",
              " 'राम्रो',\n",
              " 'तिनीहर',\n",
              " 'गरौं',\n",
              " 'बीच']"
            ]
          },
          "metadata": {},
          "execution_count": 21
        }
      ],
      "source": [
        "#list of the stop words\n",
        "stopwords"
      ]
    },
    {
      "cell_type": "code",
      "execution_count": null,
      "metadata": {
        "colab": {
          "base_uri": "https://localhost:8080/"
        },
        "id": "Lc98dc5z1HJT",
        "outputId": "b2599424-559f-4dfe-8041-9106487ee0ff"
      },
      "outputs": [
        {
          "output_type": "execute_result",
          "data": {
            "text/plain": [
              "851"
            ]
          },
          "metadata": {},
          "execution_count": 22
        }
      ],
      "source": [
        "len(stopwords)"
      ]
    },
    {
      "cell_type": "code",
      "execution_count": null,
      "metadata": {
        "id": "EgW5F59h0roQ"
      },
      "outputs": [],
      "source": [
        "#getting the list of index from the CSV file\n",
        "id=list(true_news.index)\n",
        "id1=list(fake_news.index)\n"
      ]
    },
    {
      "cell_type": "code",
      "execution_count": null,
      "metadata": {
        "colab": {
          "base_uri": "https://localhost:8080/"
        },
        "id": "gjJyFp-5GKMl",
        "outputId": "920f8142-ab0c-4f41-afd2-3b17f5bfc3d9"
      },
      "outputs": [
        {
          "output_type": "stream",
          "name": "stderr",
          "text": [
            "<ipython-input-24-24eeca57d743>:2: DeprecationWarning: `np.unicode` is a deprecated alias for `np.compat.unicode`. To silence this warning, use `np.compat.unicode` by itself. In the likely event your code does not need to work on Python 2 you can use the builtin `str` for which `np.compat.unicode` is itself an alias. Doing this will not modify any behaviour and is safe. If you specifically wanted the numpy scalar type, use `np.str_` here.\n",
            "Deprecated in NumPy 1.20; for more details and guidance: https://numpy.org/devdocs/release/1.20.0-notes.html#deprecations\n",
            "  from numpy import unicode\n"
          ]
        }
      ],
      "source": [
        "import re\n",
        "from numpy import unicode\n",
        "str_temp=\"\"\n",
        "count=0\n",
        "for i in list(true_news):\n",
        "  count=0\n",
        "  for j in list(true_news[i]):\n",
        "    for words in j.split():\n",
        "      #checking if the word is not in the stopword file\n",
        "      if unicode(words) not in stopwords:\n",
        "        #adding the words that is not in stopword file to the str_temp\n",
        "        str_temp+=words\n",
        "        str_temp+=\" \"\n",
        "    #adding the str_temp file to the index of true_news, which contain non stop words\n",
        "    true_news.loc[id[count],i]=str_temp\n",
        "    str_temp=\"\"\n",
        "    count+=1\n",
        "\n",
        ""
      ]
    },
    {
      "cell_type": "code",
      "execution_count": null,
      "metadata": {
        "colab": {
          "base_uri": "https://localhost:8080/"
        },
        "id": "bPCHqn1XWFGv",
        "outputId": "420b9a4c-2614-4d2b-d9df-461fdb2fc0fa"
      },
      "outputs": [
        {
          "output_type": "stream",
          "name": "stderr",
          "text": [
            "<ipython-input-25-7d5b5f9765fe>:1: DeprecationWarning: `np.unicode` is a deprecated alias for `np.compat.unicode`. To silence this warning, use `np.compat.unicode` by itself. In the likely event your code does not need to work on Python 2 you can use the builtin `str` for which `np.compat.unicode` is itself an alias. Doing this will not modify any behaviour and is safe. If you specifically wanted the numpy scalar type, use `np.str_` here.\n",
            "Deprecated in NumPy 1.20; for more details and guidance: https://numpy.org/devdocs/release/1.20.0-notes.html#deprecations\n",
            "  from numpy import unicode\n"
          ]
        }
      ],
      "source": [
        "from numpy import unicode\n",
        "str_temp=\"\"\n",
        "count=0\n",
        "for i in list(fake_news):\n",
        "  count=0\n",
        "  for j in list(fake_news[i]):\n",
        "    for words in j.split():\n",
        "      #checking if the word is not in the stopword file\n",
        "      if unicode(words) not in stopwords:\n",
        "        #adding the words that is not in stopword file to the str_temp\n",
        "        str_temp+=words\n",
        "        str_temp+=\" \"\n",
        "    #adding the str_temp file to the index of fake_news, which contain non stop words\n",
        "    fake_news.loc[id1[count],i]=str_temp\n",
        "    str_temp=\"\"\n",
        "    count+=1"
      ]
    },
    {
      "cell_type": "code",
      "execution_count": null,
      "metadata": {
        "colab": {
          "base_uri": "https://localhost:8080/",
          "height": 35
        },
        "id": "y9JNye-y4MJh",
        "outputId": "9a4acf6f-9108-4cb1-df0c-58b7261c72eb"
      },
      "outputs": [
        {
          "output_type": "execute_result",
          "data": {
            "text/plain": [
              "'फिल्म भगवत् गीतामा धिरज अनुबन्धित '"
            ],
            "application/vnd.google.colaboratory.intrinsic+json": {
              "type": "string"
            }
          },
          "metadata": {},
          "execution_count": 26
        }
      ],
      "source": [
        "true_news['Title'][0]"
      ]
    },
    {
      "cell_type": "code",
      "execution_count": null,
      "metadata": {
        "colab": {
          "base_uri": "https://localhost:8080/",
          "height": 35
        },
        "id": "96WRTZ4r6Upy",
        "outputId": "faf3958e-2fa1-410b-b116-12898b8b5b27"
      },
      "outputs": [
        {
          "output_type": "execute_result",
          "data": {
            "text/plain": [
              "'फिल्म भगवत् गीतामा नायक धिरज मगर अनुबन्धित हुनुभएको '"
            ],
            "application/vnd.google.colaboratory.intrinsic+json": {
              "type": "string"
            }
          },
          "metadata": {},
          "execution_count": 27
        }
      ],
      "source": [
        "true_news['Description'][0]"
      ]
    },
    {
      "cell_type": "code",
      "execution_count": null,
      "metadata": {
        "colab": {
          "base_uri": "https://localhost:8080/",
          "height": 35
        },
        "id": "Ncr2BIJU4Q4W",
        "outputId": "ac3e6d40-8066-41ad-c905-3ad2b45ad71b"
      },
      "outputs": [
        {
          "output_type": "execute_result",
          "data": {
            "text/plain": [
              "'ट्रम्पडम ट्रम्पको विदेश नीतिको जिज्ञासु संसार व्याख्या गरियो '"
            ],
            "application/vnd.google.colaboratory.intrinsic+json": {
              "type": "string"
            }
          },
          "metadata": {},
          "execution_count": 28
        }
      ],
      "source": [
        "fake_news['Title'][0]"
      ]
    },
    {
      "cell_type": "code",
      "execution_count": null,
      "metadata": {
        "id": "POm6n2_CYVHg"
      },
      "outputs": [],
      "source": [
        "fake_news['Description'][0]"
      ]
    },
    {
      "cell_type": "markdown",
      "metadata": {
        "id": "z8-OMqmO0Ds1"
      },
      "source": [
        "# Stemming"
      ]
    },
    {
      "cell_type": "code",
      "execution_count": null,
      "metadata": {
        "colab": {
          "base_uri": "https://localhost:8080/"
        },
        "id": "lHTvH0sP7wbW",
        "outputId": "a79abbb0-4510-4798-a6b0-461c92fb8495"
      },
      "outputs": [
        {
          "output_type": "execute_result",
          "data": {
            "text/plain": [
              "['नेपाली', 'आफ्नै', 'स्तेम्मेर', 'यस', 'अनुमोदन']"
            ]
          },
          "metadata": {},
          "execution_count": 30
        }
      ],
      "source": [
        "import snowballstemmer\n",
        "\n",
        "nepali_stemmer = snowballstemmer.NepaliStemmer()\n",
        "nepali_stemmer.stemWords([\"नेपालीको\", \"आफ्नै\", \"स्तेम्मेर\",\"यसलाई\",\"अनुमोदनको\"])"
      ]
    },
    {
      "cell_type": "code",
      "execution_count": null,
      "metadata": {
        "id": "W2O5oukk0Ds3"
      },
      "outputs": [],
      "source": [
        "#code for stemming\n",
        "import snowballstemmer\n",
        "\n",
        "nepali_stemmer = snowballstemmer.NepaliStemmer()\n",
        "\n",
        "class Stem:\n",
        "    \"\"\"Stem the words to its root eg 'गरेका' to 'गर'.\n",
        "    Credit: https://github.com/snowballstem/snowball\n",
        "    \"\"\"\n",
        "    def __init__(self) -> None:\n",
        "        self.stemmer = snowballstemmer.NepaliStemmer()\n",
        "\n",
        "    def rootify(self, text):\n",
        "          \"\"\"Generates the stem words for input text.\n",
        "          Args:\n",
        "              text (Union(List, str)): Text to be stemmed or lemmatized.\n",
        "          Returns:\n",
        "              Union(List, str): stemmed text.\n",
        "          \"\"\"\n",
        "          if isinstance(text, str):\n",
        "              return self.stemmer.stemWords(text.split())\n",
        "\n",
        "          return self.stemmer.stemWords(text)\n",
        "\n",
        "stemmer = Stem()\n",
        "\n",
        "\n"
      ]
    },
    {
      "cell_type": "code",
      "execution_count": null,
      "metadata": {
        "id": "Al2UtdyB4YIy"
      },
      "outputs": [],
      "source": [
        "for index,value in true_news['Title'].iteritems():\n",
        "    text = value\n",
        "    stemmed_text = stemmer.rootify(text)\n",
        "    true_news.at[index, 'Title'] = stemmed_text"
      ]
    },
    {
      "cell_type": "code",
      "execution_count": null,
      "metadata": {
        "id": "4_Dryqpv0Ds4"
      },
      "outputs": [],
      "source": [
        "for index,value in true_news['Description'].iteritems():\n",
        "    text = value\n",
        "    stemmed_text = stemmer.rootify(text)\n",
        "    true_news.at[index, 'Description'] = stemmed_text"
      ]
    },
    {
      "cell_type": "code",
      "execution_count": null,
      "metadata": {
        "id": "q0uNb1pK0Ds5"
      },
      "outputs": [],
      "source": [
        "for index,value in fake_news['Description'].iteritems():\n",
        "    text = value\n",
        "    stemmed_text = stemmer.rootify(text)\n",
        "    fake_news.at[index, 'Description'] = stemmed_text"
      ]
    },
    {
      "cell_type": "code",
      "execution_count": null,
      "metadata": {
        "id": "1IAaIr8j4hAd"
      },
      "outputs": [],
      "source": [
        "for index,value in fake_news['Title'].iteritems():\n",
        "    text = value\n",
        "    stemmed_text = stemmer.rootify(text)\n",
        "    fake_news.at[index, 'Title'] = stemmed_text"
      ]
    },
    {
      "cell_type": "code",
      "execution_count": null,
      "metadata": {
        "colab": {
          "base_uri": "https://localhost:8080/"
        },
        "id": "VhQWhc_O4nEI",
        "outputId": "b6bf008e-ca8b-47de-ac56-df5ead9ea31c"
      },
      "outputs": [
        {
          "data": {
            "text/plain": [
              "['ट्रम्प',\n",
              " 'वित्तीय',\n",
              " 'सल्लाहकार',\n",
              " 'रोजगार',\n",
              " 'सृष्टिकर्ता',\n",
              " 'कर',\n",
              " 'समाचार',\n",
              " 'लाग्',\n",
              " 'उनी',\n",
              " 'यस',\n",
              " 'पूरा',\n",
              " 'आवश्यक',\n",
              " 'MAGA',\n",
              " 'भिड']"
            ]
          },
          "execution_count": 179,
          "metadata": {},
          "output_type": "execute_result"
        }
      ],
      "source": [
        "fake_news['Title'][0]"
      ]
    },
    {
      "cell_type": "code",
      "execution_count": null,
      "metadata": {
        "colab": {
          "base_uri": "https://localhost:8080/"
        },
        "id": "wnTnNl2-0Ds5",
        "outputId": "8ddcfafd-a70b-45c4-d06d-8526fa76b7be"
      },
      "outputs": [
        {
          "data": {
            "text/plain": [
              "['राष्ट्रपति',\n",
              " 'निर्वाचित',\n",
              " 'डोनाल्ड',\n",
              " 'ट्रम्प',\n",
              " 'आर्थिक',\n",
              " 'सल्लाहकार',\n",
              " 'स्टीव',\n",
              " 'मूर',\n",
              " 'नील',\n",
              " 'काभुटो',\n",
              " 'आगामी',\n",
              " 'प्रशासन',\n",
              " 'कांग्रेस',\n",
              " 'अनुमोदन',\n",
              " 'सम्भावना',\n",
              " 'बढाउन',\n",
              " 'दुईवटा',\n",
              " 'छुट्टै',\n",
              " 'कर',\n",
              " 'बिल',\n",
              " 'पेश',\n",
              " 'मूर',\n",
              " 'ट्रम्प',\n",
              " 'कर',\n",
              " 'सुधार',\n",
              " 'योजना',\n",
              " 'मुख्यतया',\n",
              " 'कर्पोरेट',\n",
              " 'कर',\n",
              " 'दर',\n",
              " '15%',\n",
              " '20%',\n",
              " 'घटाउन',\n",
              " 'केन्द्रित',\n",
              " 'हु']"
            ]
          },
          "execution_count": 180,
          "metadata": {},
          "output_type": "execute_result"
        }
      ],
      "source": [
        "fake_news['Description'][0]"
      ]
    },
    {
      "cell_type": "code",
      "execution_count": null,
      "metadata": {
        "colab": {
          "base_uri": "https://localhost:8080/"
        },
        "id": "XBt51flN4wCA",
        "outputId": "c78e0a0b-450f-49d7-ff6c-ecd602540dee"
      },
      "outputs": [
        {
          "data": {
            "text/plain": [
              "['स्पष्टीकरण',\n",
              " 'बुझाउँ',\n",
              " 'रावल',\n",
              " 'ओली',\n",
              " 'सोधे',\n",
              " 'पार्टी',\n",
              " '१८',\n",
              " 'करोड',\n",
              " 'दुरुपयोग',\n",
              " 'खोज्']"
            ]
          },
          "execution_count": 181,
          "metadata": {},
          "output_type": "execute_result"
        }
      ],
      "source": [
        "true_news['Title'][0]"
      ]
    },
    {
      "cell_type": "code",
      "execution_count": null,
      "metadata": {
        "colab": {
          "base_uri": "https://localhost:8080/"
        },
        "id": "IVSNN9bL0Ds6",
        "outputId": "9d8adb3f-9771-4539-eb4a-12fcc476d950"
      },
      "outputs": [
        {
          "data": {
            "text/plain": [
              "['नेकपा',\n",
              " 'एमा',\n",
              " 'उपाध्यक्ष',\n",
              " 'भीम',\n",
              " 'रावल',\n",
              " 'पार्टी',\n",
              " 'अध्यक्ष',\n",
              " 'प्रधानमन्त्री',\n",
              " 'केपी',\n",
              " 'शर्',\n",
              " 'ओली',\n",
              " 'पार्टी',\n",
              " 'एकीकरण',\n",
              " 'केन्द्रीय',\n",
              " 'कार्यालय',\n",
              " 'सञ्चित',\n",
              " '१८',\n",
              " 'करोड',\n",
              " 'हिनामिना',\n",
              " 'खोज',\n",
              " 'आरोप',\n",
              " 'लगा']"
            ]
          },
          "execution_count": 182,
          "metadata": {},
          "output_type": "execute_result"
        }
      ],
      "source": [
        "true_news['Description'][0]"
      ]
    },
    {
      "cell_type": "markdown",
      "metadata": {
        "id": "vlh8X1EF1yF7"
      },
      "source": [
        "# Saving the preprocessed Data"
      ]
    },
    {
      "cell_type": "code",
      "execution_count": null,
      "metadata": {
        "colab": {
          "base_uri": "https://localhost:8080/"
        },
        "id": "PxNGOga1hbuA",
        "outputId": "172f5bc7-d724-4cc1-9024-fb5060d16c0f"
      },
      "outputs": [
        {
          "output_type": "stream",
          "name": "stdout",
          "text": [
            "Length of fake news:  9514\n",
            "Length of true news:  9514\n"
          ]
        }
      ],
      "source": [
        "# make both length equal\n",
        "if len(fake_news) > len(true_news):\n",
        "  fake_news = fake_news.head(len(true_news))\n",
        "elif len(true_news) > len(fake_news):\n",
        "  true_news = true_news.head(len(fake_news))\n",
        "print(\"Length of fake news: \", len(fake_news))\n",
        "print(\"Length of true news: \", len(true_news))"
      ]
    },
    {
      "cell_type": "code",
      "execution_count": null,
      "metadata": {
        "id": "XeEbSXeZYoqR"
      },
      "outputs": [],
      "source": [
        "#saving the news of Description\n",
        "'''true_news.to_csv('true_news.csv')\n",
        "fake_news.to_csv('fake_news.csv')'''\n",
        "\n",
        "\n",
        "'''#saving preprocessed true and false data using description\n",
        "path = '/content/drive/My Drive/FakeNewsDetection/true_news.csv'\n",
        "with open(path, 'w', encoding = 'utf-8-sig') as f:\n",
        "  true_news.to_csv(f,index=None)\n",
        "\n",
        "path = '/content/drive/My Drive/FakeNewsDetection/fake_news.csv'\n",
        "with open(path, 'w', encoding = 'utf-8-sig') as f:\n",
        "  fake_news.to_csv(f,index=None)'''\n",
        "\n",
        "#saving the news\n",
        "true_news.to_csv('true_news.csv')\n",
        "fake_news.to_csv('fake_news.csv')\n",
        "\n",
        "\n",
        "#saving preprocessed true and false data\n",
        "path = '/content/drive/My Drive/FakeNewsDetection/true_news.csv'\n",
        "with open(path, 'w', encoding = 'utf-8-sig') as f:\n",
        "  true_news.to_csv(f,index=None)\n",
        "\n",
        "path = '/content/drive/My Drive/FakeNewsDetection/fake_news.csv'\n",
        "with open(path, 'w', encoding = 'utf-8-sig') as f:\n",
        "  fake_news.to_csv(f,index=None)"
      ]
    },
    {
      "cell_type": "code",
      "execution_count": null,
      "metadata": {
        "id": "EF5mljtngsKX"
      },
      "outputs": [],
      "source": []
    },
    {
      "cell_type": "code",
      "execution_count": null,
      "metadata": {
        "colab": {
          "base_uri": "https://localhost:8080/"
        },
        "id": "YaSJ832qYomO",
        "outputId": "d48c2c5c-dea6-41e7-c4e8-aa71ade47319"
      },
      "outputs": [
        {
          "output_type": "stream",
          "name": "stderr",
          "text": [
            "<ipython-input-33-4bf0e71a9a39>:13: SettingWithCopyWarning: \n",
            "A value is trying to be set on a copy of a slice from a DataFrame.\n",
            "Try using .loc[row_indexer,col_indexer] = value instead\n",
            "\n",
            "See the caveats in the documentation: https://pandas.pydata.org/pandas-docs/stable/user_guide/indexing.html#returning-a-view-versus-a-copy\n",
            "  fake_news['label'] = 1\n"
          ]
        }
      ],
      "source": [
        "'''#Using Description of the news\n",
        "# assign labels\n",
        "fake_news['label'] = 1\n",
        "true_news['label'] = 0\n",
        "\n",
        "# join true and false dataset\n",
        "news = pd.concat([fake_news, true_news])\n",
        "from sklearn.utils import shuffle\n",
        "news = shuffle(news)'''\n",
        "\n",
        "#using Title of the news\n",
        "# assign labels\n",
        "fake_news['label'] = 1\n",
        "true_news['label'] = 0\n",
        "\n",
        "# join true and false dataset\n",
        "news1 = pd.concat([fake_news, true_news])\n",
        "from sklearn.utils import shuffle\n",
        "news1 = shuffle(news1)"
      ]
    },
    {
      "cell_type": "code",
      "execution_count": null,
      "metadata": {
        "colab": {
          "base_uri": "https://localhost:8080/",
          "height": 70
        },
        "id": "WeWAFElqYoid",
        "outputId": "c6771970-8830-4368-f776-6e0a887df73d"
      },
      "outputs": [
        {
          "output_type": "stream",
          "name": "stdout",
          "text": [
            "Drive already mounted at /content/drive; to attempt to forcibly remount, call drive.mount(\"/content/drive\", force_remount=True).\n"
          ]
        },
        {
          "output_type": "execute_result",
          "data": {
            "text/plain": [
              "\"#Using Description of news\\nfrom google.colab import drive\\ndrive.mount('/content/drive')\\npath = '/content/drive/My Drive/FakeNewsDetection/news.csv'\\nwith open(path, 'w', encoding = 'utf-8-sig') as f:\\n  news.to_csv(f,index=None)\""
            ],
            "application/vnd.google.colaboratory.intrinsic+json": {
              "type": "string"
            }
          },
          "metadata": {},
          "execution_count": 34
        }
      ],
      "source": [
        "\n",
        "from google.colab import drive\n",
        "drive.mount('/content/drive')\n",
        "path = '/content/drive/My Drive/FakeNewsDetection/news1.csv'\n",
        "with open(path, 'w', encoding = 'utf-8-sig') as f:\n",
        "  news1.to_csv(f,index=None)\n",
        "\n",
        "'''#Using Description of news\n",
        "from google.colab import drive\n",
        "drive.mount('/content/drive')\n",
        "path = '/content/drive/My Drive/FakeNewsDetection/news.csv'\n",
        "with open(path, 'w', encoding = 'utf-8-sig') as f:\n",
        "  news.to_csv(f,index=None)'''"
      ]
    },
    {
      "cell_type": "code",
      "execution_count": null,
      "metadata": {
        "colab": {
          "base_uri": "https://localhost:8080/"
        },
        "id": "KsVBup8KYoaZ",
        "outputId": "c39640a2-af1f-4dc9-e66b-3a1c6ed5e820"
      },
      "outputs": [
        {
          "name": "stdout",
          "output_type": "stream",
          "text": [
            "Drive already mounted at /content/drive; to attempt to forcibly remount, call drive.mount(\"/content/drive\", force_remount=True).\n",
            "cp: missing destination file operand after 'DataProcessing.ipynb/content/drive/MyDrive/FakeNewsDetection'\n",
            "Try 'cp --help' for more information.\n"
          ]
        }
      ],
      "source": [
        "from google.colab import drive\n",
        "drive.mount('/content/drive')\n",
        "# copy it there\n",
        "!cp  DataProcessing.ipynb/content/drive/MyDrive/FakeNewsDetection"
      ]
    }
  ],
  "metadata": {
    "colab": {
      "collapsed_sections": [
        "0j0XDx9mqufF"
      ],
      "provenance": []
    },
    "kernelspec": {
      "display_name": "Python 3",
      "name": "python3"
    },
    "language_info": {
      "name": "python"
    }
  },
  "nbformat": 4,
  "nbformat_minor": 0
}