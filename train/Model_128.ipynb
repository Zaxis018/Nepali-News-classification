{
  "cells": [
    {
      "cell_type": "markdown",
      "metadata": {
        "id": "k_0tytxSWpwy"
      },
      "source": [
        "# Importing all necessary Libraries"
      ]
    },
    {
      "cell_type": "code",
      "execution_count": null,
      "metadata": {
        "id": "-C_69lzst9P3"
      },
      "outputs": [],
      "source": [
        "!pip install tensorflow-text --no-dependencies"
      ]
    },
    {
      "cell_type": "code",
      "execution_count": null,
      "metadata": {
        "id": "DrEslC07uHnB"
      },
      "outputs": [],
      "source": [
        "#necessary libraries\n",
        "import tensorflow as tf\n",
        "import tensorflow_hub as hub\n",
        "import tensorflow_text as text\n"
      ]
    },
    {
      "cell_type": "code",
      "source": [
        "import tensorflow as tf\n",
        "print(tf.__version__)"
      ],
      "metadata": {
        "colab": {
          "base_uri": "https://localhost:8080/"
        },
        "id": "xC3htz4iBogM",
        "outputId": "2d01c66a-62e8-4ec6-a13c-0773d0ec650a"
      },
      "execution_count": null,
      "outputs": [
        {
          "output_type": "stream",
          "name": "stdout",
          "text": [
            "2.11.0\n"
          ]
        }
      ]
    },
    {
      "cell_type": "code",
      "execution_count": null,
      "metadata": {
        "colab": {
          "base_uri": "https://localhost:8080/"
        },
        "id": "DV2e7jsx3FYP",
        "outputId": "105ffc19-e393-4707-bfe9-78d4bc0446fa"
      },
      "outputs": [
        {
          "output_type": "stream",
          "name": "stdout",
          "text": [
            "Num GPUs Available:  1\n"
          ]
        }
      ],
      "source": [
        "import tensorflow as tf\n",
        "print(\"Num GPUs Available: \", len(tf.config.experimental.list_physical_devices('GPU')))"
      ]
    },
    {
      "cell_type": "markdown",
      "metadata": {
        "id": "Fn9cYulzXc6W"
      },
      "source": [
        "# Importing the Files"
      ]
    },
    {
      "cell_type": "code",
      "execution_count": null,
      "metadata": {
        "colab": {
          "base_uri": "https://localhost:8080/"
        },
        "id": "vpl2nlx0Xpfz",
        "outputId": "377c3227-8c0a-4b32-f79e-e86abb9aaf93"
      },
      "outputs": [
        {
          "output_type": "stream",
          "name": "stdout",
          "text": [
            "Mounted at /content/drive\n"
          ]
        }
      ],
      "source": [
        "# Mount Google Drive - applicable, if working on Google Drive\n",
        "from google.colab import drive\n",
        "drive.mount('/content/drive')"
      ]
    },
    {
      "cell_type": "code",
      "execution_count": null,
      "metadata": {
        "colab": {
          "base_uri": "https://localhost:8080/",
          "height": 206
        },
        "id": "dIvNkxOEuNu2",
        "outputId": "17093cb7-7464-432c-edc7-92e502f30d56"
      },
      "outputs": [
        {
          "output_type": "execute_result",
          "data": {
            "text/plain": [
              "                                               Title  \\\n",
              "0  अन्तराष्ट्रिय नेताहरूले फाइनल G20 ओबामाको अनाद...   \n",
              "1              सिनासको जर्नल ३५ वर्षपछि पुन प्रकाशन    \n",
              "2              ९ वाणिज्य बैंकले घोषणा लाभांश बैंकको    \n",
              "3  नेपाली पत्रकारिताबारे समालोचनात्मक पुस्तक प्रक...   \n",
              "4  दयनीय ट्रम्पले एमिनेमलाई भनेनन् र्यापर अत्यन्त...   \n",
              "\n",
              "                                         Description  label  \n",
              "0  अन्तर्राष्ट्रिय नेताहरूले अन्तिम G20 शिखर सम्म...      1  \n",
              "1  त्रिभुवन विश्वविद्यालयअन्तर्गत नेपाल एसियाली अ...      0  \n",
              "2  हालसम्म ९ वाणिज्य बैंकले सेयर लगानीकर्तालाई दि...      0  \n",
              "3  नेपाली पत्रकारितासम्बन्धी अनुसन्धानमा आधारित प...      0  \n",
              "4  गम्भीरतापूर्वक दयनीय प्रचार प्रयासमा एमिनेमले ...      1  "
            ],
            "text/html": [
              "\n",
              "  <div id=\"df-2d46a627-9345-4f03-b5f2-5d5070212457\">\n",
              "    <div class=\"colab-df-container\">\n",
              "      <div>\n",
              "<style scoped>\n",
              "    .dataframe tbody tr th:only-of-type {\n",
              "        vertical-align: middle;\n",
              "    }\n",
              "\n",
              "    .dataframe tbody tr th {\n",
              "        vertical-align: top;\n",
              "    }\n",
              "\n",
              "    .dataframe thead th {\n",
              "        text-align: right;\n",
              "    }\n",
              "</style>\n",
              "<table border=\"1\" class=\"dataframe\">\n",
              "  <thead>\n",
              "    <tr style=\"text-align: right;\">\n",
              "      <th></th>\n",
              "      <th>Title</th>\n",
              "      <th>Description</th>\n",
              "      <th>label</th>\n",
              "    </tr>\n",
              "  </thead>\n",
              "  <tbody>\n",
              "    <tr>\n",
              "      <th>0</th>\n",
              "      <td>अन्तराष्ट्रिय नेताहरूले फाइनल G20 ओबामाको अनाद...</td>\n",
              "      <td>अन्तर्राष्ट्रिय नेताहरूले अन्तिम G20 शिखर सम्म...</td>\n",
              "      <td>1</td>\n",
              "    </tr>\n",
              "    <tr>\n",
              "      <th>1</th>\n",
              "      <td>सिनासको जर्नल ३५ वर्षपछि पुन प्रकाशन</td>\n",
              "      <td>त्रिभुवन विश्वविद्यालयअन्तर्गत नेपाल एसियाली अ...</td>\n",
              "      <td>0</td>\n",
              "    </tr>\n",
              "    <tr>\n",
              "      <th>2</th>\n",
              "      <td>९ वाणिज्य बैंकले घोषणा लाभांश बैंकको</td>\n",
              "      <td>हालसम्म ९ वाणिज्य बैंकले सेयर लगानीकर्तालाई दि...</td>\n",
              "      <td>0</td>\n",
              "    </tr>\n",
              "    <tr>\n",
              "      <th>3</th>\n",
              "      <td>नेपाली पत्रकारिताबारे समालोचनात्मक पुस्तक प्रक...</td>\n",
              "      <td>नेपाली पत्रकारितासम्बन्धी अनुसन्धानमा आधारित प...</td>\n",
              "      <td>0</td>\n",
              "    </tr>\n",
              "    <tr>\n",
              "      <th>4</th>\n",
              "      <td>दयनीय ट्रम्पले एमिनेमलाई भनेनन् र्यापर अत्यन्त...</td>\n",
              "      <td>गम्भीरतापूर्वक दयनीय प्रचार प्रयासमा एमिनेमले ...</td>\n",
              "      <td>1</td>\n",
              "    </tr>\n",
              "  </tbody>\n",
              "</table>\n",
              "</div>\n",
              "      <button class=\"colab-df-convert\" onclick=\"convertToInteractive('df-2d46a627-9345-4f03-b5f2-5d5070212457')\"\n",
              "              title=\"Convert this dataframe to an interactive table.\"\n",
              "              style=\"display:none;\">\n",
              "        \n",
              "  <svg xmlns=\"http://www.w3.org/2000/svg\" height=\"24px\"viewBox=\"0 0 24 24\"\n",
              "       width=\"24px\">\n",
              "    <path d=\"M0 0h24v24H0V0z\" fill=\"none\"/>\n",
              "    <path d=\"M18.56 5.44l.94 2.06.94-2.06 2.06-.94-2.06-.94-.94-2.06-.94 2.06-2.06.94zm-11 1L8.5 8.5l.94-2.06 2.06-.94-2.06-.94L8.5 2.5l-.94 2.06-2.06.94zm10 10l.94 2.06.94-2.06 2.06-.94-2.06-.94-.94-2.06-.94 2.06-2.06.94z\"/><path d=\"M17.41 7.96l-1.37-1.37c-.4-.4-.92-.59-1.43-.59-.52 0-1.04.2-1.43.59L10.3 9.45l-7.72 7.72c-.78.78-.78 2.05 0 2.83L4 21.41c.39.39.9.59 1.41.59.51 0 1.02-.2 1.41-.59l7.78-7.78 2.81-2.81c.8-.78.8-2.07 0-2.86zM5.41 20L4 18.59l7.72-7.72 1.47 1.35L5.41 20z\"/>\n",
              "  </svg>\n",
              "      </button>\n",
              "      \n",
              "  <style>\n",
              "    .colab-df-container {\n",
              "      display:flex;\n",
              "      flex-wrap:wrap;\n",
              "      gap: 12px;\n",
              "    }\n",
              "\n",
              "    .colab-df-convert {\n",
              "      background-color: #E8F0FE;\n",
              "      border: none;\n",
              "      border-radius: 50%;\n",
              "      cursor: pointer;\n",
              "      display: none;\n",
              "      fill: #1967D2;\n",
              "      height: 32px;\n",
              "      padding: 0 0 0 0;\n",
              "      width: 32px;\n",
              "    }\n",
              "\n",
              "    .colab-df-convert:hover {\n",
              "      background-color: #E2EBFA;\n",
              "      box-shadow: 0px 1px 2px rgba(60, 64, 67, 0.3), 0px 1px 3px 1px rgba(60, 64, 67, 0.15);\n",
              "      fill: #174EA6;\n",
              "    }\n",
              "\n",
              "    [theme=dark] .colab-df-convert {\n",
              "      background-color: #3B4455;\n",
              "      fill: #D2E3FC;\n",
              "    }\n",
              "\n",
              "    [theme=dark] .colab-df-convert:hover {\n",
              "      background-color: #434B5C;\n",
              "      box-shadow: 0px 1px 3px 1px rgba(0, 0, 0, 0.15);\n",
              "      filter: drop-shadow(0px 1px 2px rgba(0, 0, 0, 0.3));\n",
              "      fill: #FFFFFF;\n",
              "    }\n",
              "  </style>\n",
              "\n",
              "      <script>\n",
              "        const buttonEl =\n",
              "          document.querySelector('#df-2d46a627-9345-4f03-b5f2-5d5070212457 button.colab-df-convert');\n",
              "        buttonEl.style.display =\n",
              "          google.colab.kernel.accessAllowed ? 'block' : 'none';\n",
              "\n",
              "        async function convertToInteractive(key) {\n",
              "          const element = document.querySelector('#df-2d46a627-9345-4f03-b5f2-5d5070212457');\n",
              "          const dataTable =\n",
              "            await google.colab.kernel.invokeFunction('convertToInteractive',\n",
              "                                                     [key], {});\n",
              "          if (!dataTable) return;\n",
              "\n",
              "          const docLinkHtml = 'Like what you see? Visit the ' +\n",
              "            '<a target=\"_blank\" href=https://colab.research.google.com/notebooks/data_table.ipynb>data table notebook</a>'\n",
              "            + ' to learn more about interactive tables.';\n",
              "          element.innerHTML = '';\n",
              "          dataTable['output_type'] = 'display_data';\n",
              "          await google.colab.output.renderOutput(dataTable, element);\n",
              "          const docLink = document.createElement('div');\n",
              "          docLink.innerHTML = docLinkHtml;\n",
              "          element.appendChild(docLink);\n",
              "        }\n",
              "      </script>\n",
              "    </div>\n",
              "  </div>\n",
              "  "
            ]
          },
          "metadata": {},
          "execution_count": 6
        }
      ],
      "source": [
        "#read file\n",
        "import pandas as pd\n",
        "df = pd.read_csv(\"/content/drive/MyDrive/FakeNewsDetection/news1.csv\")\n",
        "df.head()"
      ]
    },
    {
      "cell_type": "code",
      "source": [
        "df['Description'][0]"
      ],
      "metadata": {
        "colab": {
          "base_uri": "https://localhost:8080/",
          "height": 122
        },
        "id": "D-OT5fw_XmmI",
        "outputId": "d757300f-e455-4d4e-930c-a605bd11ef97"
      },
      "execution_count": null,
      "outputs": [
        {
          "output_type": "execute_result",
          "data": {
            "text/plain": [
              "'अन्तर्राष्ट्रिय नेताहरूले अन्तिम G20 शिखर सम्मेलनमा ओबामाप्रति घृणा सम्मानको कमीको गोप्य राखेका फिलिपिन्सका राष्ट्रपति बाराक ओबामाले फिलिपिन्सका राष्ट्रपति रोड्रिगो डी टेन्टेसँगको भेट रद्द धम्की दिएका कुतिया एसोसिएटेड प्रेसका डुटेर्टेले जी२० शिखर सम्मेलनमा ओबामालाई सम्मान आग्रह भन्यो कुतियाको छोरा फोरममा तपाईलाई कसम खान्छु डुटेर्टेले लागुऔषध समूह विरुद्धको हिंसात्मक युद्धको सम्भावित छलफललाई संकेत प्रक्रियामा 2400 व्यक्तिको मृत्यु चीनमा G20 शिखर सम्मेलनमा पत्रकार सम्मेलनको क्रममा ओबामाले डुटेर्टे बीचको बैठक रद्द संकेत टोलीलाई फिलिपिन्सका समकक्षीहरूसँग निर्देशन रचनात्मक फलदायी कुराकानी सक्छौं भनेओबामाले संयुक्त राज्यले उचित प्रक्रियाको आवश्यकतालाई जोड दिनेछ आधारभूत अन्तर्राष्ट्रिय मापदण्डहरू उद्धृत लागूऔषध अपराधीहरूको अभियोगमा डी टेन्टको टिप्पणीको बाबजुद बैठकमा उठाउने एशियाको अन्तिम भ्रमणमा विश्वको सबैभन्दा अर्थतन्त्रका नेता ब्रेइटबार्टचीना पूर्वमा अवतरण रोलिङ सिँढी उपलब्ध नभएपछि एयर फोर्स वनबाट विमानको पेटमा थोरै प्रयोग गरिएको निकासबाट ओर्लन बाध्य चिनियाँ सहर शनिबार दिउँसो ओबामा टार्माकमा रातो कार्पेटमा पुग्दा अमेरिकी चिनियाँ अधिकारीहरूबीच चर्को झगडा चिनियाँ अधिकारीले भिडियोमा चिच्याइरहेका देश एयरपोर्ट रुसी राष्ट्रपति ओबामाले बिहान चीनमा G20 शिखर सम्मेलनमा रुसी प्रधानमन्त्री भ्लादिमिर पुटिनसँग सिरियामा युद्धविरामका सहमति जुटाउन नसकेपछि तनावपूर्ण आदानप्रदान साझा गर्नुभयो नोभेम्बरको चुनाव राष्ट्रपतिको अन्तिम महिना सेवा सूर्य '"
            ],
            "application/vnd.google.colaboratory.intrinsic+json": {
              "type": "string"
            }
          },
          "metadata": {},
          "execution_count": 7
        }
      ]
    },
    {
      "cell_type": "code",
      "execution_count": null,
      "metadata": {
        "colab": {
          "base_uri": "https://localhost:8080/"
        },
        "id": "ybexcMCIuzCL",
        "outputId": "adb3954b-7589-4664-91f2-46618ff9c0d9"
      },
      "outputs": [
        {
          "output_type": "execute_result",
          "data": {
            "text/plain": [
              "19028"
            ]
          },
          "metadata": {},
          "execution_count": 8
        }
      ],
      "source": [
        "len(df)"
      ]
    },
    {
      "cell_type": "code",
      "execution_count": null,
      "metadata": {
        "id": "8UmYiQ7DG7m3"
      },
      "outputs": [],
      "source": [
        "df.drop(['Title'],axis=1,inplace=True)"
      ]
    },
    {
      "cell_type": "code",
      "execution_count": null,
      "metadata": {
        "colab": {
          "base_uri": "https://localhost:8080/"
        },
        "id": "05tCtyuJYu5e",
        "outputId": "a7a50ad2-fc0c-466f-e9a0-ace78da55313"
      },
      "outputs": [
        {
          "output_type": "execute_result",
          "data": {
            "text/plain": [
              "Description    0\n",
              "label          0\n",
              "dtype: int64"
            ]
          },
          "metadata": {},
          "execution_count": 10
        }
      ],
      "source": [
        "#testing if data has null value\n",
        "df.isnull().sum()"
      ]
    },
    {
      "cell_type": "code",
      "execution_count": null,
      "metadata": {
        "colab": {
          "base_uri": "https://localhost:8080/",
          "height": 423
        },
        "id": "AiEfmniezswi",
        "outputId": "485a0a18-f5b8-4e75-bdc2-c7deef68cc83"
      },
      "outputs": [
        {
          "output_type": "execute_result",
          "data": {
            "text/plain": [
              "                                             Description  label\n",
              "0      अन्तर्राष्ट्रिय नेताहरूले अन्तिम G20 शिखर सम्म...      1\n",
              "1      त्रिभुवन विश्वविद्यालयअन्तर्गत नेपाल एसियाली अ...      0\n",
              "2      हालसम्म ९ वाणिज्य बैंकले सेयर लगानीकर्तालाई दि...      0\n",
              "3      नेपाली पत्रकारितासम्बन्धी अनुसन्धानमा आधारित प...      0\n",
              "4      गम्भीरतापूर्वक दयनीय प्रचार प्रयासमा एमिनेमले ...      1\n",
              "...                                                  ...    ...\n",
              "19023  कलरटाइम्स बुधवार सीएनएनमा बोल्दै चौथोअवधिका का...      1\n",
              "19024  ठूला योजनाबद्ध मल झगडाहरू सोमबार अमेरिकाभरि फै...      1\n",
              "19025  काठमाडौं साउन ४ गते संस्करणको मिस्टर एण्ड मिस ...      0\n",
              "19026  प्रधानमन्त्री एवं नेकपा एमालेका अध्यक्ष केपी श...      0\n",
              "19027  सशस्त्र प्रहरी बलमा रिक्त सशस्त्र प्रहरी जवान ...      0\n",
              "\n",
              "[19028 rows x 2 columns]"
            ],
            "text/html": [
              "\n",
              "  <div id=\"df-e5b20268-227a-45cf-93c6-f0f8f60ec05a\">\n",
              "    <div class=\"colab-df-container\">\n",
              "      <div>\n",
              "<style scoped>\n",
              "    .dataframe tbody tr th:only-of-type {\n",
              "        vertical-align: middle;\n",
              "    }\n",
              "\n",
              "    .dataframe tbody tr th {\n",
              "        vertical-align: top;\n",
              "    }\n",
              "\n",
              "    .dataframe thead th {\n",
              "        text-align: right;\n",
              "    }\n",
              "</style>\n",
              "<table border=\"1\" class=\"dataframe\">\n",
              "  <thead>\n",
              "    <tr style=\"text-align: right;\">\n",
              "      <th></th>\n",
              "      <th>Description</th>\n",
              "      <th>label</th>\n",
              "    </tr>\n",
              "  </thead>\n",
              "  <tbody>\n",
              "    <tr>\n",
              "      <th>0</th>\n",
              "      <td>अन्तर्राष्ट्रिय नेताहरूले अन्तिम G20 शिखर सम्म...</td>\n",
              "      <td>1</td>\n",
              "    </tr>\n",
              "    <tr>\n",
              "      <th>1</th>\n",
              "      <td>त्रिभुवन विश्वविद्यालयअन्तर्गत नेपाल एसियाली अ...</td>\n",
              "      <td>0</td>\n",
              "    </tr>\n",
              "    <tr>\n",
              "      <th>2</th>\n",
              "      <td>हालसम्म ९ वाणिज्य बैंकले सेयर लगानीकर्तालाई दि...</td>\n",
              "      <td>0</td>\n",
              "    </tr>\n",
              "    <tr>\n",
              "      <th>3</th>\n",
              "      <td>नेपाली पत्रकारितासम्बन्धी अनुसन्धानमा आधारित प...</td>\n",
              "      <td>0</td>\n",
              "    </tr>\n",
              "    <tr>\n",
              "      <th>4</th>\n",
              "      <td>गम्भीरतापूर्वक दयनीय प्रचार प्रयासमा एमिनेमले ...</td>\n",
              "      <td>1</td>\n",
              "    </tr>\n",
              "    <tr>\n",
              "      <th>...</th>\n",
              "      <td>...</td>\n",
              "      <td>...</td>\n",
              "    </tr>\n",
              "    <tr>\n",
              "      <th>19023</th>\n",
              "      <td>कलरटाइम्स बुधवार सीएनएनमा बोल्दै चौथोअवधिका का...</td>\n",
              "      <td>1</td>\n",
              "    </tr>\n",
              "    <tr>\n",
              "      <th>19024</th>\n",
              "      <td>ठूला योजनाबद्ध मल झगडाहरू सोमबार अमेरिकाभरि फै...</td>\n",
              "      <td>1</td>\n",
              "    </tr>\n",
              "    <tr>\n",
              "      <th>19025</th>\n",
              "      <td>काठमाडौं साउन ४ गते संस्करणको मिस्टर एण्ड मिस ...</td>\n",
              "      <td>0</td>\n",
              "    </tr>\n",
              "    <tr>\n",
              "      <th>19026</th>\n",
              "      <td>प्रधानमन्त्री एवं नेकपा एमालेका अध्यक्ष केपी श...</td>\n",
              "      <td>0</td>\n",
              "    </tr>\n",
              "    <tr>\n",
              "      <th>19027</th>\n",
              "      <td>सशस्त्र प्रहरी बलमा रिक्त सशस्त्र प्रहरी जवान ...</td>\n",
              "      <td>0</td>\n",
              "    </tr>\n",
              "  </tbody>\n",
              "</table>\n",
              "<p>19028 rows × 2 columns</p>\n",
              "</div>\n",
              "      <button class=\"colab-df-convert\" onclick=\"convertToInteractive('df-e5b20268-227a-45cf-93c6-f0f8f60ec05a')\"\n",
              "              title=\"Convert this dataframe to an interactive table.\"\n",
              "              style=\"display:none;\">\n",
              "        \n",
              "  <svg xmlns=\"http://www.w3.org/2000/svg\" height=\"24px\"viewBox=\"0 0 24 24\"\n",
              "       width=\"24px\">\n",
              "    <path d=\"M0 0h24v24H0V0z\" fill=\"none\"/>\n",
              "    <path d=\"M18.56 5.44l.94 2.06.94-2.06 2.06-.94-2.06-.94-.94-2.06-.94 2.06-2.06.94zm-11 1L8.5 8.5l.94-2.06 2.06-.94-2.06-.94L8.5 2.5l-.94 2.06-2.06.94zm10 10l.94 2.06.94-2.06 2.06-.94-2.06-.94-.94-2.06-.94 2.06-2.06.94z\"/><path d=\"M17.41 7.96l-1.37-1.37c-.4-.4-.92-.59-1.43-.59-.52 0-1.04.2-1.43.59L10.3 9.45l-7.72 7.72c-.78.78-.78 2.05 0 2.83L4 21.41c.39.39.9.59 1.41.59.51 0 1.02-.2 1.41-.59l7.78-7.78 2.81-2.81c.8-.78.8-2.07 0-2.86zM5.41 20L4 18.59l7.72-7.72 1.47 1.35L5.41 20z\"/>\n",
              "  </svg>\n",
              "      </button>\n",
              "      \n",
              "  <style>\n",
              "    .colab-df-container {\n",
              "      display:flex;\n",
              "      flex-wrap:wrap;\n",
              "      gap: 12px;\n",
              "    }\n",
              "\n",
              "    .colab-df-convert {\n",
              "      background-color: #E8F0FE;\n",
              "      border: none;\n",
              "      border-radius: 50%;\n",
              "      cursor: pointer;\n",
              "      display: none;\n",
              "      fill: #1967D2;\n",
              "      height: 32px;\n",
              "      padding: 0 0 0 0;\n",
              "      width: 32px;\n",
              "    }\n",
              "\n",
              "    .colab-df-convert:hover {\n",
              "      background-color: #E2EBFA;\n",
              "      box-shadow: 0px 1px 2px rgba(60, 64, 67, 0.3), 0px 1px 3px 1px rgba(60, 64, 67, 0.15);\n",
              "      fill: #174EA6;\n",
              "    }\n",
              "\n",
              "    [theme=dark] .colab-df-convert {\n",
              "      background-color: #3B4455;\n",
              "      fill: #D2E3FC;\n",
              "    }\n",
              "\n",
              "    [theme=dark] .colab-df-convert:hover {\n",
              "      background-color: #434B5C;\n",
              "      box-shadow: 0px 1px 3px 1px rgba(0, 0, 0, 0.15);\n",
              "      filter: drop-shadow(0px 1px 2px rgba(0, 0, 0, 0.3));\n",
              "      fill: #FFFFFF;\n",
              "    }\n",
              "  </style>\n",
              "\n",
              "      <script>\n",
              "        const buttonEl =\n",
              "          document.querySelector('#df-e5b20268-227a-45cf-93c6-f0f8f60ec05a button.colab-df-convert');\n",
              "        buttonEl.style.display =\n",
              "          google.colab.kernel.accessAllowed ? 'block' : 'none';\n",
              "\n",
              "        async function convertToInteractive(key) {\n",
              "          const element = document.querySelector('#df-e5b20268-227a-45cf-93c6-f0f8f60ec05a');\n",
              "          const dataTable =\n",
              "            await google.colab.kernel.invokeFunction('convertToInteractive',\n",
              "                                                     [key], {});\n",
              "          if (!dataTable) return;\n",
              "\n",
              "          const docLinkHtml = 'Like what you see? Visit the ' +\n",
              "            '<a target=\"_blank\" href=https://colab.research.google.com/notebooks/data_table.ipynb>data table notebook</a>'\n",
              "            + ' to learn more about interactive tables.';\n",
              "          element.innerHTML = '';\n",
              "          dataTable['output_type'] = 'display_data';\n",
              "          await google.colab.output.renderOutput(dataTable, element);\n",
              "          const docLink = document.createElement('div');\n",
              "          docLink.innerHTML = docLinkHtml;\n",
              "          element.appendChild(docLink);\n",
              "        }\n",
              "      </script>\n",
              "    </div>\n",
              "  </div>\n",
              "  "
            ]
          },
          "metadata": {},
          "execution_count": 11
        }
      ],
      "source": [
        "df"
      ]
    },
    {
      "cell_type": "code",
      "execution_count": null,
      "metadata": {
        "colab": {
          "base_uri": "https://localhost:8080/"
        },
        "id": "UstNUmf6vcxL",
        "outputId": "fd69d6e6-2d1a-486e-a600-66860e3c5972"
      },
      "outputs": [
        {
          "output_type": "execute_result",
          "data": {
            "text/plain": [
              "Index(['Description', 'label'], dtype='object')"
            ]
          },
          "metadata": {},
          "execution_count": 12
        }
      ],
      "source": [
        "df.columns"
      ]
    },
    {
      "cell_type": "code",
      "execution_count": null,
      "metadata": {
        "colab": {
          "base_uri": "https://localhost:8080/",
          "height": 352
        },
        "id": "mO_NKve3ZCY4",
        "outputId": "10c0bddc-b7af-425e-d074-75a6b04b6c81"
      },
      "outputs": [
        {
          "output_type": "execute_result",
          "data": {
            "text/plain": [
              "([<matplotlib.patches.Wedge at 0x7f64c0711d00>,\n",
              "  <matplotlib.patches.Wedge at 0x7f64c06bb6a0>],\n",
              " [Text(-1.2000000000000002, 1.469576158976824e-16, 'Fake'),\n",
              "  Text(1.2000000000000002, -2.939152317953648e-16, 'True')],\n",
              " [Text(-0.7, 8.572527594031472e-17, '50.0%'),\n",
              "  Text(0.7, -1.7145055188062944e-16, '50.0%')])"
            ]
          },
          "metadata": {},
          "execution_count": 13
        },
        {
          "output_type": "display_data",
          "data": {
            "text/plain": [
              "<Figure size 432x288 with 1 Axes>"
            ],
            "image/png": "[encoded data removed]"
          },
          "metadata": {}
        }
      ],
      "source": [
        "import matplotlib.pyplot as plt\n",
        "# Checking if our data is well balanced\n",
        "label_size = [df['label'].sum(),len(df['label'])-df['label'].sum()]\n",
        "plt.pie(label_size,explode=[0.1,0.1],colors=['firebrick','yellow'],startangle=90,shadow=True,labels=['Fake','True'],autopct='%1.1f%%')"
      ]
    },
    {
      "cell_type": "markdown",
      "metadata": {
        "id": "8MFwD2AKZTRH"
      },
      "source": [
        "# Train_Test_Split_Dataset"
      ]
    },
    {
      "cell_type": "code",
      "execution_count": null,
      "metadata": {
        "id": "Ttmr2jPKvmTH"
      },
      "outputs": [],
      "source": [
        "# split the data into training and test sets, with 80% of the data for training and 20% for testing\n",
        "from sklearn.model_selection import train_test_split\n",
        "X_train, X_test, y_train, y_test = train_test_split(df['Description'], df['label'], test_size=0.2, random_state=42)"
      ]
    },
    {
      "cell_type": "code",
      "execution_count": null,
      "metadata": {
        "colab": {
          "base_uri": "https://localhost:8080/"
        },
        "id": "PKlPGzfgv_YV",
        "outputId": "83e40ba4-970f-4010-c2eb-b1956b5e087f"
      },
      "outputs": [
        {
          "output_type": "execute_result",
          "data": {
            "text/plain": [
              "7652     भारतीय प्रधानमन्त्री नरेन्द्र मोदीको बंगलादेश ...\n",
              "15674    अमेरिकी मानिसलाई हिलारीको असक्षमता ढाक्नको स्क...\n",
              "4126     काठमाडौं असार १६ गते नेपाल चलचित्र विकास बोर्ड...\n",
              "13583    डोनाल्ड ट्रम्पका बच्चाहरूले आत्मामा समर्थन सक्...\n",
              "3289     ग्राहकले बैंकिङ सेवा अनुरोध सिधै च्याटबट सेवाम...\n",
              "Name: Description, dtype: object"
            ]
          },
          "metadata": {},
          "execution_count": 15
        }
      ],
      "source": [
        "X_train.head()"
      ]
    },
    {
      "cell_type": "code",
      "execution_count": null,
      "metadata": {
        "colab": {
          "base_uri": "https://localhost:8080/"
        },
        "id": "riG3AimPyKyC",
        "outputId": "029e9bfb-379d-48b9-fd41-2896a148b4d7"
      },
      "outputs": [
        {
          "output_type": "execute_result",
          "data": {
            "text/plain": [
              "7652     0\n",
              "15674    1\n",
              "4126     0\n",
              "13583    1\n",
              "3289     0\n",
              "Name: label, dtype: int64"
            ]
          },
          "metadata": {},
          "execution_count": 16
        }
      ],
      "source": [
        "y_train.head()"
      ]
    },
    {
      "cell_type": "markdown",
      "metadata": {
        "id": "hUwtf8aMZulH"
      },
      "source": [
        "# BERT FineTuning"
      ]
    },
    {
      "cell_type": "markdown",
      "metadata": {
        "id": "WkI5vIuaaN8o"
      },
      "source": [
        "## Importing pretrained BERT_model"
      ]
    },
    {
      "cell_type": "code",
      "execution_count": null,
      "metadata": {
        "id": "CFMTGc8lwC05",
        "colab": {
          "base_uri": "https://localhost:8080/"
        },
        "outputId": "87743feb-a8bd-4115-a1d7-54463d43ea57"
      },
      "outputs": [
        {
          "output_type": "stream",
          "name": "stderr",
          "text": [
            "WARNING:tensorflow:Please fix your imports. Module tensorflow.python.training.tracking.data_structures has been moved to tensorflow.python.trackable.data_structures. The old module will be deleted in version 2.11.\n"
          ]
        }
      ],
      "source": [
        "#import bert model\n",
        "#bert_preprocess = hub.KerasLayer(\"https://tfhub.dev/tensorflow/bert_en_uncased_preprocess/3\")\n",
        "#bert_encoder = hub.KerasLayer(\"https://tfhub.dev/tensorflow/bert_en_uncased_L-12_H-768_A-12/4\")\n",
        "\n",
        "\n",
        "#text_input = tf.keras.layers.Input(shape=(), dtype=tf.string)\n",
        "bert_preprocess = hub.KerasLayer(\n",
        "    \"https://tfhub.dev/tensorflow/bert_multi_cased_preprocess/3\")\n",
        "#encoder_inputs = preprocessor(text_input)\n",
        "bert_encoder = hub.KerasLayer(\n",
        "    \"https://tfhub.dev/tensorflow/bert_multi_cased_L-12_H-768_A-12/4\",\n",
        "    trainable=False)\n",
        "#outputs = encoder(encoder_inputs)\n",
        "#pooled_output = outputs[\"pooled_output\"]      # [batch_size, 768].\n",
        "#sequence_output = outputs[\"sequence_output\"]  # [batch_size, seq_length, 768]."
      ]
    },
    {
      "cell_type": "code",
      "source": [
        "import tensorflow as tf\n",
        "print(tf.__version__)"
      ],
      "metadata": {
        "colab": {
          "base_uri": "https://localhost:8080/"
        },
        "id": "5XDifeuTDOkI",
        "outputId": "7f7f6143-1e4a-4d03-c428-53ef5f154345"
      },
      "execution_count": null,
      "outputs": [
        {
          "output_type": "stream",
          "name": "stdout",
          "text": [
            "2.11.0\n"
          ]
        }
      ]
    },
    {
      "cell_type": "markdown",
      "metadata": {
        "id": "P0xeBh1ua6Ko"
      },
      "source": [
        "## Preparing the input"
      ]
    },
    {
      "cell_type": "code",
      "execution_count": null,
      "metadata": {
        "colab": {
          "base_uri": "https://localhost:8080/"
        },
        "id": "QwBbR0E1WB4a",
        "outputId": "62cf933f-d605-47e5-a067-fb7a38d9f7bf"
      },
      "outputs": [
        {
          "output_type": "execute_result",
          "data": {
            "text/plain": [
              "{'input_word_ids': <tf.Tensor: shape=(2, 128), dtype=int32, numpy=\n",
              " array([[   101,    899,  12878, 111194,  28462,  13665,    878,  11208,\n",
              "          66943,  76131,  11072,  13537,  45753,  13841,  11554,  70317,\n",
              "            899,  50419,  88113,  21582,  15399,    877,  65343,  43071,\n",
              "          15399,  28462,  43071,    102,      0,      0,      0,      0,\n",
              "              0,      0,      0,      0,      0,      0,      0,      0,\n",
              "              0,      0,      0,      0,      0,      0,      0,      0,\n",
              "              0,      0,      0,      0,      0,      0,      0,      0,\n",
              "              0,      0,      0,      0,      0,      0,      0,      0,\n",
              "              0,      0,      0,      0,      0,      0,      0,      0,\n",
              "              0,      0,      0,      0,      0,      0,      0,      0,\n",
              "              0,      0,      0,      0,      0,      0,      0,      0,\n",
              "              0,      0,      0,      0,      0,      0,      0,      0,\n",
              "              0,      0,      0,      0,      0,      0,      0,      0,\n",
              "              0,      0,      0,      0,      0,      0,      0,      0,\n",
              "              0,      0,      0,      0,      0,      0,      0,      0,\n",
              "              0,      0,      0,      0,      0,      0,      0,      0],\n",
              "        [   101,    884,  12151,  28197,  15658,    898,  12347,  36208,\n",
              "            885,  94034,  86340,  65261,    102,      0,      0,      0,\n",
              "              0,      0,      0,      0,      0,      0,      0,      0,\n",
              "              0,      0,      0,      0,      0,      0,      0,      0,\n",
              "              0,      0,      0,      0,      0,      0,      0,      0,\n",
              "              0,      0,      0,      0,      0,      0,      0,      0,\n",
              "              0,      0,      0,      0,      0,      0,      0,      0,\n",
              "              0,      0,      0,      0,      0,      0,      0,      0,\n",
              "              0,      0,      0,      0,      0,      0,      0,      0,\n",
              "              0,      0,      0,      0,      0,      0,      0,      0,\n",
              "              0,      0,      0,      0,      0,      0,      0,      0,\n",
              "              0,      0,      0,      0,      0,      0,      0,      0,\n",
              "              0,      0,      0,      0,      0,      0,      0,      0,\n",
              "              0,      0,      0,      0,      0,      0,      0,      0,\n",
              "              0,      0,      0,      0,      0,      0,      0,      0,\n",
              "              0,      0,      0,      0,      0,      0,      0,      0]],\n",
              "       dtype=int32)>,\n",
              " 'input_mask': <tf.Tensor: shape=(2, 128), dtype=int32, numpy=\n",
              " array([[1, 1, 1, 1, 1, 1, 1, 1, 1, 1, 1, 1, 1, 1, 1, 1, 1, 1, 1, 1, 1, 1,\n",
              "         1, 1, 1, 1, 1, 1, 0, 0, 0, 0, 0, 0, 0, 0, 0, 0, 0, 0, 0, 0, 0, 0,\n",
              "         0, 0, 0, 0, 0, 0, 0, 0, 0, 0, 0, 0, 0, 0, 0, 0, 0, 0, 0, 0, 0, 0,\n",
              "         0, 0, 0, 0, 0, 0, 0, 0, 0, 0, 0, 0, 0, 0, 0, 0, 0, 0, 0, 0, 0, 0,\n",
              "         0, 0, 0, 0, 0, 0, 0, 0, 0, 0, 0, 0, 0, 0, 0, 0, 0, 0, 0, 0, 0, 0,\n",
              "         0, 0, 0, 0, 0, 0, 0, 0, 0, 0, 0, 0, 0, 0, 0, 0, 0, 0],\n",
              "        [1, 1, 1, 1, 1, 1, 1, 1, 1, 1, 1, 1, 1, 0, 0, 0, 0, 0, 0, 0, 0, 0,\n",
              "         0, 0, 0, 0, 0, 0, 0, 0, 0, 0, 0, 0, 0, 0, 0, 0, 0, 0, 0, 0, 0, 0,\n",
              "         0, 0, 0, 0, 0, 0, 0, 0, 0, 0, 0, 0, 0, 0, 0, 0, 0, 0, 0, 0, 0, 0,\n",
              "         0, 0, 0, 0, 0, 0, 0, 0, 0, 0, 0, 0, 0, 0, 0, 0, 0, 0, 0, 0, 0, 0,\n",
              "         0, 0, 0, 0, 0, 0, 0, 0, 0, 0, 0, 0, 0, 0, 0, 0, 0, 0, 0, 0, 0, 0,\n",
              "         0, 0, 0, 0, 0, 0, 0, 0, 0, 0, 0, 0, 0, 0, 0, 0, 0, 0]],\n",
              "       dtype=int32)>,\n",
              " 'input_type_ids': <tf.Tensor: shape=(2, 128), dtype=int32, numpy=\n",
              " array([[0, 0, 0, 0, 0, 0, 0, 0, 0, 0, 0, 0, 0, 0, 0, 0, 0, 0, 0, 0, 0, 0,\n",
              "         0, 0, 0, 0, 0, 0, 0, 0, 0, 0, 0, 0, 0, 0, 0, 0, 0, 0, 0, 0, 0, 0,\n",
              "         0, 0, 0, 0, 0, 0, 0, 0, 0, 0, 0, 0, 0, 0, 0, 0, 0, 0, 0, 0, 0, 0,\n",
              "         0, 0, 0, 0, 0, 0, 0, 0, 0, 0, 0, 0, 0, 0, 0, 0, 0, 0, 0, 0, 0, 0,\n",
              "         0, 0, 0, 0, 0, 0, 0, 0, 0, 0, 0, 0, 0, 0, 0, 0, 0, 0, 0, 0, 0, 0,\n",
              "         0, 0, 0, 0, 0, 0, 0, 0, 0, 0, 0, 0, 0, 0, 0, 0, 0, 0],\n",
              "        [0, 0, 0, 0, 0, 0, 0, 0, 0, 0, 0, 0, 0, 0, 0, 0, 0, 0, 0, 0, 0, 0,\n",
              "         0, 0, 0, 0, 0, 0, 0, 0, 0, 0, 0, 0, 0, 0, 0, 0, 0, 0, 0, 0, 0, 0,\n",
              "         0, 0, 0, 0, 0, 0, 0, 0, 0, 0, 0, 0, 0, 0, 0, 0, 0, 0, 0, 0, 0, 0,\n",
              "         0, 0, 0, 0, 0, 0, 0, 0, 0, 0, 0, 0, 0, 0, 0, 0, 0, 0, 0, 0, 0, 0,\n",
              "         0, 0, 0, 0, 0, 0, 0, 0, 0, 0, 0, 0, 0, 0, 0, 0, 0, 0, 0, 0, 0, 0,\n",
              "         0, 0, 0, 0, 0, 0, 0, 0, 0, 0, 0, 0, 0, 0, 0, 0, 0, 0]],\n",
              "       dtype=int32)>}"
            ]
          },
          "metadata": {},
          "execution_count": 19
        }
      ],
      "source": [
        "#preprocessing\n",
        "bert_preprocess([\n",
        "    \"हिउँले ढाकिएर सेताम्मे हुने हिमाली क्षेत्रका डाँडाकाँडा\",\n",
        "    \"नक्कली समाचार पत्ता लगाउने\"]\n",
        ")"
      ]
    },
    {
      "cell_type": "code",
      "execution_count": null,
      "metadata": {
        "id": "9ygWlB-AwFN4"
      },
      "outputs": [],
      "source": [
        "#function for sentence embedding\n",
        "def get_sentence_embeding(sentences):\n",
        "    preprocessed_text = bert_preprocess(sentences)\n",
        "    return bert_encoder(preprocessed_text)['pooled_output']"
      ]
    },
    {
      "cell_type": "code",
      "execution_count": null,
      "metadata": {
        "colab": {
          "base_uri": "https://localhost:8080/"
        },
        "id": "WG-yTwciwIgp",
        "outputId": "6265c6cd-c376-4945-bb04-f7865dad6411"
      },
      "outputs": [
        {
          "output_type": "execute_result",
          "data": {
            "text/plain": [
              "<tf.Tensor: shape=(2, 768), dtype=float32, numpy=\n",
              "array([[ 0.2858737 , -0.11931743,  0.17314018, ..., -0.31497347,\n",
              "         0.09068779,  0.11899757],\n",
              "       [ 0.30856776,  0.12257735,  0.28575134, ..., -0.5045693 ,\n",
              "         0.16809262,  0.19743565]], dtype=float32)>"
            ]
          },
          "metadata": {},
          "execution_count": 21
        }
      ],
      "source": [
        "#sentence_embedding\n",
        "get_sentence_embeding([\n",
        "    \"हिउँले ढाकिएर सेताम्मे हुने हिमाली क्षेत्रका डाँडाकाँडा\",\n",
        "    \"नक्कली समाचार पत्ता लगाउने?\"]\n",
        ")"
      ]
    },
    {
      "cell_type": "markdown",
      "metadata": {
        "id": "xWii5c1eba7a"
      },
      "source": [
        "## Defining the Model Architecture"
      ]
    },
    {
      "cell_type": "code",
      "source": [
        "# model defination using l1 regularization\n",
        "\n",
        "from keras import regularizers\n",
        "\n",
        "# Bert layers\n",
        "text_input = tf.keras.layers.Input(shape=(), dtype=tf.string, name='text')\n",
        "preprocessed_text = bert_preprocess(text_input)\n",
        "outputs = bert_encoder(preprocessed_text)\n",
        "\n",
        "# Neural network layers\n",
        "hidden1 = tf.keras.layers.Dropout(0.1, name=\"hidden1\")(outputs['pooled_output'])\n",
        "dropout1 = tf.keras.layers.Dense(264, activation='sigmoid', kernel_regularizer=regularizers.l1(0.001), name=\"dropout1\")(hidden1)\n",
        "hidden2 = tf.keras.layers.Dense(64, activation='relu', kernel_regularizer=regularizers.l1(0.001), name='hidden_2')(dropout1)\n",
        "dropout2 = tf.keras.layers.Dense(1, activation='sigmoid', name=\"dropout2\")(hidden2)\n",
        "\n",
        "# Use inputs and outputs to construct a final model\n",
        "model = tf.keras.Model(inputs=[text_input], outputs = [dropout2])"
      ],
      "metadata": {
        "id": "xo6VKxtVYahX"
      },
      "execution_count": null,
      "outputs": []
    },
    {
      "cell_type": "code",
      "execution_count": null,
      "metadata": {
        "id": "865jPHnkwcOU"
      },
      "outputs": [],
      "source": [
        "model.summary()"
      ]
    },
    {
      "cell_type": "code",
      "execution_count": null,
      "metadata": {
        "colab": {
          "base_uri": "https://localhost:8080/"
        },
        "id": "4qv1tOJ52Knu",
        "outputId": "0751297a-9cc4-40a0-dd19-b6c832f41a95"
      },
      "outputs": [
        {
          "output_type": "stream",
          "name": "stdout",
          "text": [
            "Num GPUs Available:  1\n"
          ]
        }
      ],
      "source": [
        "import tensorflow as tf\n",
        "print(\"Num GPUs Available: \", len(tf.config.experimental.list_physical_devices('GPU')))"
      ]
    },
    {
      "cell_type": "code",
      "source": [
        "import tensorflow as tf\n",
        "print(tf.__version__)"
      ],
      "metadata": {
        "colab": {
          "base_uri": "https://localhost:8080/"
        },
        "id": "0CrQBiboDcft",
        "outputId": "d6469d44-e26f-4198-f6b4-98a594b9ce3a"
      },
      "execution_count": null,
      "outputs": [
        {
          "output_type": "stream",
          "name": "stdout",
          "text": [
            "2.11.0\n"
          ]
        }
      ]
    },
    {
      "cell_type": "markdown",
      "metadata": {
        "id": "PBhF-uFfnnw9"
      },
      "source": [
        "## Optimizer and Loss Function Definition"
      ]
    },
    {
      "cell_type": "code",
      "execution_count": null,
      "metadata": {
        "id": "bicq1yFXpIKf"
      },
      "outputs": [],
      "source": [
        "!pip install keras-radam"
      ]
    },
    {
      "cell_type": "code",
      "execution_count": null,
      "metadata": {
        "id": "0CgRJUXw7S1_"
      },
      "outputs": [],
      "source": [
        "from keras.optimizers import Adam\n",
        "optimizer = Adam(learning_rate=1e-3)\n",
        "\n",
        "METRICS = [\n",
        "      tf.keras.metrics.BinaryAccuracy(name='accuracy'),\n",
        "      tf.keras.metrics.Precision(name='precision'),\n",
        "      tf.keras.metrics.Recall(name='recall')\n",
        "]\n",
        "\n",
        "model.compile(optimizer=optimizer, loss='binary_crossentropy', metrics=METRICS)"
      ]
    },
    {
      "cell_type": "markdown",
      "metadata": {
        "id": "AXycS0ISbp4l"
      },
      "source": [
        "## Training the BERT model"
      ]
    },
    {
      "cell_type": "code",
      "execution_count": null,
      "metadata": {
        "colab": {
          "base_uri": "https://localhost:8080/"
        },
        "id": "8ICBr18j7b0w",
        "outputId": "3bea8c41-c7a1-4a6a-ed7d-a3f11e8a8bbf"
      },
      "outputs": [
        {
          "output_type": "stream",
          "name": "stdout",
          "text": [
            "Epoch 1/30\n",
            "476/476 [==============================] - 204s 403ms/step - loss: 1.5370 - accuracy: 0.7573 - precision: 0.7339 - recall: 0.8055\n",
            "Epoch 2/30\n",
            "476/476 [==============================] - 178s 374ms/step - loss: 0.6584 - accuracy: 0.8630 - precision: 0.8375 - recall: 0.9001\n",
            "Epoch 3/30\n",
            "476/476 [==============================] - 183s 384ms/step - loss: 0.4535 - accuracy: 0.9110 - precision: 0.8939 - recall: 0.9325\n",
            "Epoch 4/30\n",
            "476/476 [==============================] - 180s 378ms/step - loss: 0.3676 - accuracy: 0.9313 - precision: 0.9198 - recall: 0.9447\n",
            "Epoch 5/30\n",
            "476/476 [==============================] - 177s 373ms/step - loss: 0.3279 - accuracy: 0.9439 - precision: 0.9338 - recall: 0.9552\n",
            "Epoch 6/30\n",
            "476/476 [==============================] - 177s 371ms/step - loss: 0.3177 - accuracy: 0.9426 - precision: 0.9312 - recall: 0.9555\n",
            "Epoch 7/30\n",
            "476/476 [==============================] - 175s 368ms/step - loss: 0.3088 - accuracy: 0.9465 - precision: 0.9370 - recall: 0.9571\n",
            "Epoch 8/30\n",
            "476/476 [==============================] - 175s 367ms/step - loss: 0.2921 - accuracy: 0.9532 - precision: 0.9449 - recall: 0.9623\n",
            "Epoch 9/30\n",
            "476/476 [==============================] - 174s 366ms/step - loss: 0.2901 - accuracy: 0.9522 - precision: 0.9430 - recall: 0.9625\n",
            "Epoch 10/30\n",
            "476/476 [==============================] - 176s 369ms/step - loss: 0.2760 - accuracy: 0.9574 - precision: 0.9505 - recall: 0.9648\n",
            "Epoch 11/30\n",
            "476/476 [==============================] - 176s 370ms/step - loss: 0.2748 - accuracy: 0.9561 - precision: 0.9471 - recall: 0.9659\n",
            "Epoch 12/30\n",
            "476/476 [==============================] - 176s 370ms/step - loss: 0.2674 - accuracy: 0.9554 - precision: 0.9458 - recall: 0.9659\n",
            "Epoch 13/30\n",
            "476/476 [==============================] - 176s 369ms/step - loss: 0.2576 - accuracy: 0.9585 - precision: 0.9511 - recall: 0.9664\n",
            "Epoch 14/30\n",
            "476/476 [==============================] - 176s 369ms/step - loss: 0.2511 - accuracy: 0.9610 - precision: 0.9528 - recall: 0.9700\n",
            "Epoch 15/30\n",
            "476/476 [==============================] - 176s 369ms/step - loss: 0.2497 - accuracy: 0.9582 - precision: 0.9503 - recall: 0.9667\n",
            "Epoch 16/30\n",
            "476/476 [==============================] - 176s 369ms/step - loss: 0.2398 - accuracy: 0.9619 - precision: 0.9546 - recall: 0.9697\n",
            "Epoch 17/30\n",
            "476/476 [==============================] - 176s 369ms/step - loss: 0.2472 - accuracy: 0.9563 - precision: 0.9498 - recall: 0.9634\n",
            "Epoch 18/30\n",
            "476/476 [==============================] - 176s 369ms/step - loss: 0.2295 - accuracy: 0.9610 - precision: 0.9550 - recall: 0.9673\n",
            "Epoch 19/30\n",
            "476/476 [==============================] - 176s 369ms/step - loss: 0.2289 - accuracy: 0.9629 - precision: 0.9561 - recall: 0.9701\n",
            "Epoch 20/30\n",
            "476/476 [==============================] - 176s 369ms/step - loss: 0.2190 - accuracy: 0.9640 - precision: 0.9587 - recall: 0.9696\n",
            "Epoch 21/30\n",
            "476/476 [==============================] - 176s 369ms/step - loss: 0.2275 - accuracy: 0.9605 - precision: 0.9534 - recall: 0.9681\n",
            "Epoch 22/30\n",
            "476/476 [==============================] - 176s 369ms/step - loss: 0.2151 - accuracy: 0.9665 - precision: 0.9619 - recall: 0.9713\n",
            "Epoch 23/30\n",
            "476/476 [==============================] - 176s 369ms/step - loss: 0.2211 - accuracy: 0.9615 - precision: 0.9554 - recall: 0.9680\n",
            "Epoch 24/30\n",
            "476/476 [==============================] - 176s 369ms/step - loss: 0.2109 - accuracy: 0.9658 - precision: 0.9591 - recall: 0.9730\n",
            "Epoch 25/30\n",
            "476/476 [==============================] - 176s 369ms/step - loss: 0.2082 - accuracy: 0.9653 - precision: 0.9610 - recall: 0.9698\n",
            "Epoch 26/30\n",
            "476/476 [==============================] - 176s 369ms/step - loss: 0.2088 - accuracy: 0.9638 - precision: 0.9579 - recall: 0.9701\n",
            "Epoch 27/30\n",
            "476/476 [==============================] - 176s 369ms/step - loss: 0.2077 - accuracy: 0.9652 - precision: 0.9594 - recall: 0.9714\n",
            "Epoch 28/30\n",
            "476/476 [==============================] - 176s 369ms/step - loss: 0.2052 - accuracy: 0.9652 - precision: 0.9599 - recall: 0.9708\n",
            "Epoch 29/30\n",
            "476/476 [==============================] - 176s 369ms/step - loss: 0.2031 - accuracy: 0.9672 - precision: 0.9622 - recall: 0.9725\n",
            "Epoch 30/30\n",
            "476/476 [==============================] - 176s 369ms/step - loss: 0.2024 - accuracy: 0.9654 - precision: 0.9608 - recall: 0.9704\n",
            "<keras.callbacks.History object at 0x7f6428e14a60>\n"
          ]
        }
      ],
      "source": [
        "history = model.fit(X_train, y_train, batch_size=32, epochs=30)\n",
        "print(history)"
      ]
    },
    {
      "cell_type": "code",
      "execution_count": null,
      "metadata": {
        "colab": {
          "base_uri": "https://localhost:8080/",
          "height": 295
        },
        "id": "y-8mSk13cqg0",
        "outputId": "dc010afa-6535-4b18-e392-a52b7061bbb6"
      },
      "outputs": [
        {
          "output_type": "display_data",
          "data": {
            "text/plain": [
              "<Figure size 432x288 with 1 Axes>"
            ],
            "image/png": "[encoded data removed]"
          },
          "metadata": {
            "needs_background": "light"
          }
        }
      ],
      "source": [
        "#Plotting the loss Vs Epoch Graph\n",
        "\n",
        "import matplotlib.pyplot as plt\n",
        "\n",
        "plt.plot(history.history['loss'])\n",
        "plt.title('Loss VS Epoch')\n",
        "plt.xlabel('Epochs')\n",
        "plt.ylabel('Loss')\n",
        "plt.show()\n"
      ]
    },
    {
      "cell_type": "code",
      "source": [
        "#plotting accuracy vs epoch\n",
        "import matplotlib.pyplot as plt\n",
        "\n",
        "plt.plot(history.history['accuracy'])\n",
        "plt.title('Accuracy VS Epoch')\n",
        "plt.xlabel('Epochs')\n",
        "plt.ylabel('Accuracy')\n",
        "plt.show()\n"
      ],
      "metadata": {
        "id": "SYGT4PmxoZk7"
      },
      "execution_count": null,
      "outputs": []
    },
    {
      "cell_type": "code",
      "source": [
        "#plotting accuracy vs epoch\n",
        "import matplotlib.pyplot as plt\n",
        "\n",
        "plt.plot(history.history['accuracy'])\n",
        "plt.title('Accuracy VS Epoch')\n",
        "plt.xlabel('Epochs')\n",
        "plt.ylabel('Accuracy')\n",
        "plt.show()\n"
      ],
      "metadata": {
        "colab": {
          "base_uri": "https://localhost:8080/",
          "height": 295
        },
        "id": "cLEiWtD_9RcZ",
        "outputId": "be76969c-b1da-4c7f-da8e-fff631a245da"
      },
      "execution_count": null,
      "outputs": [
        {
          "output_type": "display_data",
          "data": {
            "text/plain": [
              "<Figure size 432x288 with 1 Axes>"
            ],
            "image/png": "[encoded data removed]"
          },
          "metadata": {
            "needs_background": "light"
          }
        }
      ]
    },
    {
      "cell_type": "markdown",
      "metadata": {
        "id": "saoi7gCjgTlt"
      },
      "source": [
        "##Evaluating the model on the Test test"
      ]
    },
    {
      "cell_type": "code",
      "execution_count": null,
      "metadata": {
        "colab": {
          "base_uri": "https://localhost:8080/"
        },
        "id": "5QlwpwAC5qWu",
        "outputId": "5e40c0b3-9f51-472e-fa6b-274e814a1392"
      },
      "outputs": [
        {
          "output_type": "stream",
          "name": "stdout",
          "text": [
            "119/119 [==============================] - 52s 427ms/step - loss: 0.2112 - accuracy: 0.9711 - precision: 0.9814 - recall: 0.9609\n"
          ]
        },
        {
          "output_type": "execute_result",
          "data": {
            "text/plain": [
              "[0.21119791269302368,\n",
              " 0.9710982441902161,\n",
              " 0.9813730716705322,\n",
              " 0.9609171152114868]"
            ]
          },
          "metadata": {},
          "execution_count": 31
        }
      ],
      "source": [
        "model.evaluate(X_test, y_test)"
      ]
    },
    {
      "cell_type": "code",
      "execution_count": null,
      "metadata": {
        "id": "3gZYqzEk50kK"
      },
      "outputs": [],
      "source": [
        "y_predicted = model.predict(X_test)\n",
        "y_predicted = y_predicted.flatten()"
      ]
    },
    {
      "cell_type": "code",
      "execution_count": null,
      "metadata": {
        "id": "G6xdJAfNDmar"
      },
      "outputs": [],
      "source": [
        "y_test[:100]"
      ]
    },
    {
      "cell_type": "code",
      "execution_count": null,
      "metadata": {
        "id": "WhKAAHgw2yyo"
      },
      "outputs": [],
      "source": [
        "y_predicted[:100]"
      ]
    },
    {
      "cell_type": "markdown",
      "metadata": {
        "id": "oKAcYocqgvwc"
      },
      "source": [
        "## Evaluating the Model Performance"
      ]
    },
    {
      "cell_type": "code",
      "execution_count": null,
      "metadata": {
        "colab": {
          "base_uri": "https://localhost:8080/"
        },
        "id": "tKfYP1Qn6Bm8",
        "outputId": "ba688bbe-27a3-40a1-d236-c4c7d7cac9d9"
      },
      "outputs": [
        {
          "output_type": "execute_result",
          "data": {
            "text/plain": [
              "array([0, 0, 1, ..., 1, 0, 1])"
            ]
          },
          "metadata": {},
          "execution_count": 35
        }
      ],
      "source": [
        "import numpy as np\n",
        "\n",
        "y_predicted = np.where(y_predicted > 0.5, 1, 0)\n",
        "y_predicted"
      ]
    },
    {
      "cell_type": "code",
      "execution_count": null,
      "metadata": {
        "id": "ND1lIe4D241x"
      },
      "outputs": [],
      "source": []
    },
    {
      "cell_type": "code",
      "execution_count": null,
      "metadata": {
        "colab": {
          "base_uri": "https://localhost:8080/"
        },
        "id": "_73SgtUj6CzZ",
        "outputId": "88c06189-3e48-41c1-9936-e40733ffbb53"
      },
      "outputs": [
        {
          "output_type": "execute_result",
          "data": {
            "text/plain": [
              "array([[1852,   35],\n",
              "       [  75, 1844]])"
            ]
          },
          "metadata": {},
          "execution_count": 36
        }
      ],
      "source": [
        "from sklearn.metrics import confusion_matrix, classification_report\n",
        "\n",
        "cm = confusion_matrix(y_test, y_predicted)\n",
        "cm"
      ]
    },
    {
      "cell_type": "code",
      "execution_count": null,
      "metadata": {
        "colab": {
          "base_uri": "https://localhost:8080/",
          "height": 555
        },
        "id": "55N_VlORv9RS",
        "outputId": "8f1cc5eb-f318-4253-bd6e-b1d4b5eb2518"
      },
      "outputs": [
        {
          "output_type": "display_data",
          "data": {
            "text/plain": [
              "<Figure size 800x600 with 2 Axes>"
            ],
            "image/png": "[encoded data removed]"
          },
          "metadata": {
            "needs_background": "light"
          }
        }
      ],
      "source": [
        "#Displaying Confusion matrix\n",
        "import matplotlib.pyplot as plt\n",
        "from sklearn.metrics import ConfusionMatrixDisplay\n",
        "\n",
        "\n",
        "\n",
        "# Change figure size and increase dpi for better resolution\n",
        "# and get reference to axes object\n",
        "fig, ax = plt.subplots(figsize=(8,6), dpi=100)\n",
        "\n",
        "# initialize using the raw 2D confusion matrix\n",
        "# and output labels (in our case, it's 0 and 1)\n",
        "display = ConfusionMatrixDisplay(cm)\n",
        "\n",
        "# set the plot title using the axes object\n",
        "ax.set(title='Confusion Matrix for the Fake News Detection Model')\n",
        "\n",
        "# show the plot.\n",
        "# Pass the parameter ax to show customizations (ex. title)\n",
        "display.plot(ax=ax);"
      ]
    },
    {
      "cell_type": "code",
      "execution_count": null,
      "metadata": {
        "colab": {
          "base_uri": "https://localhost:8080/"
        },
        "id": "f9E4SPNw6OVc",
        "outputId": "082d3725-3f2a-4e0d-ee92-e05a676558eb"
      },
      "outputs": [
        {
          "output_type": "stream",
          "name": "stdout",
          "text": [
            "              precision    recall  f1-score   support\n",
            "\n",
            "           0       0.96      0.98      0.97      1887\n",
            "           1       0.98      0.96      0.97      1919\n",
            "\n",
            "    accuracy                           0.97      3806\n",
            "   macro avg       0.97      0.97      0.97      3806\n",
            "weighted avg       0.97      0.97      0.97      3806\n",
            "\n"
          ]
        }
      ],
      "source": [
        "print(classification_report(y_test, y_predicted))"
      ]
    },
    {
      "cell_type": "code",
      "source": [
        "import numpy as np\n",
        "y_test_array = y_test.values\n",
        "\n",
        "# use boolean indexing to select only the 0s and 1s\n",
        "y_test_01 = y_test_array[(y_test_array == 0) | (y_test_array == 1)]\n",
        "arr1=np.array(y_test_01)\n",
        "print(arr1)"
      ],
      "metadata": {
        "colab": {
          "base_uri": "https://localhost:8080/"
        },
        "id": "uY7GV-G0uYSW",
        "outputId": "72164ba1-e8c9-416f-f3f2-e396ea8c846c"
      },
      "execution_count": null,
      "outputs": [
        {
          "output_type": "stream",
          "name": "stdout",
          "text": [
            "[1 0 1 ... 1 0 1]\n"
          ]
        }
      ]
    },
    {
      "cell_type": "code",
      "source": [
        "import matplotlib.pyplot as plt\n",
        "y_pred = y_predicted  # Make predictions on the test data\n",
        "y_pred_rounded = [round(pred) for pred in y_pred]  # Round the predictions to 0 or 1\n",
        "\n",
        "# Calculate the length of each description in the test data\n",
        "desc_lengths = [len(desc.split()) for desc in X_test]\n",
        "\n",
        "# Create two lists to store the x and y coordinates of the points to be plotted\n",
        "x_coords = []\n",
        "y_coords = []\n",
        "\n",
        "#for checking if plot  is working correctly\n",
        "\n",
        "    #y_pred=np.append(y_pred,0.6)\n",
        "    #y_pred=np.append(y_pred,0.4)\n",
        "\n",
        "    #desc_lengths=np.append(desc_lengths,1000)\n",
        "    #desc_lengths=np.append(desc_lengths,1000)\n",
        "    #plt.scatter(desc_lengths[0], y_pred[0], color='green')\n",
        "    #plt.scatter(desc_lengths[0], y_pred[0], color='red')\n",
        "\n",
        "# Iterate over the predictions and actual values and add the corresponding points to the lists\n",
        "for i in range(len(arr1[:100])):\n",
        "\n",
        "    if y_pred_rounded[i] == arr1[i]:\n",
        "        color = 'green'  # If the prediction is correct, plot the point as green\n",
        "    else:\n",
        "        color = 'red'  # If the prediction is incorrect, plot the point as red\n",
        "    x_coords.append(desc_lengths[i])\n",
        "    y_coords.append(y_pred[i])\n",
        "    plt.scatter(desc_lengths[i], y_pred[i],s=1, color=color)\n",
        "\n",
        "# Set the x and y labels for the plot\n",
        "plt.xlabel('Length of description')\n",
        "plt.ylabel('Model prediction')\n",
        "\n",
        "\n",
        "#adding legend(not working correctly)\n",
        "\n",
        "#correct_patch = plt.plot([],[], marker=\"o\", ms=5, ls=\"\", mec=None, color='green', label='Correct Prediction')\n",
        "#incorrect_patch = plt.plot([],[], marker=\"o\", ms=5, ls=\"\", mec=None, color='red', label='Incorrect Prediction')\n",
        "#plt.legend(handles=[correct_patch[0], incorrect_patch[0]])\n",
        "\n",
        "# Show the plot\n",
        "\n",
        "plt.ylim(-0.1,1.1)\n",
        "plt.show()"
      ],
      "metadata": {
        "colab": {
          "base_uri": "https://localhost:8080/",
          "height": 279
        },
        "id": "17ODb0SEuNH7",
        "outputId": "a4f8461d-c47c-44ac-cafd-433d8e0e0bbd"
      },
      "execution_count": null,
      "outputs": [
        {
          "output_type": "display_data",
          "data": {
            "text/plain": [
              "<Figure size 432x288 with 1 Axes>"
            ],
            "image/png": "[encoded data removed]"
          },
          "metadata": {
            "needs_background": "light"
          }
        }
      ]
    },
    {
      "cell_type": "code",
      "source": [
        "import tensorflow as tf\n",
        "print(tf.__version__)\n",
        "\n"
      ],
      "metadata": {
        "colab": {
          "base_uri": "https://localhost:8080/"
        },
        "id": "PwHcQ2-ZKYiW",
        "outputId": "24f57fa5-a43e-499c-c559-63426c474d6c"
      },
      "execution_count": null,
      "outputs": [
        {
          "output_type": "stream",
          "name": "stdout",
          "text": [
            "2.11.0\n"
          ]
        }
      ]
    },
    {
      "cell_type": "code",
      "source": [
        "# Save the model\n",
        "model.save('/content/drive/My Drive/FakeNewsDetection/model5.h5')"
      ],
      "metadata": {
        "id": "9YfaG-VF5b0S"
      },
      "execution_count": null,
      "outputs": []
    },
    {
      "cell_type": "code",
      "source": [
        "#saving of trained model\n",
        "tf.saved_model.save(model,\"/content/drive/My Drive/FakeNewsDetection/model2\")"
      ],
      "metadata": {
        "id": "HoNsH3mgqSLC"
      },
      "execution_count": null,
      "outputs": []
    },
    {
      "cell_type": "markdown",
      "metadata": {
        "id": "xiAoCLopg_CO"
      },
      "source": [
        "# Fake News Prediction using for Unseen DaTaSet"
      ]
    },
    {
      "cell_type": "code",
      "execution_count": null,
      "metadata": {
        "id": "o7qz_drS6Yux"
      },
      "outputs": [],
      "source": [
        "#testing on a new data\n",
        "def get_prediction(news_description):\n",
        "  probability = model.predict([[news_description]])\n",
        "  if probability>0.5:\n",
        "      return 'fake'\n",
        "\n",
        "  elif probability<0.5:\n",
        "     return 'real'"
      ]
    },
    {
      "cell_type": "code",
      "source": [
        "#for fake news prediction\n",
        "model.predict([\"ग्रेट ब्रिटेनको बकिंघम प्यालेसले हिजो घोषणा गर्‍यो कि प्रिन्स ह्यारी, डायनाका कान्छो छोरा, वेल्सको राजकुमारी, इन्गेजमेन्ट भएको छ। युनाइटेड\"])"
      ],
      "metadata": {
        "colab": {
          "base_uri": "https://localhost:8080/"
        },
        "id": "z-Wwf_sjzcDh",
        "outputId": "c5322792-8640-47c7-8a5a-e60987f67a86"
      },
      "execution_count": null,
      "outputs": [
        {
          "output_type": "stream",
          "name": "stdout",
          "text": [
            "1/1 [==============================] - 0s 48ms/step\n"
          ]
        },
        {
          "output_type": "execute_result",
          "data": {
            "text/plain": [
              "array([[0.41143483]], dtype=float32)"
            ]
          },
          "metadata": {},
          "execution_count": 47
        }
      ]
    },
    {
      "cell_type": "code",
      "source": [
        "#for true news prediction\n",
        "true_news=\"नेपाल क्रिकेट संघ (क्यान) का सात पदाधिकारीले मंगलबार क्यानको बोर्ड बैठकमा राजीनामा माग गर्दै पत्र बुझाए । क्यान अध्यक्ष चतुरबहादुर चन्द, कोषाध्यक्ष रोशन सिंह र प्रशान्तविक्रम मल्ललगायतको राजीनामा माग गर्दै पत्र बुझाएका थिए ।\"\n",
        "get_prediction(true_news)"
      ],
      "metadata": {
        "colab": {
          "base_uri": "https://localhost:8080/",
          "height": 52
        },
        "id": "SINByzXWzbm4",
        "outputId": "afc2f417-2488-4de7-b69f-96eff7b11166"
      },
      "execution_count": null,
      "outputs": [
        {
          "output_type": "stream",
          "name": "stdout",
          "text": [
            "1/1 [==============================] - 0s 49ms/step\n"
          ]
        },
        {
          "output_type": "execute_result",
          "data": {
            "text/plain": [
              "'real'"
            ],
            "application/vnd.google.colaboratory.intrinsic+json": {
              "type": "string"
            }
          },
          "metadata": {},
          "execution_count": 48
        }
      ]
    }
  ],
  "metadata": {
    "accelerator": "GPU",
    "colab": {
      "provenance": []
    },
    "gpuClass": "standard",
    "kernelspec": {
      "display_name": "Python 3",
      "name": "python3"
    },
    "language_info": {
      "name": "python"
    }
  },
  "nbformat": 4,
  "nbformat_minor": 0
}